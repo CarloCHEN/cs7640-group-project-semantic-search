{
  "nbformat": 4,
  "nbformat_minor": 0,
  "metadata": {
    "colab": {
      "provenance": [],
      "machine_shape": "hm"
    },
    "kernelspec": {
      "name": "python3",
      "display_name": "Python 3"
    },
    "language_info": {
      "name": "python"
    },
    "gpuClass": "premium",
    "accelerator": "GPU",
    "widgets": {
      "application/vnd.jupyter.widget-state+json": {
        "953c45bc7e4b4939a69d6ceb23c514f0": {
          "model_module": "@jupyter-widgets/controls",
          "model_name": "HBoxModel",
          "model_module_version": "1.5.0",
          "state": {
            "_dom_classes": [],
            "_model_module": "@jupyter-widgets/controls",
            "_model_module_version": "1.5.0",
            "_model_name": "HBoxModel",
            "_view_count": null,
            "_view_module": "@jupyter-widgets/controls",
            "_view_module_version": "1.5.0",
            "_view_name": "HBoxView",
            "box_style": "",
            "children": [
              "IPY_MODEL_e4716c0568b844b6a901216a7f35a1e7",
              "IPY_MODEL_05374c8a38cc4b4a827a868199ffd957",
              "IPY_MODEL_3c041cac01334075a086b1cc2b278abe"
            ],
            "layout": "IPY_MODEL_7691c70feb4248c1b1d3907329a283ac"
          }
        },
        "e4716c0568b844b6a901216a7f35a1e7": {
          "model_module": "@jupyter-widgets/controls",
          "model_name": "HTMLModel",
          "model_module_version": "1.5.0",
          "state": {
            "_dom_classes": [],
            "_model_module": "@jupyter-widgets/controls",
            "_model_module_version": "1.5.0",
            "_model_name": "HTMLModel",
            "_view_count": null,
            "_view_module": "@jupyter-widgets/controls",
            "_view_module_version": "1.5.0",
            "_view_name": "HTMLView",
            "description": "",
            "description_tooltip": null,
            "layout": "IPY_MODEL_7f4ca2c1c8c54c4ab700018a1cf5a036",
            "placeholder": "​",
            "style": "IPY_MODEL_3592682d84c44557b697acc83c322add",
            "value": "Downloading: 100%"
          }
        },
        "05374c8a38cc4b4a827a868199ffd957": {
          "model_module": "@jupyter-widgets/controls",
          "model_name": "FloatProgressModel",
          "model_module_version": "1.5.0",
          "state": {
            "_dom_classes": [],
            "_model_module": "@jupyter-widgets/controls",
            "_model_module_version": "1.5.0",
            "_model_name": "FloatProgressModel",
            "_view_count": null,
            "_view_module": "@jupyter-widgets/controls",
            "_view_module_version": "1.5.0",
            "_view_name": "ProgressView",
            "bar_style": "success",
            "description": "",
            "description_tooltip": null,
            "layout": "IPY_MODEL_059c48396d1f4d519850dd7b9a93aeca",
            "max": 690,
            "min": 0,
            "orientation": "horizontal",
            "style": "IPY_MODEL_aee44ca80f384ed59f7a12e6b258474e",
            "value": 690
          }
        },
        "3c041cac01334075a086b1cc2b278abe": {
          "model_module": "@jupyter-widgets/controls",
          "model_name": "HTMLModel",
          "model_module_version": "1.5.0",
          "state": {
            "_dom_classes": [],
            "_model_module": "@jupyter-widgets/controls",
            "_model_module_version": "1.5.0",
            "_model_name": "HTMLModel",
            "_view_count": null,
            "_view_module": "@jupyter-widgets/controls",
            "_view_module_version": "1.5.0",
            "_view_name": "HTMLView",
            "description": "",
            "description_tooltip": null,
            "layout": "IPY_MODEL_502c1bc07d044adbb2e04842a1ece2b6",
            "placeholder": "​",
            "style": "IPY_MODEL_9c55641424324ac18db1e81642c96258",
            "value": " 690/690 [00:00&lt;00:00, 26.2kB/s]"
          }
        },
        "7691c70feb4248c1b1d3907329a283ac": {
          "model_module": "@jupyter-widgets/base",
          "model_name": "LayoutModel",
          "model_module_version": "1.2.0",
          "state": {
            "_model_module": "@jupyter-widgets/base",
            "_model_module_version": "1.2.0",
            "_model_name": "LayoutModel",
            "_view_count": null,
            "_view_module": "@jupyter-widgets/base",
            "_view_module_version": "1.2.0",
            "_view_name": "LayoutView",
            "align_content": null,
            "align_items": null,
            "align_self": null,
            "border": null,
            "bottom": null,
            "display": null,
            "flex": null,
            "flex_flow": null,
            "grid_area": null,
            "grid_auto_columns": null,
            "grid_auto_flow": null,
            "grid_auto_rows": null,
            "grid_column": null,
            "grid_gap": null,
            "grid_row": null,
            "grid_template_areas": null,
            "grid_template_columns": null,
            "grid_template_rows": null,
            "height": null,
            "justify_content": null,
            "justify_items": null,
            "left": null,
            "margin": null,
            "max_height": null,
            "max_width": null,
            "min_height": null,
            "min_width": null,
            "object_fit": null,
            "object_position": null,
            "order": null,
            "overflow": null,
            "overflow_x": null,
            "overflow_y": null,
            "padding": null,
            "right": null,
            "top": null,
            "visibility": null,
            "width": null
          }
        },
        "7f4ca2c1c8c54c4ab700018a1cf5a036": {
          "model_module": "@jupyter-widgets/base",
          "model_name": "LayoutModel",
          "model_module_version": "1.2.0",
          "state": {
            "_model_module": "@jupyter-widgets/base",
            "_model_module_version": "1.2.0",
            "_model_name": "LayoutModel",
            "_view_count": null,
            "_view_module": "@jupyter-widgets/base",
            "_view_module_version": "1.2.0",
            "_view_name": "LayoutView",
            "align_content": null,
            "align_items": null,
            "align_self": null,
            "border": null,
            "bottom": null,
            "display": null,
            "flex": null,
            "flex_flow": null,
            "grid_area": null,
            "grid_auto_columns": null,
            "grid_auto_flow": null,
            "grid_auto_rows": null,
            "grid_column": null,
            "grid_gap": null,
            "grid_row": null,
            "grid_template_areas": null,
            "grid_template_columns": null,
            "grid_template_rows": null,
            "height": null,
            "justify_content": null,
            "justify_items": null,
            "left": null,
            "margin": null,
            "max_height": null,
            "max_width": null,
            "min_height": null,
            "min_width": null,
            "object_fit": null,
            "object_position": null,
            "order": null,
            "overflow": null,
            "overflow_x": null,
            "overflow_y": null,
            "padding": null,
            "right": null,
            "top": null,
            "visibility": null,
            "width": null
          }
        },
        "3592682d84c44557b697acc83c322add": {
          "model_module": "@jupyter-widgets/controls",
          "model_name": "DescriptionStyleModel",
          "model_module_version": "1.5.0",
          "state": {
            "_model_module": "@jupyter-widgets/controls",
            "_model_module_version": "1.5.0",
            "_model_name": "DescriptionStyleModel",
            "_view_count": null,
            "_view_module": "@jupyter-widgets/base",
            "_view_module_version": "1.2.0",
            "_view_name": "StyleView",
            "description_width": ""
          }
        },
        "059c48396d1f4d519850dd7b9a93aeca": {
          "model_module": "@jupyter-widgets/base",
          "model_name": "LayoutModel",
          "model_module_version": "1.2.0",
          "state": {
            "_model_module": "@jupyter-widgets/base",
            "_model_module_version": "1.2.0",
            "_model_name": "LayoutModel",
            "_view_count": null,
            "_view_module": "@jupyter-widgets/base",
            "_view_module_version": "1.2.0",
            "_view_name": "LayoutView",
            "align_content": null,
            "align_items": null,
            "align_self": null,
            "border": null,
            "bottom": null,
            "display": null,
            "flex": null,
            "flex_flow": null,
            "grid_area": null,
            "grid_auto_columns": null,
            "grid_auto_flow": null,
            "grid_auto_rows": null,
            "grid_column": null,
            "grid_gap": null,
            "grid_row": null,
            "grid_template_areas": null,
            "grid_template_columns": null,
            "grid_template_rows": null,
            "height": null,
            "justify_content": null,
            "justify_items": null,
            "left": null,
            "margin": null,
            "max_height": null,
            "max_width": null,
            "min_height": null,
            "min_width": null,
            "object_fit": null,
            "object_position": null,
            "order": null,
            "overflow": null,
            "overflow_x": null,
            "overflow_y": null,
            "padding": null,
            "right": null,
            "top": null,
            "visibility": null,
            "width": null
          }
        },
        "aee44ca80f384ed59f7a12e6b258474e": {
          "model_module": "@jupyter-widgets/controls",
          "model_name": "ProgressStyleModel",
          "model_module_version": "1.5.0",
          "state": {
            "_model_module": "@jupyter-widgets/controls",
            "_model_module_version": "1.5.0",
            "_model_name": "ProgressStyleModel",
            "_view_count": null,
            "_view_module": "@jupyter-widgets/base",
            "_view_module_version": "1.2.0",
            "_view_name": "StyleView",
            "bar_color": null,
            "description_width": ""
          }
        },
        "502c1bc07d044adbb2e04842a1ece2b6": {
          "model_module": "@jupyter-widgets/base",
          "model_name": "LayoutModel",
          "model_module_version": "1.2.0",
          "state": {
            "_model_module": "@jupyter-widgets/base",
            "_model_module_version": "1.2.0",
            "_model_name": "LayoutModel",
            "_view_count": null,
            "_view_module": "@jupyter-widgets/base",
            "_view_module_version": "1.2.0",
            "_view_name": "LayoutView",
            "align_content": null,
            "align_items": null,
            "align_self": null,
            "border": null,
            "bottom": null,
            "display": null,
            "flex": null,
            "flex_flow": null,
            "grid_area": null,
            "grid_auto_columns": null,
            "grid_auto_flow": null,
            "grid_auto_rows": null,
            "grid_column": null,
            "grid_gap": null,
            "grid_row": null,
            "grid_template_areas": null,
            "grid_template_columns": null,
            "grid_template_rows": null,
            "height": null,
            "justify_content": null,
            "justify_items": null,
            "left": null,
            "margin": null,
            "max_height": null,
            "max_width": null,
            "min_height": null,
            "min_width": null,
            "object_fit": null,
            "object_position": null,
            "order": null,
            "overflow": null,
            "overflow_x": null,
            "overflow_y": null,
            "padding": null,
            "right": null,
            "top": null,
            "visibility": null,
            "width": null
          }
        },
        "9c55641424324ac18db1e81642c96258": {
          "model_module": "@jupyter-widgets/controls",
          "model_name": "DescriptionStyleModel",
          "model_module_version": "1.5.0",
          "state": {
            "_model_module": "@jupyter-widgets/controls",
            "_model_module_version": "1.5.0",
            "_model_name": "DescriptionStyleModel",
            "_view_count": null,
            "_view_module": "@jupyter-widgets/base",
            "_view_module_version": "1.2.0",
            "_view_name": "StyleView",
            "description_width": ""
          }
        },
        "1abadb84426a471fbeacd6adb5c6f678": {
          "model_module": "@jupyter-widgets/controls",
          "model_name": "HBoxModel",
          "model_module_version": "1.5.0",
          "state": {
            "_dom_classes": [],
            "_model_module": "@jupyter-widgets/controls",
            "_model_module_version": "1.5.0",
            "_model_name": "HBoxModel",
            "_view_count": null,
            "_view_module": "@jupyter-widgets/controls",
            "_view_module_version": "1.5.0",
            "_view_name": "HBoxView",
            "box_style": "",
            "children": [
              "IPY_MODEL_fd76272c31a0466a88ba20f1c0750228",
              "IPY_MODEL_c96043714d1c4b3593f4f9511e2416d7",
              "IPY_MODEL_6bbad9b522474f6b9d7e967d0641fc6f"
            ],
            "layout": "IPY_MODEL_e21707d65e3a4f63865d74ab66ef3821"
          }
        },
        "fd76272c31a0466a88ba20f1c0750228": {
          "model_module": "@jupyter-widgets/controls",
          "model_name": "HTMLModel",
          "model_module_version": "1.5.0",
          "state": {
            "_dom_classes": [],
            "_model_module": "@jupyter-widgets/controls",
            "_model_module_version": "1.5.0",
            "_model_name": "HTMLModel",
            "_view_count": null,
            "_view_module": "@jupyter-widgets/controls",
            "_view_module_version": "1.5.0",
            "_view_name": "HTMLView",
            "description": "",
            "description_tooltip": null,
            "layout": "IPY_MODEL_ba9ae3cd4a2d4b66ae846614a8e2d8ac",
            "placeholder": "​",
            "style": "IPY_MODEL_df1065ef0905449680103e9c633e2b7c",
            "value": "Downloading: 100%"
          }
        },
        "c96043714d1c4b3593f4f9511e2416d7": {
          "model_module": "@jupyter-widgets/controls",
          "model_name": "FloatProgressModel",
          "model_module_version": "1.5.0",
          "state": {
            "_dom_classes": [],
            "_model_module": "@jupyter-widgets/controls",
            "_model_module_version": "1.5.0",
            "_model_name": "FloatProgressModel",
            "_view_count": null,
            "_view_module": "@jupyter-widgets/controls",
            "_view_module_version": "1.5.0",
            "_view_name": "ProgressView",
            "bar_style": "success",
            "description": "",
            "description_tooltip": null,
            "layout": "IPY_MODEL_42bea398d75c49ae8ca1adb9dd5b7217",
            "max": 190,
            "min": 0,
            "orientation": "horizontal",
            "style": "IPY_MODEL_6e872c9ab90b4f03824b5ab79997e54a",
            "value": 190
          }
        },
        "6bbad9b522474f6b9d7e967d0641fc6f": {
          "model_module": "@jupyter-widgets/controls",
          "model_name": "HTMLModel",
          "model_module_version": "1.5.0",
          "state": {
            "_dom_classes": [],
            "_model_module": "@jupyter-widgets/controls",
            "_model_module_version": "1.5.0",
            "_model_name": "HTMLModel",
            "_view_count": null,
            "_view_module": "@jupyter-widgets/controls",
            "_view_module_version": "1.5.0",
            "_view_name": "HTMLView",
            "description": "",
            "description_tooltip": null,
            "layout": "IPY_MODEL_f9eeca296cab4186a43c5e544e525bd6",
            "placeholder": "​",
            "style": "IPY_MODEL_6a6af6920794419d9da64eaa04309b46",
            "value": " 190/190 [00:00&lt;00:00, 7.66kB/s]"
          }
        },
        "e21707d65e3a4f63865d74ab66ef3821": {
          "model_module": "@jupyter-widgets/base",
          "model_name": "LayoutModel",
          "model_module_version": "1.2.0",
          "state": {
            "_model_module": "@jupyter-widgets/base",
            "_model_module_version": "1.2.0",
            "_model_name": "LayoutModel",
            "_view_count": null,
            "_view_module": "@jupyter-widgets/base",
            "_view_module_version": "1.2.0",
            "_view_name": "LayoutView",
            "align_content": null,
            "align_items": null,
            "align_self": null,
            "border": null,
            "bottom": null,
            "display": null,
            "flex": null,
            "flex_flow": null,
            "grid_area": null,
            "grid_auto_columns": null,
            "grid_auto_flow": null,
            "grid_auto_rows": null,
            "grid_column": null,
            "grid_gap": null,
            "grid_row": null,
            "grid_template_areas": null,
            "grid_template_columns": null,
            "grid_template_rows": null,
            "height": null,
            "justify_content": null,
            "justify_items": null,
            "left": null,
            "margin": null,
            "max_height": null,
            "max_width": null,
            "min_height": null,
            "min_width": null,
            "object_fit": null,
            "object_position": null,
            "order": null,
            "overflow": null,
            "overflow_x": null,
            "overflow_y": null,
            "padding": null,
            "right": null,
            "top": null,
            "visibility": null,
            "width": null
          }
        },
        "ba9ae3cd4a2d4b66ae846614a8e2d8ac": {
          "model_module": "@jupyter-widgets/base",
          "model_name": "LayoutModel",
          "model_module_version": "1.2.0",
          "state": {
            "_model_module": "@jupyter-widgets/base",
            "_model_module_version": "1.2.0",
            "_model_name": "LayoutModel",
            "_view_count": null,
            "_view_module": "@jupyter-widgets/base",
            "_view_module_version": "1.2.0",
            "_view_name": "LayoutView",
            "align_content": null,
            "align_items": null,
            "align_self": null,
            "border": null,
            "bottom": null,
            "display": null,
            "flex": null,
            "flex_flow": null,
            "grid_area": null,
            "grid_auto_columns": null,
            "grid_auto_flow": null,
            "grid_auto_rows": null,
            "grid_column": null,
            "grid_gap": null,
            "grid_row": null,
            "grid_template_areas": null,
            "grid_template_columns": null,
            "grid_template_rows": null,
            "height": null,
            "justify_content": null,
            "justify_items": null,
            "left": null,
            "margin": null,
            "max_height": null,
            "max_width": null,
            "min_height": null,
            "min_width": null,
            "object_fit": null,
            "object_position": null,
            "order": null,
            "overflow": null,
            "overflow_x": null,
            "overflow_y": null,
            "padding": null,
            "right": null,
            "top": null,
            "visibility": null,
            "width": null
          }
        },
        "df1065ef0905449680103e9c633e2b7c": {
          "model_module": "@jupyter-widgets/controls",
          "model_name": "DescriptionStyleModel",
          "model_module_version": "1.5.0",
          "state": {
            "_model_module": "@jupyter-widgets/controls",
            "_model_module_version": "1.5.0",
            "_model_name": "DescriptionStyleModel",
            "_view_count": null,
            "_view_module": "@jupyter-widgets/base",
            "_view_module_version": "1.2.0",
            "_view_name": "StyleView",
            "description_width": ""
          }
        },
        "42bea398d75c49ae8ca1adb9dd5b7217": {
          "model_module": "@jupyter-widgets/base",
          "model_name": "LayoutModel",
          "model_module_version": "1.2.0",
          "state": {
            "_model_module": "@jupyter-widgets/base",
            "_model_module_version": "1.2.0",
            "_model_name": "LayoutModel",
            "_view_count": null,
            "_view_module": "@jupyter-widgets/base",
            "_view_module_version": "1.2.0",
            "_view_name": "LayoutView",
            "align_content": null,
            "align_items": null,
            "align_self": null,
            "border": null,
            "bottom": null,
            "display": null,
            "flex": null,
            "flex_flow": null,
            "grid_area": null,
            "grid_auto_columns": null,
            "grid_auto_flow": null,
            "grid_auto_rows": null,
            "grid_column": null,
            "grid_gap": null,
            "grid_row": null,
            "grid_template_areas": null,
            "grid_template_columns": null,
            "grid_template_rows": null,
            "height": null,
            "justify_content": null,
            "justify_items": null,
            "left": null,
            "margin": null,
            "max_height": null,
            "max_width": null,
            "min_height": null,
            "min_width": null,
            "object_fit": null,
            "object_position": null,
            "order": null,
            "overflow": null,
            "overflow_x": null,
            "overflow_y": null,
            "padding": null,
            "right": null,
            "top": null,
            "visibility": null,
            "width": null
          }
        },
        "6e872c9ab90b4f03824b5ab79997e54a": {
          "model_module": "@jupyter-widgets/controls",
          "model_name": "ProgressStyleModel",
          "model_module_version": "1.5.0",
          "state": {
            "_model_module": "@jupyter-widgets/controls",
            "_model_module_version": "1.5.0",
            "_model_name": "ProgressStyleModel",
            "_view_count": null,
            "_view_module": "@jupyter-widgets/base",
            "_view_module_version": "1.2.0",
            "_view_name": "StyleView",
            "bar_color": null,
            "description_width": ""
          }
        },
        "f9eeca296cab4186a43c5e544e525bd6": {
          "model_module": "@jupyter-widgets/base",
          "model_name": "LayoutModel",
          "model_module_version": "1.2.0",
          "state": {
            "_model_module": "@jupyter-widgets/base",
            "_model_module_version": "1.2.0",
            "_model_name": "LayoutModel",
            "_view_count": null,
            "_view_module": "@jupyter-widgets/base",
            "_view_module_version": "1.2.0",
            "_view_name": "LayoutView",
            "align_content": null,
            "align_items": null,
            "align_self": null,
            "border": null,
            "bottom": null,
            "display": null,
            "flex": null,
            "flex_flow": null,
            "grid_area": null,
            "grid_auto_columns": null,
            "grid_auto_flow": null,
            "grid_auto_rows": null,
            "grid_column": null,
            "grid_gap": null,
            "grid_row": null,
            "grid_template_areas": null,
            "grid_template_columns": null,
            "grid_template_rows": null,
            "height": null,
            "justify_content": null,
            "justify_items": null,
            "left": null,
            "margin": null,
            "max_height": null,
            "max_width": null,
            "min_height": null,
            "min_width": null,
            "object_fit": null,
            "object_position": null,
            "order": null,
            "overflow": null,
            "overflow_x": null,
            "overflow_y": null,
            "padding": null,
            "right": null,
            "top": null,
            "visibility": null,
            "width": null
          }
        },
        "6a6af6920794419d9da64eaa04309b46": {
          "model_module": "@jupyter-widgets/controls",
          "model_name": "DescriptionStyleModel",
          "model_module_version": "1.5.0",
          "state": {
            "_model_module": "@jupyter-widgets/controls",
            "_model_module_version": "1.5.0",
            "_model_name": "DescriptionStyleModel",
            "_view_count": null,
            "_view_module": "@jupyter-widgets/base",
            "_view_module_version": "1.2.0",
            "_view_name": "StyleView",
            "description_width": ""
          }
        },
        "9f664bb5db954cee9395981a58aa871b": {
          "model_module": "@jupyter-widgets/controls",
          "model_name": "HBoxModel",
          "model_module_version": "1.5.0",
          "state": {
            "_dom_classes": [],
            "_model_module": "@jupyter-widgets/controls",
            "_model_module_version": "1.5.0",
            "_model_name": "HBoxModel",
            "_view_count": null,
            "_view_module": "@jupyter-widgets/controls",
            "_view_module_version": "1.5.0",
            "_view_name": "HBoxView",
            "box_style": "",
            "children": [
              "IPY_MODEL_be3c41f3f2fd4ec3b70ef1bd9bbdc527",
              "IPY_MODEL_82199dd9f8424f9fbaff590a18747c25",
              "IPY_MODEL_b734f08d4f3f40a59b27b067c719ea50"
            ],
            "layout": "IPY_MODEL_6d654fcd712747518764b30e0c356995"
          }
        },
        "be3c41f3f2fd4ec3b70ef1bd9bbdc527": {
          "model_module": "@jupyter-widgets/controls",
          "model_name": "HTMLModel",
          "model_module_version": "1.5.0",
          "state": {
            "_dom_classes": [],
            "_model_module": "@jupyter-widgets/controls",
            "_model_module_version": "1.5.0",
            "_model_name": "HTMLModel",
            "_view_count": null,
            "_view_module": "@jupyter-widgets/controls",
            "_view_module_version": "1.5.0",
            "_view_name": "HTMLView",
            "description": "",
            "description_tooltip": null,
            "layout": "IPY_MODEL_1eb68be77e0745e18401d79ca8f9946a",
            "placeholder": "​",
            "style": "IPY_MODEL_919e52d0661b491e9851c530a64a6ebe",
            "value": "Downloading: 100%"
          }
        },
        "82199dd9f8424f9fbaff590a18747c25": {
          "model_module": "@jupyter-widgets/controls",
          "model_name": "FloatProgressModel",
          "model_module_version": "1.5.0",
          "state": {
            "_dom_classes": [],
            "_model_module": "@jupyter-widgets/controls",
            "_model_module_version": "1.5.0",
            "_model_name": "FloatProgressModel",
            "_view_count": null,
            "_view_module": "@jupyter-widgets/controls",
            "_view_module_version": "1.5.0",
            "_view_name": "ProgressView",
            "bar_style": "success",
            "description": "",
            "description_tooltip": null,
            "layout": "IPY_MODEL_e3855476d4f24e68a5e8504e8f405663",
            "max": 115,
            "min": 0,
            "orientation": "horizontal",
            "style": "IPY_MODEL_ab11141a0b774e57a8060672afc2ba6a",
            "value": 115
          }
        },
        "b734f08d4f3f40a59b27b067c719ea50": {
          "model_module": "@jupyter-widgets/controls",
          "model_name": "HTMLModel",
          "model_module_version": "1.5.0",
          "state": {
            "_dom_classes": [],
            "_model_module": "@jupyter-widgets/controls",
            "_model_module_version": "1.5.0",
            "_model_name": "HTMLModel",
            "_view_count": null,
            "_view_module": "@jupyter-widgets/controls",
            "_view_module_version": "1.5.0",
            "_view_name": "HTMLView",
            "description": "",
            "description_tooltip": null,
            "layout": "IPY_MODEL_eeae10a0e227421d837b5a75655e4112",
            "placeholder": "​",
            "style": "IPY_MODEL_3336e3ebc6c8424bb209caf20bdc161c",
            "value": " 115/115 [00:00&lt;00:00, 4.69kB/s]"
          }
        },
        "6d654fcd712747518764b30e0c356995": {
          "model_module": "@jupyter-widgets/base",
          "model_name": "LayoutModel",
          "model_module_version": "1.2.0",
          "state": {
            "_model_module": "@jupyter-widgets/base",
            "_model_module_version": "1.2.0",
            "_model_name": "LayoutModel",
            "_view_count": null,
            "_view_module": "@jupyter-widgets/base",
            "_view_module_version": "1.2.0",
            "_view_name": "LayoutView",
            "align_content": null,
            "align_items": null,
            "align_self": null,
            "border": null,
            "bottom": null,
            "display": null,
            "flex": null,
            "flex_flow": null,
            "grid_area": null,
            "grid_auto_columns": null,
            "grid_auto_flow": null,
            "grid_auto_rows": null,
            "grid_column": null,
            "grid_gap": null,
            "grid_row": null,
            "grid_template_areas": null,
            "grid_template_columns": null,
            "grid_template_rows": null,
            "height": null,
            "justify_content": null,
            "justify_items": null,
            "left": null,
            "margin": null,
            "max_height": null,
            "max_width": null,
            "min_height": null,
            "min_width": null,
            "object_fit": null,
            "object_position": null,
            "order": null,
            "overflow": null,
            "overflow_x": null,
            "overflow_y": null,
            "padding": null,
            "right": null,
            "top": null,
            "visibility": null,
            "width": null
          }
        },
        "1eb68be77e0745e18401d79ca8f9946a": {
          "model_module": "@jupyter-widgets/base",
          "model_name": "LayoutModel",
          "model_module_version": "1.2.0",
          "state": {
            "_model_module": "@jupyter-widgets/base",
            "_model_module_version": "1.2.0",
            "_model_name": "LayoutModel",
            "_view_count": null,
            "_view_module": "@jupyter-widgets/base",
            "_view_module_version": "1.2.0",
            "_view_name": "LayoutView",
            "align_content": null,
            "align_items": null,
            "align_self": null,
            "border": null,
            "bottom": null,
            "display": null,
            "flex": null,
            "flex_flow": null,
            "grid_area": null,
            "grid_auto_columns": null,
            "grid_auto_flow": null,
            "grid_auto_rows": null,
            "grid_column": null,
            "grid_gap": null,
            "grid_row": null,
            "grid_template_areas": null,
            "grid_template_columns": null,
            "grid_template_rows": null,
            "height": null,
            "justify_content": null,
            "justify_items": null,
            "left": null,
            "margin": null,
            "max_height": null,
            "max_width": null,
            "min_height": null,
            "min_width": null,
            "object_fit": null,
            "object_position": null,
            "order": null,
            "overflow": null,
            "overflow_x": null,
            "overflow_y": null,
            "padding": null,
            "right": null,
            "top": null,
            "visibility": null,
            "width": null
          }
        },
        "919e52d0661b491e9851c530a64a6ebe": {
          "model_module": "@jupyter-widgets/controls",
          "model_name": "DescriptionStyleModel",
          "model_module_version": "1.5.0",
          "state": {
            "_model_module": "@jupyter-widgets/controls",
            "_model_module_version": "1.5.0",
            "_model_name": "DescriptionStyleModel",
            "_view_count": null,
            "_view_module": "@jupyter-widgets/base",
            "_view_module_version": "1.2.0",
            "_view_name": "StyleView",
            "description_width": ""
          }
        },
        "e3855476d4f24e68a5e8504e8f405663": {
          "model_module": "@jupyter-widgets/base",
          "model_name": "LayoutModel",
          "model_module_version": "1.2.0",
          "state": {
            "_model_module": "@jupyter-widgets/base",
            "_model_module_version": "1.2.0",
            "_model_name": "LayoutModel",
            "_view_count": null,
            "_view_module": "@jupyter-widgets/base",
            "_view_module_version": "1.2.0",
            "_view_name": "LayoutView",
            "align_content": null,
            "align_items": null,
            "align_self": null,
            "border": null,
            "bottom": null,
            "display": null,
            "flex": null,
            "flex_flow": null,
            "grid_area": null,
            "grid_auto_columns": null,
            "grid_auto_flow": null,
            "grid_auto_rows": null,
            "grid_column": null,
            "grid_gap": null,
            "grid_row": null,
            "grid_template_areas": null,
            "grid_template_columns": null,
            "grid_template_rows": null,
            "height": null,
            "justify_content": null,
            "justify_items": null,
            "left": null,
            "margin": null,
            "max_height": null,
            "max_width": null,
            "min_height": null,
            "min_width": null,
            "object_fit": null,
            "object_position": null,
            "order": null,
            "overflow": null,
            "overflow_x": null,
            "overflow_y": null,
            "padding": null,
            "right": null,
            "top": null,
            "visibility": null,
            "width": null
          }
        },
        "ab11141a0b774e57a8060672afc2ba6a": {
          "model_module": "@jupyter-widgets/controls",
          "model_name": "ProgressStyleModel",
          "model_module_version": "1.5.0",
          "state": {
            "_model_module": "@jupyter-widgets/controls",
            "_model_module_version": "1.5.0",
            "_model_name": "ProgressStyleModel",
            "_view_count": null,
            "_view_module": "@jupyter-widgets/base",
            "_view_module_version": "1.2.0",
            "_view_name": "StyleView",
            "bar_color": null,
            "description_width": ""
          }
        },
        "eeae10a0e227421d837b5a75655e4112": {
          "model_module": "@jupyter-widgets/base",
          "model_name": "LayoutModel",
          "model_module_version": "1.2.0",
          "state": {
            "_model_module": "@jupyter-widgets/base",
            "_model_module_version": "1.2.0",
            "_model_name": "LayoutModel",
            "_view_count": null,
            "_view_module": "@jupyter-widgets/base",
            "_view_module_version": "1.2.0",
            "_view_name": "LayoutView",
            "align_content": null,
            "align_items": null,
            "align_self": null,
            "border": null,
            "bottom": null,
            "display": null,
            "flex": null,
            "flex_flow": null,
            "grid_area": null,
            "grid_auto_columns": null,
            "grid_auto_flow": null,
            "grid_auto_rows": null,
            "grid_column": null,
            "grid_gap": null,
            "grid_row": null,
            "grid_template_areas": null,
            "grid_template_columns": null,
            "grid_template_rows": null,
            "height": null,
            "justify_content": null,
            "justify_items": null,
            "left": null,
            "margin": null,
            "max_height": null,
            "max_width": null,
            "min_height": null,
            "min_width": null,
            "object_fit": null,
            "object_position": null,
            "order": null,
            "overflow": null,
            "overflow_x": null,
            "overflow_y": null,
            "padding": null,
            "right": null,
            "top": null,
            "visibility": null,
            "width": null
          }
        },
        "3336e3ebc6c8424bb209caf20bdc161c": {
          "model_module": "@jupyter-widgets/controls",
          "model_name": "DescriptionStyleModel",
          "model_module_version": "1.5.0",
          "state": {
            "_model_module": "@jupyter-widgets/controls",
            "_model_module_version": "1.5.0",
            "_model_name": "DescriptionStyleModel",
            "_view_count": null,
            "_view_module": "@jupyter-widgets/base",
            "_view_module_version": "1.2.0",
            "_view_name": "StyleView",
            "description_width": ""
          }
        },
        "d306ba72962d4b6aa04a9bec00155f5a": {
          "model_module": "@jupyter-widgets/controls",
          "model_name": "HBoxModel",
          "model_module_version": "1.5.0",
          "state": {
            "_dom_classes": [],
            "_model_module": "@jupyter-widgets/controls",
            "_model_module_version": "1.5.0",
            "_model_name": "HBoxModel",
            "_view_count": null,
            "_view_module": "@jupyter-widgets/controls",
            "_view_module_version": "1.5.0",
            "_view_name": "HBoxView",
            "box_style": "",
            "children": [
              "IPY_MODEL_e17162c319e84496bfce704321cabf96",
              "IPY_MODEL_c68864ffdb7d4e96bf4b73090b53238a",
              "IPY_MODEL_8e7a5bb70df143b9b88c63372cd95ef6"
            ],
            "layout": "IPY_MODEL_a8f214aa71164148ab377055a63582e6"
          }
        },
        "e17162c319e84496bfce704321cabf96": {
          "model_module": "@jupyter-widgets/controls",
          "model_name": "HTMLModel",
          "model_module_version": "1.5.0",
          "state": {
            "_dom_classes": [],
            "_model_module": "@jupyter-widgets/controls",
            "_model_module_version": "1.5.0",
            "_model_name": "HTMLModel",
            "_view_count": null,
            "_view_module": "@jupyter-widgets/controls",
            "_view_module_version": "1.5.0",
            "_view_name": "HTMLView",
            "description": "",
            "description_tooltip": null,
            "layout": "IPY_MODEL_97f54426e2ea4a54903d3f3c389186c0",
            "placeholder": "​",
            "style": "IPY_MODEL_cd049adb968a41a88f8e92856018a654",
            "value": "Downloading: 100%"
          }
        },
        "c68864ffdb7d4e96bf4b73090b53238a": {
          "model_module": "@jupyter-widgets/controls",
          "model_name": "FloatProgressModel",
          "model_module_version": "1.5.0",
          "state": {
            "_dom_classes": [],
            "_model_module": "@jupyter-widgets/controls",
            "_model_module_version": "1.5.0",
            "_model_name": "FloatProgressModel",
            "_view_count": null,
            "_view_module": "@jupyter-widgets/controls",
            "_view_module_version": "1.5.0",
            "_view_name": "ProgressView",
            "bar_style": "success",
            "description": "",
            "description_tooltip": null,
            "layout": "IPY_MODEL_a6a8c932bb8e433696004c9360fb67c0",
            "max": 2360171,
            "min": 0,
            "orientation": "horizontal",
            "style": "IPY_MODEL_3e20fe3c7d0d4748954d2a06e0ee4d27",
            "value": 2360171
          }
        },
        "8e7a5bb70df143b9b88c63372cd95ef6": {
          "model_module": "@jupyter-widgets/controls",
          "model_name": "HTMLModel",
          "model_module_version": "1.5.0",
          "state": {
            "_dom_classes": [],
            "_model_module": "@jupyter-widgets/controls",
            "_model_module_version": "1.5.0",
            "_model_name": "HTMLModel",
            "_view_count": null,
            "_view_module": "@jupyter-widgets/controls",
            "_view_module_version": "1.5.0",
            "_view_name": "HTMLView",
            "description": "",
            "description_tooltip": null,
            "layout": "IPY_MODEL_6322329a84cb4338bfd54aa7d6f9bb30",
            "placeholder": "​",
            "style": "IPY_MODEL_e981aa519b274b379f2c025905f2edc4",
            "value": " 2.36M/2.36M [00:00&lt;00:00, 4.41MB/s]"
          }
        },
        "a8f214aa71164148ab377055a63582e6": {
          "model_module": "@jupyter-widgets/base",
          "model_name": "LayoutModel",
          "model_module_version": "1.2.0",
          "state": {
            "_model_module": "@jupyter-widgets/base",
            "_model_module_version": "1.2.0",
            "_model_name": "LayoutModel",
            "_view_count": null,
            "_view_module": "@jupyter-widgets/base",
            "_view_module_version": "1.2.0",
            "_view_name": "LayoutView",
            "align_content": null,
            "align_items": null,
            "align_self": null,
            "border": null,
            "bottom": null,
            "display": null,
            "flex": null,
            "flex_flow": null,
            "grid_area": null,
            "grid_auto_columns": null,
            "grid_auto_flow": null,
            "grid_auto_rows": null,
            "grid_column": null,
            "grid_gap": null,
            "grid_row": null,
            "grid_template_areas": null,
            "grid_template_columns": null,
            "grid_template_rows": null,
            "height": null,
            "justify_content": null,
            "justify_items": null,
            "left": null,
            "margin": null,
            "max_height": null,
            "max_width": null,
            "min_height": null,
            "min_width": null,
            "object_fit": null,
            "object_position": null,
            "order": null,
            "overflow": null,
            "overflow_x": null,
            "overflow_y": null,
            "padding": null,
            "right": null,
            "top": null,
            "visibility": null,
            "width": null
          }
        },
        "97f54426e2ea4a54903d3f3c389186c0": {
          "model_module": "@jupyter-widgets/base",
          "model_name": "LayoutModel",
          "model_module_version": "1.2.0",
          "state": {
            "_model_module": "@jupyter-widgets/base",
            "_model_module_version": "1.2.0",
            "_model_name": "LayoutModel",
            "_view_count": null,
            "_view_module": "@jupyter-widgets/base",
            "_view_module_version": "1.2.0",
            "_view_name": "LayoutView",
            "align_content": null,
            "align_items": null,
            "align_self": null,
            "border": null,
            "bottom": null,
            "display": null,
            "flex": null,
            "flex_flow": null,
            "grid_area": null,
            "grid_auto_columns": null,
            "grid_auto_flow": null,
            "grid_auto_rows": null,
            "grid_column": null,
            "grid_gap": null,
            "grid_row": null,
            "grid_template_areas": null,
            "grid_template_columns": null,
            "grid_template_rows": null,
            "height": null,
            "justify_content": null,
            "justify_items": null,
            "left": null,
            "margin": null,
            "max_height": null,
            "max_width": null,
            "min_height": null,
            "min_width": null,
            "object_fit": null,
            "object_position": null,
            "order": null,
            "overflow": null,
            "overflow_x": null,
            "overflow_y": null,
            "padding": null,
            "right": null,
            "top": null,
            "visibility": null,
            "width": null
          }
        },
        "cd049adb968a41a88f8e92856018a654": {
          "model_module": "@jupyter-widgets/controls",
          "model_name": "DescriptionStyleModel",
          "model_module_version": "1.5.0",
          "state": {
            "_model_module": "@jupyter-widgets/controls",
            "_model_module_version": "1.5.0",
            "_model_name": "DescriptionStyleModel",
            "_view_count": null,
            "_view_module": "@jupyter-widgets/base",
            "_view_module_version": "1.2.0",
            "_view_name": "StyleView",
            "description_width": ""
          }
        },
        "a6a8c932bb8e433696004c9360fb67c0": {
          "model_module": "@jupyter-widgets/base",
          "model_name": "LayoutModel",
          "model_module_version": "1.2.0",
          "state": {
            "_model_module": "@jupyter-widgets/base",
            "_model_module_version": "1.2.0",
            "_model_name": "LayoutModel",
            "_view_count": null,
            "_view_module": "@jupyter-widgets/base",
            "_view_module_version": "1.2.0",
            "_view_name": "LayoutView",
            "align_content": null,
            "align_items": null,
            "align_self": null,
            "border": null,
            "bottom": null,
            "display": null,
            "flex": null,
            "flex_flow": null,
            "grid_area": null,
            "grid_auto_columns": null,
            "grid_auto_flow": null,
            "grid_auto_rows": null,
            "grid_column": null,
            "grid_gap": null,
            "grid_row": null,
            "grid_template_areas": null,
            "grid_template_columns": null,
            "grid_template_rows": null,
            "height": null,
            "justify_content": null,
            "justify_items": null,
            "left": null,
            "margin": null,
            "max_height": null,
            "max_width": null,
            "min_height": null,
            "min_width": null,
            "object_fit": null,
            "object_position": null,
            "order": null,
            "overflow": null,
            "overflow_x": null,
            "overflow_y": null,
            "padding": null,
            "right": null,
            "top": null,
            "visibility": null,
            "width": null
          }
        },
        "3e20fe3c7d0d4748954d2a06e0ee4d27": {
          "model_module": "@jupyter-widgets/controls",
          "model_name": "ProgressStyleModel",
          "model_module_version": "1.5.0",
          "state": {
            "_model_module": "@jupyter-widgets/controls",
            "_model_module_version": "1.5.0",
            "_model_name": "ProgressStyleModel",
            "_view_count": null,
            "_view_module": "@jupyter-widgets/base",
            "_view_module_version": "1.2.0",
            "_view_name": "StyleView",
            "bar_color": null,
            "description_width": ""
          }
        },
        "6322329a84cb4338bfd54aa7d6f9bb30": {
          "model_module": "@jupyter-widgets/base",
          "model_name": "LayoutModel",
          "model_module_version": "1.2.0",
          "state": {
            "_model_module": "@jupyter-widgets/base",
            "_model_module_version": "1.2.0",
            "_model_name": "LayoutModel",
            "_view_count": null,
            "_view_module": "@jupyter-widgets/base",
            "_view_module_version": "1.2.0",
            "_view_name": "LayoutView",
            "align_content": null,
            "align_items": null,
            "align_self": null,
            "border": null,
            "bottom": null,
            "display": null,
            "flex": null,
            "flex_flow": null,
            "grid_area": null,
            "grid_auto_columns": null,
            "grid_auto_flow": null,
            "grid_auto_rows": null,
            "grid_column": null,
            "grid_gap": null,
            "grid_row": null,
            "grid_template_areas": null,
            "grid_template_columns": null,
            "grid_template_rows": null,
            "height": null,
            "justify_content": null,
            "justify_items": null,
            "left": null,
            "margin": null,
            "max_height": null,
            "max_width": null,
            "min_height": null,
            "min_width": null,
            "object_fit": null,
            "object_position": null,
            "order": null,
            "overflow": null,
            "overflow_x": null,
            "overflow_y": null,
            "padding": null,
            "right": null,
            "top": null,
            "visibility": null,
            "width": null
          }
        },
        "e981aa519b274b379f2c025905f2edc4": {
          "model_module": "@jupyter-widgets/controls",
          "model_name": "DescriptionStyleModel",
          "model_module_version": "1.5.0",
          "state": {
            "_model_module": "@jupyter-widgets/controls",
            "_model_module_version": "1.5.0",
            "_model_name": "DescriptionStyleModel",
            "_view_count": null,
            "_view_module": "@jupyter-widgets/base",
            "_view_module_version": "1.2.0",
            "_view_name": "StyleView",
            "description_width": ""
          }
        },
        "023540fd15e049e692f9ffe4fd113b15": {
          "model_module": "@jupyter-widgets/controls",
          "model_name": "HBoxModel",
          "model_module_version": "1.5.0",
          "state": {
            "_dom_classes": [],
            "_model_module": "@jupyter-widgets/controls",
            "_model_module_version": "1.5.0",
            "_model_name": "HBoxModel",
            "_view_count": null,
            "_view_module": "@jupyter-widgets/controls",
            "_view_module_version": "1.5.0",
            "_view_name": "HBoxView",
            "box_style": "",
            "children": [
              "IPY_MODEL_873310576dcd42bf9d7ae4ffe1f457a7",
              "IPY_MODEL_a8c62558754f4b3d83e777e3c09004ef",
              "IPY_MODEL_e4440d3243af4e4f98e3e0c03dce38ae"
            ],
            "layout": "IPY_MODEL_e3e30d3adb3e43cc8bd990f89506cbc9"
          }
        },
        "873310576dcd42bf9d7ae4ffe1f457a7": {
          "model_module": "@jupyter-widgets/controls",
          "model_name": "HTMLModel",
          "model_module_version": "1.5.0",
          "state": {
            "_dom_classes": [],
            "_model_module": "@jupyter-widgets/controls",
            "_model_module_version": "1.5.0",
            "_model_name": "HTMLModel",
            "_view_count": null,
            "_view_module": "@jupyter-widgets/controls",
            "_view_module_version": "1.5.0",
            "_view_name": "HTMLView",
            "description": "",
            "description_tooltip": null,
            "layout": "IPY_MODEL_403df10f85e04f2ea55cc691dc193a6f",
            "placeholder": "​",
            "style": "IPY_MODEL_01c8a1e468264be3b344240d223fb004",
            "value": "Downloading: 100%"
          }
        },
        "a8c62558754f4b3d83e777e3c09004ef": {
          "model_module": "@jupyter-widgets/controls",
          "model_name": "FloatProgressModel",
          "model_module_version": "1.5.0",
          "state": {
            "_dom_classes": [],
            "_model_module": "@jupyter-widgets/controls",
            "_model_module_version": "1.5.0",
            "_model_name": "FloatProgressModel",
            "_view_count": null,
            "_view_module": "@jupyter-widgets/controls",
            "_view_module_version": "1.5.0",
            "_view_name": "ProgressView",
            "bar_style": "success",
            "description": "",
            "description_tooltip": null,
            "layout": "IPY_MODEL_943f473ee99c4ea6b067604c3dc04559",
            "max": 2353,
            "min": 0,
            "orientation": "horizontal",
            "style": "IPY_MODEL_bb5fae4826ca485e9a91366251959390",
            "value": 2353
          }
        },
        "e4440d3243af4e4f98e3e0c03dce38ae": {
          "model_module": "@jupyter-widgets/controls",
          "model_name": "HTMLModel",
          "model_module_version": "1.5.0",
          "state": {
            "_dom_classes": [],
            "_model_module": "@jupyter-widgets/controls",
            "_model_module_version": "1.5.0",
            "_model_name": "HTMLModel",
            "_view_count": null,
            "_view_module": "@jupyter-widgets/controls",
            "_view_module_version": "1.5.0",
            "_view_name": "HTMLView",
            "description": "",
            "description_tooltip": null,
            "layout": "IPY_MODEL_10cd02c4f6b64298a911a191d16d3dab",
            "placeholder": "​",
            "style": "IPY_MODEL_4821360cf1ad4382a49df59954c6786a",
            "value": " 2.35k/2.35k [00:00&lt;00:00, 97.2kB/s]"
          }
        },
        "e3e30d3adb3e43cc8bd990f89506cbc9": {
          "model_module": "@jupyter-widgets/base",
          "model_name": "LayoutModel",
          "model_module_version": "1.2.0",
          "state": {
            "_model_module": "@jupyter-widgets/base",
            "_model_module_version": "1.2.0",
            "_model_name": "LayoutModel",
            "_view_count": null,
            "_view_module": "@jupyter-widgets/base",
            "_view_module_version": "1.2.0",
            "_view_name": "LayoutView",
            "align_content": null,
            "align_items": null,
            "align_self": null,
            "border": null,
            "bottom": null,
            "display": null,
            "flex": null,
            "flex_flow": null,
            "grid_area": null,
            "grid_auto_columns": null,
            "grid_auto_flow": null,
            "grid_auto_rows": null,
            "grid_column": null,
            "grid_gap": null,
            "grid_row": null,
            "grid_template_areas": null,
            "grid_template_columns": null,
            "grid_template_rows": null,
            "height": null,
            "justify_content": null,
            "justify_items": null,
            "left": null,
            "margin": null,
            "max_height": null,
            "max_width": null,
            "min_height": null,
            "min_width": null,
            "object_fit": null,
            "object_position": null,
            "order": null,
            "overflow": null,
            "overflow_x": null,
            "overflow_y": null,
            "padding": null,
            "right": null,
            "top": null,
            "visibility": null,
            "width": null
          }
        },
        "403df10f85e04f2ea55cc691dc193a6f": {
          "model_module": "@jupyter-widgets/base",
          "model_name": "LayoutModel",
          "model_module_version": "1.2.0",
          "state": {
            "_model_module": "@jupyter-widgets/base",
            "_model_module_version": "1.2.0",
            "_model_name": "LayoutModel",
            "_view_count": null,
            "_view_module": "@jupyter-widgets/base",
            "_view_module_version": "1.2.0",
            "_view_name": "LayoutView",
            "align_content": null,
            "align_items": null,
            "align_self": null,
            "border": null,
            "bottom": null,
            "display": null,
            "flex": null,
            "flex_flow": null,
            "grid_area": null,
            "grid_auto_columns": null,
            "grid_auto_flow": null,
            "grid_auto_rows": null,
            "grid_column": null,
            "grid_gap": null,
            "grid_row": null,
            "grid_template_areas": null,
            "grid_template_columns": null,
            "grid_template_rows": null,
            "height": null,
            "justify_content": null,
            "justify_items": null,
            "left": null,
            "margin": null,
            "max_height": null,
            "max_width": null,
            "min_height": null,
            "min_width": null,
            "object_fit": null,
            "object_position": null,
            "order": null,
            "overflow": null,
            "overflow_x": null,
            "overflow_y": null,
            "padding": null,
            "right": null,
            "top": null,
            "visibility": null,
            "width": null
          }
        },
        "01c8a1e468264be3b344240d223fb004": {
          "model_module": "@jupyter-widgets/controls",
          "model_name": "DescriptionStyleModel",
          "model_module_version": "1.5.0",
          "state": {
            "_model_module": "@jupyter-widgets/controls",
            "_model_module_version": "1.5.0",
            "_model_name": "DescriptionStyleModel",
            "_view_count": null,
            "_view_module": "@jupyter-widgets/base",
            "_view_module_version": "1.2.0",
            "_view_name": "StyleView",
            "description_width": ""
          }
        },
        "943f473ee99c4ea6b067604c3dc04559": {
          "model_module": "@jupyter-widgets/base",
          "model_name": "LayoutModel",
          "model_module_version": "1.2.0",
          "state": {
            "_model_module": "@jupyter-widgets/base",
            "_model_module_version": "1.2.0",
            "_model_name": "LayoutModel",
            "_view_count": null,
            "_view_module": "@jupyter-widgets/base",
            "_view_module_version": "1.2.0",
            "_view_name": "LayoutView",
            "align_content": null,
            "align_items": null,
            "align_self": null,
            "border": null,
            "bottom": null,
            "display": null,
            "flex": null,
            "flex_flow": null,
            "grid_area": null,
            "grid_auto_columns": null,
            "grid_auto_flow": null,
            "grid_auto_rows": null,
            "grid_column": null,
            "grid_gap": null,
            "grid_row": null,
            "grid_template_areas": null,
            "grid_template_columns": null,
            "grid_template_rows": null,
            "height": null,
            "justify_content": null,
            "justify_items": null,
            "left": null,
            "margin": null,
            "max_height": null,
            "max_width": null,
            "min_height": null,
            "min_width": null,
            "object_fit": null,
            "object_position": null,
            "order": null,
            "overflow": null,
            "overflow_x": null,
            "overflow_y": null,
            "padding": null,
            "right": null,
            "top": null,
            "visibility": null,
            "width": null
          }
        },
        "bb5fae4826ca485e9a91366251959390": {
          "model_module": "@jupyter-widgets/controls",
          "model_name": "ProgressStyleModel",
          "model_module_version": "1.5.0",
          "state": {
            "_model_module": "@jupyter-widgets/controls",
            "_model_module_version": "1.5.0",
            "_model_name": "ProgressStyleModel",
            "_view_count": null,
            "_view_module": "@jupyter-widgets/base",
            "_view_module_version": "1.2.0",
            "_view_name": "StyleView",
            "bar_color": null,
            "description_width": ""
          }
        },
        "10cd02c4f6b64298a911a191d16d3dab": {
          "model_module": "@jupyter-widgets/base",
          "model_name": "LayoutModel",
          "model_module_version": "1.2.0",
          "state": {
            "_model_module": "@jupyter-widgets/base",
            "_model_module_version": "1.2.0",
            "_model_name": "LayoutModel",
            "_view_count": null,
            "_view_module": "@jupyter-widgets/base",
            "_view_module_version": "1.2.0",
            "_view_name": "LayoutView",
            "align_content": null,
            "align_items": null,
            "align_self": null,
            "border": null,
            "bottom": null,
            "display": null,
            "flex": null,
            "flex_flow": null,
            "grid_area": null,
            "grid_auto_columns": null,
            "grid_auto_flow": null,
            "grid_auto_rows": null,
            "grid_column": null,
            "grid_gap": null,
            "grid_row": null,
            "grid_template_areas": null,
            "grid_template_columns": null,
            "grid_template_rows": null,
            "height": null,
            "justify_content": null,
            "justify_items": null,
            "left": null,
            "margin": null,
            "max_height": null,
            "max_width": null,
            "min_height": null,
            "min_width": null,
            "object_fit": null,
            "object_position": null,
            "order": null,
            "overflow": null,
            "overflow_x": null,
            "overflow_y": null,
            "padding": null,
            "right": null,
            "top": null,
            "visibility": null,
            "width": null
          }
        },
        "4821360cf1ad4382a49df59954c6786a": {
          "model_module": "@jupyter-widgets/controls",
          "model_name": "DescriptionStyleModel",
          "model_module_version": "1.5.0",
          "state": {
            "_model_module": "@jupyter-widgets/controls",
            "_model_module_version": "1.5.0",
            "_model_name": "DescriptionStyleModel",
            "_view_count": null,
            "_view_module": "@jupyter-widgets/base",
            "_view_module_version": "1.2.0",
            "_view_name": "StyleView",
            "description_width": ""
          }
        },
        "b0adf5f62e6c471383495c7ca92d1ea0": {
          "model_module": "@jupyter-widgets/controls",
          "model_name": "HBoxModel",
          "model_module_version": "1.5.0",
          "state": {
            "_dom_classes": [],
            "_model_module": "@jupyter-widgets/controls",
            "_model_module_version": "1.5.0",
            "_model_name": "HBoxModel",
            "_view_count": null,
            "_view_module": "@jupyter-widgets/controls",
            "_view_module_version": "1.5.0",
            "_view_name": "HBoxView",
            "box_style": "",
            "children": [
              "IPY_MODEL_a00eba658e5442d0b03a4f9ad74f097a",
              "IPY_MODEL_51111b65b17943d3a003d47db488c421",
              "IPY_MODEL_774f230ea8554ecd92163a4266d802f0"
            ],
            "layout": "IPY_MODEL_b977436487ba42eb9a31d484ef9ce3bf"
          }
        },
        "a00eba658e5442d0b03a4f9ad74f097a": {
          "model_module": "@jupyter-widgets/controls",
          "model_name": "HTMLModel",
          "model_module_version": "1.5.0",
          "state": {
            "_dom_classes": [],
            "_model_module": "@jupyter-widgets/controls",
            "_model_module_version": "1.5.0",
            "_model_name": "HTMLModel",
            "_view_count": null,
            "_view_module": "@jupyter-widgets/controls",
            "_view_module_version": "1.5.0",
            "_view_name": "HTMLView",
            "description": "",
            "description_tooltip": null,
            "layout": "IPY_MODEL_bf44df2274b1427e8370bf40673f94d2",
            "placeholder": "​",
            "style": "IPY_MODEL_6cf83ea3b76d4d91b8a33a8b625a3032",
            "value": "Downloading: 100%"
          }
        },
        "51111b65b17943d3a003d47db488c421": {
          "model_module": "@jupyter-widgets/controls",
          "model_name": "FloatProgressModel",
          "model_module_version": "1.5.0",
          "state": {
            "_dom_classes": [],
            "_model_module": "@jupyter-widgets/controls",
            "_model_module_version": "1.5.0",
            "_model_name": "FloatProgressModel",
            "_view_count": null,
            "_view_module": "@jupyter-widgets/controls",
            "_view_module_version": "1.5.0",
            "_view_name": "ProgressView",
            "bar_style": "success",
            "description": "",
            "description_tooltip": null,
            "layout": "IPY_MODEL_e31f376e1d084530823decf53ffd2f5f",
            "max": 554,
            "min": 0,
            "orientation": "horizontal",
            "style": "IPY_MODEL_2bad4bcc58c14107bc6920d1bede7102",
            "value": 554
          }
        },
        "774f230ea8554ecd92163a4266d802f0": {
          "model_module": "@jupyter-widgets/controls",
          "model_name": "HTMLModel",
          "model_module_version": "1.5.0",
          "state": {
            "_dom_classes": [],
            "_model_module": "@jupyter-widgets/controls",
            "_model_module_version": "1.5.0",
            "_model_name": "HTMLModel",
            "_view_count": null,
            "_view_module": "@jupyter-widgets/controls",
            "_view_module_version": "1.5.0",
            "_view_name": "HTMLView",
            "description": "",
            "description_tooltip": null,
            "layout": "IPY_MODEL_a220864128d34b25928dfcc7155c547c",
            "placeholder": "​",
            "style": "IPY_MODEL_e8b572ccc4cd44e68107baabec1bc3b0",
            "value": " 554/554 [00:00&lt;00:00, 23.8kB/s]"
          }
        },
        "b977436487ba42eb9a31d484ef9ce3bf": {
          "model_module": "@jupyter-widgets/base",
          "model_name": "LayoutModel",
          "model_module_version": "1.2.0",
          "state": {
            "_model_module": "@jupyter-widgets/base",
            "_model_module_version": "1.2.0",
            "_model_name": "LayoutModel",
            "_view_count": null,
            "_view_module": "@jupyter-widgets/base",
            "_view_module_version": "1.2.0",
            "_view_name": "LayoutView",
            "align_content": null,
            "align_items": null,
            "align_self": null,
            "border": null,
            "bottom": null,
            "display": null,
            "flex": null,
            "flex_flow": null,
            "grid_area": null,
            "grid_auto_columns": null,
            "grid_auto_flow": null,
            "grid_auto_rows": null,
            "grid_column": null,
            "grid_gap": null,
            "grid_row": null,
            "grid_template_areas": null,
            "grid_template_columns": null,
            "grid_template_rows": null,
            "height": null,
            "justify_content": null,
            "justify_items": null,
            "left": null,
            "margin": null,
            "max_height": null,
            "max_width": null,
            "min_height": null,
            "min_width": null,
            "object_fit": null,
            "object_position": null,
            "order": null,
            "overflow": null,
            "overflow_x": null,
            "overflow_y": null,
            "padding": null,
            "right": null,
            "top": null,
            "visibility": null,
            "width": null
          }
        },
        "bf44df2274b1427e8370bf40673f94d2": {
          "model_module": "@jupyter-widgets/base",
          "model_name": "LayoutModel",
          "model_module_version": "1.2.0",
          "state": {
            "_model_module": "@jupyter-widgets/base",
            "_model_module_version": "1.2.0",
            "_model_name": "LayoutModel",
            "_view_count": null,
            "_view_module": "@jupyter-widgets/base",
            "_view_module_version": "1.2.0",
            "_view_name": "LayoutView",
            "align_content": null,
            "align_items": null,
            "align_self": null,
            "border": null,
            "bottom": null,
            "display": null,
            "flex": null,
            "flex_flow": null,
            "grid_area": null,
            "grid_auto_columns": null,
            "grid_auto_flow": null,
            "grid_auto_rows": null,
            "grid_column": null,
            "grid_gap": null,
            "grid_row": null,
            "grid_template_areas": null,
            "grid_template_columns": null,
            "grid_template_rows": null,
            "height": null,
            "justify_content": null,
            "justify_items": null,
            "left": null,
            "margin": null,
            "max_height": null,
            "max_width": null,
            "min_height": null,
            "min_width": null,
            "object_fit": null,
            "object_position": null,
            "order": null,
            "overflow": null,
            "overflow_x": null,
            "overflow_y": null,
            "padding": null,
            "right": null,
            "top": null,
            "visibility": null,
            "width": null
          }
        },
        "6cf83ea3b76d4d91b8a33a8b625a3032": {
          "model_module": "@jupyter-widgets/controls",
          "model_name": "DescriptionStyleModel",
          "model_module_version": "1.5.0",
          "state": {
            "_model_module": "@jupyter-widgets/controls",
            "_model_module_version": "1.5.0",
            "_model_name": "DescriptionStyleModel",
            "_view_count": null,
            "_view_module": "@jupyter-widgets/base",
            "_view_module_version": "1.2.0",
            "_view_name": "StyleView",
            "description_width": ""
          }
        },
        "e31f376e1d084530823decf53ffd2f5f": {
          "model_module": "@jupyter-widgets/base",
          "model_name": "LayoutModel",
          "model_module_version": "1.2.0",
          "state": {
            "_model_module": "@jupyter-widgets/base",
            "_model_module_version": "1.2.0",
            "_model_name": "LayoutModel",
            "_view_count": null,
            "_view_module": "@jupyter-widgets/base",
            "_view_module_version": "1.2.0",
            "_view_name": "LayoutView",
            "align_content": null,
            "align_items": null,
            "align_self": null,
            "border": null,
            "bottom": null,
            "display": null,
            "flex": null,
            "flex_flow": null,
            "grid_area": null,
            "grid_auto_columns": null,
            "grid_auto_flow": null,
            "grid_auto_rows": null,
            "grid_column": null,
            "grid_gap": null,
            "grid_row": null,
            "grid_template_areas": null,
            "grid_template_columns": null,
            "grid_template_rows": null,
            "height": null,
            "justify_content": null,
            "justify_items": null,
            "left": null,
            "margin": null,
            "max_height": null,
            "max_width": null,
            "min_height": null,
            "min_width": null,
            "object_fit": null,
            "object_position": null,
            "order": null,
            "overflow": null,
            "overflow_x": null,
            "overflow_y": null,
            "padding": null,
            "right": null,
            "top": null,
            "visibility": null,
            "width": null
          }
        },
        "2bad4bcc58c14107bc6920d1bede7102": {
          "model_module": "@jupyter-widgets/controls",
          "model_name": "ProgressStyleModel",
          "model_module_version": "1.5.0",
          "state": {
            "_model_module": "@jupyter-widgets/controls",
            "_model_module_version": "1.5.0",
            "_model_name": "ProgressStyleModel",
            "_view_count": null,
            "_view_module": "@jupyter-widgets/base",
            "_view_module_version": "1.2.0",
            "_view_name": "StyleView",
            "bar_color": null,
            "description_width": ""
          }
        },
        "a220864128d34b25928dfcc7155c547c": {
          "model_module": "@jupyter-widgets/base",
          "model_name": "LayoutModel",
          "model_module_version": "1.2.0",
          "state": {
            "_model_module": "@jupyter-widgets/base",
            "_model_module_version": "1.2.0",
            "_model_name": "LayoutModel",
            "_view_count": null,
            "_view_module": "@jupyter-widgets/base",
            "_view_module_version": "1.2.0",
            "_view_name": "LayoutView",
            "align_content": null,
            "align_items": null,
            "align_self": null,
            "border": null,
            "bottom": null,
            "display": null,
            "flex": null,
            "flex_flow": null,
            "grid_area": null,
            "grid_auto_columns": null,
            "grid_auto_flow": null,
            "grid_auto_rows": null,
            "grid_column": null,
            "grid_gap": null,
            "grid_row": null,
            "grid_template_areas": null,
            "grid_template_columns": null,
            "grid_template_rows": null,
            "height": null,
            "justify_content": null,
            "justify_items": null,
            "left": null,
            "margin": null,
            "max_height": null,
            "max_width": null,
            "min_height": null,
            "min_width": null,
            "object_fit": null,
            "object_position": null,
            "order": null,
            "overflow": null,
            "overflow_x": null,
            "overflow_y": null,
            "padding": null,
            "right": null,
            "top": null,
            "visibility": null,
            "width": null
          }
        },
        "e8b572ccc4cd44e68107baabec1bc3b0": {
          "model_module": "@jupyter-widgets/controls",
          "model_name": "DescriptionStyleModel",
          "model_module_version": "1.5.0",
          "state": {
            "_model_module": "@jupyter-widgets/controls",
            "_model_module_version": "1.5.0",
            "_model_name": "DescriptionStyleModel",
            "_view_count": null,
            "_view_module": "@jupyter-widgets/base",
            "_view_module_version": "1.2.0",
            "_view_name": "StyleView",
            "description_width": ""
          }
        },
        "f206dce520354808ad0bc2c9dc9e3a16": {
          "model_module": "@jupyter-widgets/controls",
          "model_name": "HBoxModel",
          "model_module_version": "1.5.0",
          "state": {
            "_dom_classes": [],
            "_model_module": "@jupyter-widgets/controls",
            "_model_module_version": "1.5.0",
            "_model_name": "HBoxModel",
            "_view_count": null,
            "_view_module": "@jupyter-widgets/controls",
            "_view_module_version": "1.5.0",
            "_view_name": "HBoxView",
            "box_style": "",
            "children": [
              "IPY_MODEL_d1907f81d71c4ed2ac04459dedc1306d",
              "IPY_MODEL_1932bead453c4ec99c7281306350e726",
              "IPY_MODEL_74d16732eb244b8d815013e149957718"
            ],
            "layout": "IPY_MODEL_3b6c6286d41545a18447bb77d34c9851"
          }
        },
        "d1907f81d71c4ed2ac04459dedc1306d": {
          "model_module": "@jupyter-widgets/controls",
          "model_name": "HTMLModel",
          "model_module_version": "1.5.0",
          "state": {
            "_dom_classes": [],
            "_model_module": "@jupyter-widgets/controls",
            "_model_module_version": "1.5.0",
            "_model_name": "HTMLModel",
            "_view_count": null,
            "_view_module": "@jupyter-widgets/controls",
            "_view_module_version": "1.5.0",
            "_view_name": "HTMLView",
            "description": "",
            "description_tooltip": null,
            "layout": "IPY_MODEL_a086b1316db143b08abfe49785bcd520",
            "placeholder": "​",
            "style": "IPY_MODEL_dc90d78bb2274ade858514e73f25f131",
            "value": "Downloading: 100%"
          }
        },
        "1932bead453c4ec99c7281306350e726": {
          "model_module": "@jupyter-widgets/controls",
          "model_name": "FloatProgressModel",
          "model_module_version": "1.5.0",
          "state": {
            "_dom_classes": [],
            "_model_module": "@jupyter-widgets/controls",
            "_model_module_version": "1.5.0",
            "_model_name": "FloatProgressModel",
            "_view_count": null,
            "_view_module": "@jupyter-widgets/controls",
            "_view_module_version": "1.5.0",
            "_view_name": "ProgressView",
            "bar_style": "success",
            "description": "",
            "description_tooltip": null,
            "layout": "IPY_MODEL_cf76873b450d499b848170cd0972cb55",
            "max": 122,
            "min": 0,
            "orientation": "horizontal",
            "style": "IPY_MODEL_94b99aec1fd14eba9207108dcabe7cc8",
            "value": 122
          }
        },
        "74d16732eb244b8d815013e149957718": {
          "model_module": "@jupyter-widgets/controls",
          "model_name": "HTMLModel",
          "model_module_version": "1.5.0",
          "state": {
            "_dom_classes": [],
            "_model_module": "@jupyter-widgets/controls",
            "_model_module_version": "1.5.0",
            "_model_name": "HTMLModel",
            "_view_count": null,
            "_view_module": "@jupyter-widgets/controls",
            "_view_module_version": "1.5.0",
            "_view_name": "HTMLView",
            "description": "",
            "description_tooltip": null,
            "layout": "IPY_MODEL_8fdfcc983be44b6a88a260a9ca9869aa",
            "placeholder": "​",
            "style": "IPY_MODEL_f0bb46c4c4804cd8b4c6a1a351771b67",
            "value": " 122/122 [00:00&lt;00:00, 5.28kB/s]"
          }
        },
        "3b6c6286d41545a18447bb77d34c9851": {
          "model_module": "@jupyter-widgets/base",
          "model_name": "LayoutModel",
          "model_module_version": "1.2.0",
          "state": {
            "_model_module": "@jupyter-widgets/base",
            "_model_module_version": "1.2.0",
            "_model_name": "LayoutModel",
            "_view_count": null,
            "_view_module": "@jupyter-widgets/base",
            "_view_module_version": "1.2.0",
            "_view_name": "LayoutView",
            "align_content": null,
            "align_items": null,
            "align_self": null,
            "border": null,
            "bottom": null,
            "display": null,
            "flex": null,
            "flex_flow": null,
            "grid_area": null,
            "grid_auto_columns": null,
            "grid_auto_flow": null,
            "grid_auto_rows": null,
            "grid_column": null,
            "grid_gap": null,
            "grid_row": null,
            "grid_template_areas": null,
            "grid_template_columns": null,
            "grid_template_rows": null,
            "height": null,
            "justify_content": null,
            "justify_items": null,
            "left": null,
            "margin": null,
            "max_height": null,
            "max_width": null,
            "min_height": null,
            "min_width": null,
            "object_fit": null,
            "object_position": null,
            "order": null,
            "overflow": null,
            "overflow_x": null,
            "overflow_y": null,
            "padding": null,
            "right": null,
            "top": null,
            "visibility": null,
            "width": null
          }
        },
        "a086b1316db143b08abfe49785bcd520": {
          "model_module": "@jupyter-widgets/base",
          "model_name": "LayoutModel",
          "model_module_version": "1.2.0",
          "state": {
            "_model_module": "@jupyter-widgets/base",
            "_model_module_version": "1.2.0",
            "_model_name": "LayoutModel",
            "_view_count": null,
            "_view_module": "@jupyter-widgets/base",
            "_view_module_version": "1.2.0",
            "_view_name": "LayoutView",
            "align_content": null,
            "align_items": null,
            "align_self": null,
            "border": null,
            "bottom": null,
            "display": null,
            "flex": null,
            "flex_flow": null,
            "grid_area": null,
            "grid_auto_columns": null,
            "grid_auto_flow": null,
            "grid_auto_rows": null,
            "grid_column": null,
            "grid_gap": null,
            "grid_row": null,
            "grid_template_areas": null,
            "grid_template_columns": null,
            "grid_template_rows": null,
            "height": null,
            "justify_content": null,
            "justify_items": null,
            "left": null,
            "margin": null,
            "max_height": null,
            "max_width": null,
            "min_height": null,
            "min_width": null,
            "object_fit": null,
            "object_position": null,
            "order": null,
            "overflow": null,
            "overflow_x": null,
            "overflow_y": null,
            "padding": null,
            "right": null,
            "top": null,
            "visibility": null,
            "width": null
          }
        },
        "dc90d78bb2274ade858514e73f25f131": {
          "model_module": "@jupyter-widgets/controls",
          "model_name": "DescriptionStyleModel",
          "model_module_version": "1.5.0",
          "state": {
            "_model_module": "@jupyter-widgets/controls",
            "_model_module_version": "1.5.0",
            "_model_name": "DescriptionStyleModel",
            "_view_count": null,
            "_view_module": "@jupyter-widgets/base",
            "_view_module_version": "1.2.0",
            "_view_name": "StyleView",
            "description_width": ""
          }
        },
        "cf76873b450d499b848170cd0972cb55": {
          "model_module": "@jupyter-widgets/base",
          "model_name": "LayoutModel",
          "model_module_version": "1.2.0",
          "state": {
            "_model_module": "@jupyter-widgets/base",
            "_model_module_version": "1.2.0",
            "_model_name": "LayoutModel",
            "_view_count": null,
            "_view_module": "@jupyter-widgets/base",
            "_view_module_version": "1.2.0",
            "_view_name": "LayoutView",
            "align_content": null,
            "align_items": null,
            "align_self": null,
            "border": null,
            "bottom": null,
            "display": null,
            "flex": null,
            "flex_flow": null,
            "grid_area": null,
            "grid_auto_columns": null,
            "grid_auto_flow": null,
            "grid_auto_rows": null,
            "grid_column": null,
            "grid_gap": null,
            "grid_row": null,
            "grid_template_areas": null,
            "grid_template_columns": null,
            "grid_template_rows": null,
            "height": null,
            "justify_content": null,
            "justify_items": null,
            "left": null,
            "margin": null,
            "max_height": null,
            "max_width": null,
            "min_height": null,
            "min_width": null,
            "object_fit": null,
            "object_position": null,
            "order": null,
            "overflow": null,
            "overflow_x": null,
            "overflow_y": null,
            "padding": null,
            "right": null,
            "top": null,
            "visibility": null,
            "width": null
          }
        },
        "94b99aec1fd14eba9207108dcabe7cc8": {
          "model_module": "@jupyter-widgets/controls",
          "model_name": "ProgressStyleModel",
          "model_module_version": "1.5.0",
          "state": {
            "_model_module": "@jupyter-widgets/controls",
            "_model_module_version": "1.5.0",
            "_model_name": "ProgressStyleModel",
            "_view_count": null,
            "_view_module": "@jupyter-widgets/base",
            "_view_module_version": "1.2.0",
            "_view_name": "StyleView",
            "bar_color": null,
            "description_width": ""
          }
        },
        "8fdfcc983be44b6a88a260a9ca9869aa": {
          "model_module": "@jupyter-widgets/base",
          "model_name": "LayoutModel",
          "model_module_version": "1.2.0",
          "state": {
            "_model_module": "@jupyter-widgets/base",
            "_model_module_version": "1.2.0",
            "_model_name": "LayoutModel",
            "_view_count": null,
            "_view_module": "@jupyter-widgets/base",
            "_view_module_version": "1.2.0",
            "_view_name": "LayoutView",
            "align_content": null,
            "align_items": null,
            "align_self": null,
            "border": null,
            "bottom": null,
            "display": null,
            "flex": null,
            "flex_flow": null,
            "grid_area": null,
            "grid_auto_columns": null,
            "grid_auto_flow": null,
            "grid_auto_rows": null,
            "grid_column": null,
            "grid_gap": null,
            "grid_row": null,
            "grid_template_areas": null,
            "grid_template_columns": null,
            "grid_template_rows": null,
            "height": null,
            "justify_content": null,
            "justify_items": null,
            "left": null,
            "margin": null,
            "max_height": null,
            "max_width": null,
            "min_height": null,
            "min_width": null,
            "object_fit": null,
            "object_position": null,
            "order": null,
            "overflow": null,
            "overflow_x": null,
            "overflow_y": null,
            "padding": null,
            "right": null,
            "top": null,
            "visibility": null,
            "width": null
          }
        },
        "f0bb46c4c4804cd8b4c6a1a351771b67": {
          "model_module": "@jupyter-widgets/controls",
          "model_name": "DescriptionStyleModel",
          "model_module_version": "1.5.0",
          "state": {
            "_model_module": "@jupyter-widgets/controls",
            "_model_module_version": "1.5.0",
            "_model_name": "DescriptionStyleModel",
            "_view_count": null,
            "_view_module": "@jupyter-widgets/base",
            "_view_module_version": "1.2.0",
            "_view_name": "StyleView",
            "description_width": ""
          }
        },
        "8d81a1e9b5664bca8881ff98ce05a46d": {
          "model_module": "@jupyter-widgets/controls",
          "model_name": "HBoxModel",
          "model_module_version": "1.5.0",
          "state": {
            "_dom_classes": [],
            "_model_module": "@jupyter-widgets/controls",
            "_model_module_version": "1.5.0",
            "_model_name": "HBoxModel",
            "_view_count": null,
            "_view_module": "@jupyter-widgets/controls",
            "_view_module_version": "1.5.0",
            "_view_name": "HBoxView",
            "box_style": "",
            "children": [
              "IPY_MODEL_2b8fb414798a407dbc73a5cb88f38851",
              "IPY_MODEL_12d1c2cbdfda4b4786d0573f2c6d6156",
              "IPY_MODEL_620697e71cda4b30b4a443d183af3461"
            ],
            "layout": "IPY_MODEL_bf961461058b4a2cb5e36a7a89b7d320"
          }
        },
        "2b8fb414798a407dbc73a5cb88f38851": {
          "model_module": "@jupyter-widgets/controls",
          "model_name": "HTMLModel",
          "model_module_version": "1.5.0",
          "state": {
            "_dom_classes": [],
            "_model_module": "@jupyter-widgets/controls",
            "_model_module_version": "1.5.0",
            "_model_name": "HTMLModel",
            "_view_count": null,
            "_view_module": "@jupyter-widgets/controls",
            "_view_module_version": "1.5.0",
            "_view_name": "HTMLView",
            "description": "",
            "description_tooltip": null,
            "layout": "IPY_MODEL_b8f460a234ba4e9095f62a1585520b6f",
            "placeholder": "​",
            "style": "IPY_MODEL_7f1fe95fed18467f9b5654cc20d601a7",
            "value": "Downloading: 100%"
          }
        },
        "12d1c2cbdfda4b4786d0573f2c6d6156": {
          "model_module": "@jupyter-widgets/controls",
          "model_name": "FloatProgressModel",
          "model_module_version": "1.5.0",
          "state": {
            "_dom_classes": [],
            "_model_module": "@jupyter-widgets/controls",
            "_model_module_version": "1.5.0",
            "_model_name": "FloatProgressModel",
            "_view_count": null,
            "_view_module": "@jupyter-widgets/controls",
            "_view_module_version": "1.5.0",
            "_view_name": "ProgressView",
            "bar_style": "success",
            "description": "",
            "description_tooltip": null,
            "layout": "IPY_MODEL_465825c8dfc1471ba1806142375741ee",
            "max": 265486777,
            "min": 0,
            "orientation": "horizontal",
            "style": "IPY_MODEL_655914d5b9134510a6645e72b7be15c2",
            "value": 265486777
          }
        },
        "620697e71cda4b30b4a443d183af3461": {
          "model_module": "@jupyter-widgets/controls",
          "model_name": "HTMLModel",
          "model_module_version": "1.5.0",
          "state": {
            "_dom_classes": [],
            "_model_module": "@jupyter-widgets/controls",
            "_model_module_version": "1.5.0",
            "_model_name": "HTMLModel",
            "_view_count": null,
            "_view_module": "@jupyter-widgets/controls",
            "_view_module_version": "1.5.0",
            "_view_name": "HTMLView",
            "description": "",
            "description_tooltip": null,
            "layout": "IPY_MODEL_68814cd16654447592ba657856ceb249",
            "placeholder": "​",
            "style": "IPY_MODEL_4e3fedf352e142c7bd1288f267e7d642",
            "value": " 265M/265M [00:11&lt;00:00, 29.8MB/s]"
          }
        },
        "bf961461058b4a2cb5e36a7a89b7d320": {
          "model_module": "@jupyter-widgets/base",
          "model_name": "LayoutModel",
          "model_module_version": "1.2.0",
          "state": {
            "_model_module": "@jupyter-widgets/base",
            "_model_module_version": "1.2.0",
            "_model_name": "LayoutModel",
            "_view_count": null,
            "_view_module": "@jupyter-widgets/base",
            "_view_module_version": "1.2.0",
            "_view_name": "LayoutView",
            "align_content": null,
            "align_items": null,
            "align_self": null,
            "border": null,
            "bottom": null,
            "display": null,
            "flex": null,
            "flex_flow": null,
            "grid_area": null,
            "grid_auto_columns": null,
            "grid_auto_flow": null,
            "grid_auto_rows": null,
            "grid_column": null,
            "grid_gap": null,
            "grid_row": null,
            "grid_template_areas": null,
            "grid_template_columns": null,
            "grid_template_rows": null,
            "height": null,
            "justify_content": null,
            "justify_items": null,
            "left": null,
            "margin": null,
            "max_height": null,
            "max_width": null,
            "min_height": null,
            "min_width": null,
            "object_fit": null,
            "object_position": null,
            "order": null,
            "overflow": null,
            "overflow_x": null,
            "overflow_y": null,
            "padding": null,
            "right": null,
            "top": null,
            "visibility": null,
            "width": null
          }
        },
        "b8f460a234ba4e9095f62a1585520b6f": {
          "model_module": "@jupyter-widgets/base",
          "model_name": "LayoutModel",
          "model_module_version": "1.2.0",
          "state": {
            "_model_module": "@jupyter-widgets/base",
            "_model_module_version": "1.2.0",
            "_model_name": "LayoutModel",
            "_view_count": null,
            "_view_module": "@jupyter-widgets/base",
            "_view_module_version": "1.2.0",
            "_view_name": "LayoutView",
            "align_content": null,
            "align_items": null,
            "align_self": null,
            "border": null,
            "bottom": null,
            "display": null,
            "flex": null,
            "flex_flow": null,
            "grid_area": null,
            "grid_auto_columns": null,
            "grid_auto_flow": null,
            "grid_auto_rows": null,
            "grid_column": null,
            "grid_gap": null,
            "grid_row": null,
            "grid_template_areas": null,
            "grid_template_columns": null,
            "grid_template_rows": null,
            "height": null,
            "justify_content": null,
            "justify_items": null,
            "left": null,
            "margin": null,
            "max_height": null,
            "max_width": null,
            "min_height": null,
            "min_width": null,
            "object_fit": null,
            "object_position": null,
            "order": null,
            "overflow": null,
            "overflow_x": null,
            "overflow_y": null,
            "padding": null,
            "right": null,
            "top": null,
            "visibility": null,
            "width": null
          }
        },
        "7f1fe95fed18467f9b5654cc20d601a7": {
          "model_module": "@jupyter-widgets/controls",
          "model_name": "DescriptionStyleModel",
          "model_module_version": "1.5.0",
          "state": {
            "_model_module": "@jupyter-widgets/controls",
            "_model_module_version": "1.5.0",
            "_model_name": "DescriptionStyleModel",
            "_view_count": null,
            "_view_module": "@jupyter-widgets/base",
            "_view_module_version": "1.2.0",
            "_view_name": "StyleView",
            "description_width": ""
          }
        },
        "465825c8dfc1471ba1806142375741ee": {
          "model_module": "@jupyter-widgets/base",
          "model_name": "LayoutModel",
          "model_module_version": "1.2.0",
          "state": {
            "_model_module": "@jupyter-widgets/base",
            "_model_module_version": "1.2.0",
            "_model_name": "LayoutModel",
            "_view_count": null,
            "_view_module": "@jupyter-widgets/base",
            "_view_module_version": "1.2.0",
            "_view_name": "LayoutView",
            "align_content": null,
            "align_items": null,
            "align_self": null,
            "border": null,
            "bottom": null,
            "display": null,
            "flex": null,
            "flex_flow": null,
            "grid_area": null,
            "grid_auto_columns": null,
            "grid_auto_flow": null,
            "grid_auto_rows": null,
            "grid_column": null,
            "grid_gap": null,
            "grid_row": null,
            "grid_template_areas": null,
            "grid_template_columns": null,
            "grid_template_rows": null,
            "height": null,
            "justify_content": null,
            "justify_items": null,
            "left": null,
            "margin": null,
            "max_height": null,
            "max_width": null,
            "min_height": null,
            "min_width": null,
            "object_fit": null,
            "object_position": null,
            "order": null,
            "overflow": null,
            "overflow_x": null,
            "overflow_y": null,
            "padding": null,
            "right": null,
            "top": null,
            "visibility": null,
            "width": null
          }
        },
        "655914d5b9134510a6645e72b7be15c2": {
          "model_module": "@jupyter-widgets/controls",
          "model_name": "ProgressStyleModel",
          "model_module_version": "1.5.0",
          "state": {
            "_model_module": "@jupyter-widgets/controls",
            "_model_module_version": "1.5.0",
            "_model_name": "ProgressStyleModel",
            "_view_count": null,
            "_view_module": "@jupyter-widgets/base",
            "_view_module_version": "1.2.0",
            "_view_name": "StyleView",
            "bar_color": null,
            "description_width": ""
          }
        },
        "68814cd16654447592ba657856ceb249": {
          "model_module": "@jupyter-widgets/base",
          "model_name": "LayoutModel",
          "model_module_version": "1.2.0",
          "state": {
            "_model_module": "@jupyter-widgets/base",
            "_model_module_version": "1.2.0",
            "_model_name": "LayoutModel",
            "_view_count": null,
            "_view_module": "@jupyter-widgets/base",
            "_view_module_version": "1.2.0",
            "_view_name": "LayoutView",
            "align_content": null,
            "align_items": null,
            "align_self": null,
            "border": null,
            "bottom": null,
            "display": null,
            "flex": null,
            "flex_flow": null,
            "grid_area": null,
            "grid_auto_columns": null,
            "grid_auto_flow": null,
            "grid_auto_rows": null,
            "grid_column": null,
            "grid_gap": null,
            "grid_row": null,
            "grid_template_areas": null,
            "grid_template_columns": null,
            "grid_template_rows": null,
            "height": null,
            "justify_content": null,
            "justify_items": null,
            "left": null,
            "margin": null,
            "max_height": null,
            "max_width": null,
            "min_height": null,
            "min_width": null,
            "object_fit": null,
            "object_position": null,
            "order": null,
            "overflow": null,
            "overflow_x": null,
            "overflow_y": null,
            "padding": null,
            "right": null,
            "top": null,
            "visibility": null,
            "width": null
          }
        },
        "4e3fedf352e142c7bd1288f267e7d642": {
          "model_module": "@jupyter-widgets/controls",
          "model_name": "DescriptionStyleModel",
          "model_module_version": "1.5.0",
          "state": {
            "_model_module": "@jupyter-widgets/controls",
            "_model_module_version": "1.5.0",
            "_model_name": "DescriptionStyleModel",
            "_view_count": null,
            "_view_module": "@jupyter-widgets/base",
            "_view_module_version": "1.2.0",
            "_view_name": "StyleView",
            "description_width": ""
          }
        },
        "225d7d78ae6942a8b6216a2fcace9a8d": {
          "model_module": "@jupyter-widgets/controls",
          "model_name": "HBoxModel",
          "model_module_version": "1.5.0",
          "state": {
            "_dom_classes": [],
            "_model_module": "@jupyter-widgets/controls",
            "_model_module_version": "1.5.0",
            "_model_name": "HBoxModel",
            "_view_count": null,
            "_view_module": "@jupyter-widgets/controls",
            "_view_module_version": "1.5.0",
            "_view_name": "HBoxView",
            "box_style": "",
            "children": [
              "IPY_MODEL_2348546640834c3e9ff968ef59654c44",
              "IPY_MODEL_571761e7deb0407084313cc7dd66391c",
              "IPY_MODEL_3ae8d105ea004aae81bef3b2cae06d37"
            ],
            "layout": "IPY_MODEL_2a2f144ad25840d881d70b3b20e7bd9f"
          }
        },
        "2348546640834c3e9ff968ef59654c44": {
          "model_module": "@jupyter-widgets/controls",
          "model_name": "HTMLModel",
          "model_module_version": "1.5.0",
          "state": {
            "_dom_classes": [],
            "_model_module": "@jupyter-widgets/controls",
            "_model_module_version": "1.5.0",
            "_model_name": "HTMLModel",
            "_view_count": null,
            "_view_module": "@jupyter-widgets/controls",
            "_view_module_version": "1.5.0",
            "_view_name": "HTMLView",
            "description": "",
            "description_tooltip": null,
            "layout": "IPY_MODEL_7cb53b66a9454588bdf59dee891e4996",
            "placeholder": "​",
            "style": "IPY_MODEL_e1364cb31f9d4b1684bc2a8e004d5c1d",
            "value": "Downloading: 100%"
          }
        },
        "571761e7deb0407084313cc7dd66391c": {
          "model_module": "@jupyter-widgets/controls",
          "model_name": "FloatProgressModel",
          "model_module_version": "1.5.0",
          "state": {
            "_dom_classes": [],
            "_model_module": "@jupyter-widgets/controls",
            "_model_module_version": "1.5.0",
            "_model_name": "FloatProgressModel",
            "_view_count": null,
            "_view_module": "@jupyter-widgets/controls",
            "_view_module_version": "1.5.0",
            "_view_name": "ProgressView",
            "bar_style": "success",
            "description": "",
            "description_tooltip": null,
            "layout": "IPY_MODEL_802a6aabca074df68ee3256b3f412648",
            "max": 53,
            "min": 0,
            "orientation": "horizontal",
            "style": "IPY_MODEL_c765a7f2eb8c4287a1dd241bd25895b4",
            "value": 53
          }
        },
        "3ae8d105ea004aae81bef3b2cae06d37": {
          "model_module": "@jupyter-widgets/controls",
          "model_name": "HTMLModel",
          "model_module_version": "1.5.0",
          "state": {
            "_dom_classes": [],
            "_model_module": "@jupyter-widgets/controls",
            "_model_module_version": "1.5.0",
            "_model_name": "HTMLModel",
            "_view_count": null,
            "_view_module": "@jupyter-widgets/controls",
            "_view_module_version": "1.5.0",
            "_view_name": "HTMLView",
            "description": "",
            "description_tooltip": null,
            "layout": "IPY_MODEL_1e200a8bad744f77874ee805d24f3f9f",
            "placeholder": "​",
            "style": "IPY_MODEL_5d02b234a8484b5b9d3f315452eedf9e",
            "value": " 53.0/53.0 [00:00&lt;00:00, 2.27kB/s]"
          }
        },
        "2a2f144ad25840d881d70b3b20e7bd9f": {
          "model_module": "@jupyter-widgets/base",
          "model_name": "LayoutModel",
          "model_module_version": "1.2.0",
          "state": {
            "_model_module": "@jupyter-widgets/base",
            "_model_module_version": "1.2.0",
            "_model_name": "LayoutModel",
            "_view_count": null,
            "_view_module": "@jupyter-widgets/base",
            "_view_module_version": "1.2.0",
            "_view_name": "LayoutView",
            "align_content": null,
            "align_items": null,
            "align_self": null,
            "border": null,
            "bottom": null,
            "display": null,
            "flex": null,
            "flex_flow": null,
            "grid_area": null,
            "grid_auto_columns": null,
            "grid_auto_flow": null,
            "grid_auto_rows": null,
            "grid_column": null,
            "grid_gap": null,
            "grid_row": null,
            "grid_template_areas": null,
            "grid_template_columns": null,
            "grid_template_rows": null,
            "height": null,
            "justify_content": null,
            "justify_items": null,
            "left": null,
            "margin": null,
            "max_height": null,
            "max_width": null,
            "min_height": null,
            "min_width": null,
            "object_fit": null,
            "object_position": null,
            "order": null,
            "overflow": null,
            "overflow_x": null,
            "overflow_y": null,
            "padding": null,
            "right": null,
            "top": null,
            "visibility": null,
            "width": null
          }
        },
        "7cb53b66a9454588bdf59dee891e4996": {
          "model_module": "@jupyter-widgets/base",
          "model_name": "LayoutModel",
          "model_module_version": "1.2.0",
          "state": {
            "_model_module": "@jupyter-widgets/base",
            "_model_module_version": "1.2.0",
            "_model_name": "LayoutModel",
            "_view_count": null,
            "_view_module": "@jupyter-widgets/base",
            "_view_module_version": "1.2.0",
            "_view_name": "LayoutView",
            "align_content": null,
            "align_items": null,
            "align_self": null,
            "border": null,
            "bottom": null,
            "display": null,
            "flex": null,
            "flex_flow": null,
            "grid_area": null,
            "grid_auto_columns": null,
            "grid_auto_flow": null,
            "grid_auto_rows": null,
            "grid_column": null,
            "grid_gap": null,
            "grid_row": null,
            "grid_template_areas": null,
            "grid_template_columns": null,
            "grid_template_rows": null,
            "height": null,
            "justify_content": null,
            "justify_items": null,
            "left": null,
            "margin": null,
            "max_height": null,
            "max_width": null,
            "min_height": null,
            "min_width": null,
            "object_fit": null,
            "object_position": null,
            "order": null,
            "overflow": null,
            "overflow_x": null,
            "overflow_y": null,
            "padding": null,
            "right": null,
            "top": null,
            "visibility": null,
            "width": null
          }
        },
        "e1364cb31f9d4b1684bc2a8e004d5c1d": {
          "model_module": "@jupyter-widgets/controls",
          "model_name": "DescriptionStyleModel",
          "model_module_version": "1.5.0",
          "state": {
            "_model_module": "@jupyter-widgets/controls",
            "_model_module_version": "1.5.0",
            "_model_name": "DescriptionStyleModel",
            "_view_count": null,
            "_view_module": "@jupyter-widgets/base",
            "_view_module_version": "1.2.0",
            "_view_name": "StyleView",
            "description_width": ""
          }
        },
        "802a6aabca074df68ee3256b3f412648": {
          "model_module": "@jupyter-widgets/base",
          "model_name": "LayoutModel",
          "model_module_version": "1.2.0",
          "state": {
            "_model_module": "@jupyter-widgets/base",
            "_model_module_version": "1.2.0",
            "_model_name": "LayoutModel",
            "_view_count": null,
            "_view_module": "@jupyter-widgets/base",
            "_view_module_version": "1.2.0",
            "_view_name": "LayoutView",
            "align_content": null,
            "align_items": null,
            "align_self": null,
            "border": null,
            "bottom": null,
            "display": null,
            "flex": null,
            "flex_flow": null,
            "grid_area": null,
            "grid_auto_columns": null,
            "grid_auto_flow": null,
            "grid_auto_rows": null,
            "grid_column": null,
            "grid_gap": null,
            "grid_row": null,
            "grid_template_areas": null,
            "grid_template_columns": null,
            "grid_template_rows": null,
            "height": null,
            "justify_content": null,
            "justify_items": null,
            "left": null,
            "margin": null,
            "max_height": null,
            "max_width": null,
            "min_height": null,
            "min_width": null,
            "object_fit": null,
            "object_position": null,
            "order": null,
            "overflow": null,
            "overflow_x": null,
            "overflow_y": null,
            "padding": null,
            "right": null,
            "top": null,
            "visibility": null,
            "width": null
          }
        },
        "c765a7f2eb8c4287a1dd241bd25895b4": {
          "model_module": "@jupyter-widgets/controls",
          "model_name": "ProgressStyleModel",
          "model_module_version": "1.5.0",
          "state": {
            "_model_module": "@jupyter-widgets/controls",
            "_model_module_version": "1.5.0",
            "_model_name": "ProgressStyleModel",
            "_view_count": null,
            "_view_module": "@jupyter-widgets/base",
            "_view_module_version": "1.2.0",
            "_view_name": "StyleView",
            "bar_color": null,
            "description_width": ""
          }
        },
        "1e200a8bad744f77874ee805d24f3f9f": {
          "model_module": "@jupyter-widgets/base",
          "model_name": "LayoutModel",
          "model_module_version": "1.2.0",
          "state": {
            "_model_module": "@jupyter-widgets/base",
            "_model_module_version": "1.2.0",
            "_model_name": "LayoutModel",
            "_view_count": null,
            "_view_module": "@jupyter-widgets/base",
            "_view_module_version": "1.2.0",
            "_view_name": "LayoutView",
            "align_content": null,
            "align_items": null,
            "align_self": null,
            "border": null,
            "bottom": null,
            "display": null,
            "flex": null,
            "flex_flow": null,
            "grid_area": null,
            "grid_auto_columns": null,
            "grid_auto_flow": null,
            "grid_auto_rows": null,
            "grid_column": null,
            "grid_gap": null,
            "grid_row": null,
            "grid_template_areas": null,
            "grid_template_columns": null,
            "grid_template_rows": null,
            "height": null,
            "justify_content": null,
            "justify_items": null,
            "left": null,
            "margin": null,
            "max_height": null,
            "max_width": null,
            "min_height": null,
            "min_width": null,
            "object_fit": null,
            "object_position": null,
            "order": null,
            "overflow": null,
            "overflow_x": null,
            "overflow_y": null,
            "padding": null,
            "right": null,
            "top": null,
            "visibility": null,
            "width": null
          }
        },
        "5d02b234a8484b5b9d3f315452eedf9e": {
          "model_module": "@jupyter-widgets/controls",
          "model_name": "DescriptionStyleModel",
          "model_module_version": "1.5.0",
          "state": {
            "_model_module": "@jupyter-widgets/controls",
            "_model_module_version": "1.5.0",
            "_model_name": "DescriptionStyleModel",
            "_view_count": null,
            "_view_module": "@jupyter-widgets/base",
            "_view_module_version": "1.2.0",
            "_view_name": "StyleView",
            "description_width": ""
          }
        },
        "e1329164d81a44c5b88a9e3e22c50c69": {
          "model_module": "@jupyter-widgets/controls",
          "model_name": "HBoxModel",
          "model_module_version": "1.5.0",
          "state": {
            "_dom_classes": [],
            "_model_module": "@jupyter-widgets/controls",
            "_model_module_version": "1.5.0",
            "_model_name": "HBoxModel",
            "_view_count": null,
            "_view_module": "@jupyter-widgets/controls",
            "_view_module_version": "1.5.0",
            "_view_name": "HBoxView",
            "box_style": "",
            "children": [
              "IPY_MODEL_23451d2405d04685b2f8ee9094768c8f",
              "IPY_MODEL_f760d17bc50f4aa78dce6c30aec8cd6f",
              "IPY_MODEL_fe182dbb35c948d8a6884df541805349"
            ],
            "layout": "IPY_MODEL_42a1fd46a69e48438c44a2d478599c08"
          }
        },
        "23451d2405d04685b2f8ee9094768c8f": {
          "model_module": "@jupyter-widgets/controls",
          "model_name": "HTMLModel",
          "model_module_version": "1.5.0",
          "state": {
            "_dom_classes": [],
            "_model_module": "@jupyter-widgets/controls",
            "_model_module_version": "1.5.0",
            "_model_name": "HTMLModel",
            "_view_count": null,
            "_view_module": "@jupyter-widgets/controls",
            "_view_module_version": "1.5.0",
            "_view_name": "HTMLView",
            "description": "",
            "description_tooltip": null,
            "layout": "IPY_MODEL_3c07da9a8bea44a5b43a85e16c6b67a2",
            "placeholder": "​",
            "style": "IPY_MODEL_097804a8fefb4fd8a1068b1e94f755ee",
            "value": "Downloading: 100%"
          }
        },
        "f760d17bc50f4aa78dce6c30aec8cd6f": {
          "model_module": "@jupyter-widgets/controls",
          "model_name": "FloatProgressModel",
          "model_module_version": "1.5.0",
          "state": {
            "_dom_classes": [],
            "_model_module": "@jupyter-widgets/controls",
            "_model_module_version": "1.5.0",
            "_model_name": "FloatProgressModel",
            "_view_count": null,
            "_view_module": "@jupyter-widgets/controls",
            "_view_module_version": "1.5.0",
            "_view_name": "ProgressView",
            "bar_style": "success",
            "description": "",
            "description_tooltip": null,
            "layout": "IPY_MODEL_891cfc9c98444686bb31d6a07c52029e",
            "max": 112,
            "min": 0,
            "orientation": "horizontal",
            "style": "IPY_MODEL_02772e4060254f979b3f5b5375466f30",
            "value": 112
          }
        },
        "fe182dbb35c948d8a6884df541805349": {
          "model_module": "@jupyter-widgets/controls",
          "model_name": "HTMLModel",
          "model_module_version": "1.5.0",
          "state": {
            "_dom_classes": [],
            "_model_module": "@jupyter-widgets/controls",
            "_model_module_version": "1.5.0",
            "_model_name": "HTMLModel",
            "_view_count": null,
            "_view_module": "@jupyter-widgets/controls",
            "_view_module_version": "1.5.0",
            "_view_name": "HTMLView",
            "description": "",
            "description_tooltip": null,
            "layout": "IPY_MODEL_032f4313e37d475184f7ab3aa4d04d3b",
            "placeholder": "​",
            "style": "IPY_MODEL_4e0f8d0a5719428fb9b2293d409f1e8f",
            "value": " 112/112 [00:00&lt;00:00, 3.06kB/s]"
          }
        },
        "42a1fd46a69e48438c44a2d478599c08": {
          "model_module": "@jupyter-widgets/base",
          "model_name": "LayoutModel",
          "model_module_version": "1.2.0",
          "state": {
            "_model_module": "@jupyter-widgets/base",
            "_model_module_version": "1.2.0",
            "_model_name": "LayoutModel",
            "_view_count": null,
            "_view_module": "@jupyter-widgets/base",
            "_view_module_version": "1.2.0",
            "_view_name": "LayoutView",
            "align_content": null,
            "align_items": null,
            "align_self": null,
            "border": null,
            "bottom": null,
            "display": null,
            "flex": null,
            "flex_flow": null,
            "grid_area": null,
            "grid_auto_columns": null,
            "grid_auto_flow": null,
            "grid_auto_rows": null,
            "grid_column": null,
            "grid_gap": null,
            "grid_row": null,
            "grid_template_areas": null,
            "grid_template_columns": null,
            "grid_template_rows": null,
            "height": null,
            "justify_content": null,
            "justify_items": null,
            "left": null,
            "margin": null,
            "max_height": null,
            "max_width": null,
            "min_height": null,
            "min_width": null,
            "object_fit": null,
            "object_position": null,
            "order": null,
            "overflow": null,
            "overflow_x": null,
            "overflow_y": null,
            "padding": null,
            "right": null,
            "top": null,
            "visibility": null,
            "width": null
          }
        },
        "3c07da9a8bea44a5b43a85e16c6b67a2": {
          "model_module": "@jupyter-widgets/base",
          "model_name": "LayoutModel",
          "model_module_version": "1.2.0",
          "state": {
            "_model_module": "@jupyter-widgets/base",
            "_model_module_version": "1.2.0",
            "_model_name": "LayoutModel",
            "_view_count": null,
            "_view_module": "@jupyter-widgets/base",
            "_view_module_version": "1.2.0",
            "_view_name": "LayoutView",
            "align_content": null,
            "align_items": null,
            "align_self": null,
            "border": null,
            "bottom": null,
            "display": null,
            "flex": null,
            "flex_flow": null,
            "grid_area": null,
            "grid_auto_columns": null,
            "grid_auto_flow": null,
            "grid_auto_rows": null,
            "grid_column": null,
            "grid_gap": null,
            "grid_row": null,
            "grid_template_areas": null,
            "grid_template_columns": null,
            "grid_template_rows": null,
            "height": null,
            "justify_content": null,
            "justify_items": null,
            "left": null,
            "margin": null,
            "max_height": null,
            "max_width": null,
            "min_height": null,
            "min_width": null,
            "object_fit": null,
            "object_position": null,
            "order": null,
            "overflow": null,
            "overflow_x": null,
            "overflow_y": null,
            "padding": null,
            "right": null,
            "top": null,
            "visibility": null,
            "width": null
          }
        },
        "097804a8fefb4fd8a1068b1e94f755ee": {
          "model_module": "@jupyter-widgets/controls",
          "model_name": "DescriptionStyleModel",
          "model_module_version": "1.5.0",
          "state": {
            "_model_module": "@jupyter-widgets/controls",
            "_model_module_version": "1.5.0",
            "_model_name": "DescriptionStyleModel",
            "_view_count": null,
            "_view_module": "@jupyter-widgets/base",
            "_view_module_version": "1.2.0",
            "_view_name": "StyleView",
            "description_width": ""
          }
        },
        "891cfc9c98444686bb31d6a07c52029e": {
          "model_module": "@jupyter-widgets/base",
          "model_name": "LayoutModel",
          "model_module_version": "1.2.0",
          "state": {
            "_model_module": "@jupyter-widgets/base",
            "_model_module_version": "1.2.0",
            "_model_name": "LayoutModel",
            "_view_count": null,
            "_view_module": "@jupyter-widgets/base",
            "_view_module_version": "1.2.0",
            "_view_name": "LayoutView",
            "align_content": null,
            "align_items": null,
            "align_self": null,
            "border": null,
            "bottom": null,
            "display": null,
            "flex": null,
            "flex_flow": null,
            "grid_area": null,
            "grid_auto_columns": null,
            "grid_auto_flow": null,
            "grid_auto_rows": null,
            "grid_column": null,
            "grid_gap": null,
            "grid_row": null,
            "grid_template_areas": null,
            "grid_template_columns": null,
            "grid_template_rows": null,
            "height": null,
            "justify_content": null,
            "justify_items": null,
            "left": null,
            "margin": null,
            "max_height": null,
            "max_width": null,
            "min_height": null,
            "min_width": null,
            "object_fit": null,
            "object_position": null,
            "order": null,
            "overflow": null,
            "overflow_x": null,
            "overflow_y": null,
            "padding": null,
            "right": null,
            "top": null,
            "visibility": null,
            "width": null
          }
        },
        "02772e4060254f979b3f5b5375466f30": {
          "model_module": "@jupyter-widgets/controls",
          "model_name": "ProgressStyleModel",
          "model_module_version": "1.5.0",
          "state": {
            "_model_module": "@jupyter-widgets/controls",
            "_model_module_version": "1.5.0",
            "_model_name": "ProgressStyleModel",
            "_view_count": null,
            "_view_module": "@jupyter-widgets/base",
            "_view_module_version": "1.2.0",
            "_view_name": "StyleView",
            "bar_color": null,
            "description_width": ""
          }
        },
        "032f4313e37d475184f7ab3aa4d04d3b": {
          "model_module": "@jupyter-widgets/base",
          "model_name": "LayoutModel",
          "model_module_version": "1.2.0",
          "state": {
            "_model_module": "@jupyter-widgets/base",
            "_model_module_version": "1.2.0",
            "_model_name": "LayoutModel",
            "_view_count": null,
            "_view_module": "@jupyter-widgets/base",
            "_view_module_version": "1.2.0",
            "_view_name": "LayoutView",
            "align_content": null,
            "align_items": null,
            "align_self": null,
            "border": null,
            "bottom": null,
            "display": null,
            "flex": null,
            "flex_flow": null,
            "grid_area": null,
            "grid_auto_columns": null,
            "grid_auto_flow": null,
            "grid_auto_rows": null,
            "grid_column": null,
            "grid_gap": null,
            "grid_row": null,
            "grid_template_areas": null,
            "grid_template_columns": null,
            "grid_template_rows": null,
            "height": null,
            "justify_content": null,
            "justify_items": null,
            "left": null,
            "margin": null,
            "max_height": null,
            "max_width": null,
            "min_height": null,
            "min_width": null,
            "object_fit": null,
            "object_position": null,
            "order": null,
            "overflow": null,
            "overflow_x": null,
            "overflow_y": null,
            "padding": null,
            "right": null,
            "top": null,
            "visibility": null,
            "width": null
          }
        },
        "4e0f8d0a5719428fb9b2293d409f1e8f": {
          "model_module": "@jupyter-widgets/controls",
          "model_name": "DescriptionStyleModel",
          "model_module_version": "1.5.0",
          "state": {
            "_model_module": "@jupyter-widgets/controls",
            "_model_module_version": "1.5.0",
            "_model_name": "DescriptionStyleModel",
            "_view_count": null,
            "_view_module": "@jupyter-widgets/base",
            "_view_module_version": "1.2.0",
            "_view_name": "StyleView",
            "description_width": ""
          }
        },
        "9b472e7d778842e18591028b5ea5317e": {
          "model_module": "@jupyter-widgets/controls",
          "model_name": "HBoxModel",
          "model_module_version": "1.5.0",
          "state": {
            "_dom_classes": [],
            "_model_module": "@jupyter-widgets/controls",
            "_model_module_version": "1.5.0",
            "_model_name": "HBoxModel",
            "_view_count": null,
            "_view_module": "@jupyter-widgets/controls",
            "_view_module_version": "1.5.0",
            "_view_name": "HBoxView",
            "box_style": "",
            "children": [
              "IPY_MODEL_d505c4eb11fb4e04ab971c4a35d36d7b",
              "IPY_MODEL_edc13242d49a4c13a87b0c88558442ed",
              "IPY_MODEL_8d50e98b81c7479eaea95e6218f18bc9"
            ],
            "layout": "IPY_MODEL_7f3be6149f7c47ac9fac86930cee420b"
          }
        },
        "d505c4eb11fb4e04ab971c4a35d36d7b": {
          "model_module": "@jupyter-widgets/controls",
          "model_name": "HTMLModel",
          "model_module_version": "1.5.0",
          "state": {
            "_dom_classes": [],
            "_model_module": "@jupyter-widgets/controls",
            "_model_module_version": "1.5.0",
            "_model_name": "HTMLModel",
            "_view_count": null,
            "_view_module": "@jupyter-widgets/controls",
            "_view_module_version": "1.5.0",
            "_view_name": "HTMLView",
            "description": "",
            "description_tooltip": null,
            "layout": "IPY_MODEL_cf76df0c635f4c6fac6a81002601e509",
            "placeholder": "​",
            "style": "IPY_MODEL_0476d9377e3a42a0bc949c2887824b56",
            "value": "Downloading: 100%"
          }
        },
        "edc13242d49a4c13a87b0c88558442ed": {
          "model_module": "@jupyter-widgets/controls",
          "model_name": "FloatProgressModel",
          "model_module_version": "1.5.0",
          "state": {
            "_dom_classes": [],
            "_model_module": "@jupyter-widgets/controls",
            "_model_module_version": "1.5.0",
            "_model_name": "FloatProgressModel",
            "_view_count": null,
            "_view_module": "@jupyter-widgets/controls",
            "_view_module_version": "1.5.0",
            "_view_name": "ProgressView",
            "bar_style": "success",
            "description": "",
            "description_tooltip": null,
            "layout": "IPY_MODEL_133ff1cf44e943faab19a4a4dce9abd3",
            "max": 466081,
            "min": 0,
            "orientation": "horizontal",
            "style": "IPY_MODEL_b80be57d94794eafb5b47cc57ca250a0",
            "value": 466081
          }
        },
        "8d50e98b81c7479eaea95e6218f18bc9": {
          "model_module": "@jupyter-widgets/controls",
          "model_name": "HTMLModel",
          "model_module_version": "1.5.0",
          "state": {
            "_dom_classes": [],
            "_model_module": "@jupyter-widgets/controls",
            "_model_module_version": "1.5.0",
            "_model_name": "HTMLModel",
            "_view_count": null,
            "_view_module": "@jupyter-widgets/controls",
            "_view_module_version": "1.5.0",
            "_view_name": "HTMLView",
            "description": "",
            "description_tooltip": null,
            "layout": "IPY_MODEL_ac52331146e5498db6649170391bc7d6",
            "placeholder": "​",
            "style": "IPY_MODEL_c72c4481f115485aa8c76f297b86deb3",
            "value": " 466k/466k [00:00&lt;00:00, 917kB/s]"
          }
        },
        "7f3be6149f7c47ac9fac86930cee420b": {
          "model_module": "@jupyter-widgets/base",
          "model_name": "LayoutModel",
          "model_module_version": "1.2.0",
          "state": {
            "_model_module": "@jupyter-widgets/base",
            "_model_module_version": "1.2.0",
            "_model_name": "LayoutModel",
            "_view_count": null,
            "_view_module": "@jupyter-widgets/base",
            "_view_module_version": "1.2.0",
            "_view_name": "LayoutView",
            "align_content": null,
            "align_items": null,
            "align_self": null,
            "border": null,
            "bottom": null,
            "display": null,
            "flex": null,
            "flex_flow": null,
            "grid_area": null,
            "grid_auto_columns": null,
            "grid_auto_flow": null,
            "grid_auto_rows": null,
            "grid_column": null,
            "grid_gap": null,
            "grid_row": null,
            "grid_template_areas": null,
            "grid_template_columns": null,
            "grid_template_rows": null,
            "height": null,
            "justify_content": null,
            "justify_items": null,
            "left": null,
            "margin": null,
            "max_height": null,
            "max_width": null,
            "min_height": null,
            "min_width": null,
            "object_fit": null,
            "object_position": null,
            "order": null,
            "overflow": null,
            "overflow_x": null,
            "overflow_y": null,
            "padding": null,
            "right": null,
            "top": null,
            "visibility": null,
            "width": null
          }
        },
        "cf76df0c635f4c6fac6a81002601e509": {
          "model_module": "@jupyter-widgets/base",
          "model_name": "LayoutModel",
          "model_module_version": "1.2.0",
          "state": {
            "_model_module": "@jupyter-widgets/base",
            "_model_module_version": "1.2.0",
            "_model_name": "LayoutModel",
            "_view_count": null,
            "_view_module": "@jupyter-widgets/base",
            "_view_module_version": "1.2.0",
            "_view_name": "LayoutView",
            "align_content": null,
            "align_items": null,
            "align_self": null,
            "border": null,
            "bottom": null,
            "display": null,
            "flex": null,
            "flex_flow": null,
            "grid_area": null,
            "grid_auto_columns": null,
            "grid_auto_flow": null,
            "grid_auto_rows": null,
            "grid_column": null,
            "grid_gap": null,
            "grid_row": null,
            "grid_template_areas": null,
            "grid_template_columns": null,
            "grid_template_rows": null,
            "height": null,
            "justify_content": null,
            "justify_items": null,
            "left": null,
            "margin": null,
            "max_height": null,
            "max_width": null,
            "min_height": null,
            "min_width": null,
            "object_fit": null,
            "object_position": null,
            "order": null,
            "overflow": null,
            "overflow_x": null,
            "overflow_y": null,
            "padding": null,
            "right": null,
            "top": null,
            "visibility": null,
            "width": null
          }
        },
        "0476d9377e3a42a0bc949c2887824b56": {
          "model_module": "@jupyter-widgets/controls",
          "model_name": "DescriptionStyleModel",
          "model_module_version": "1.5.0",
          "state": {
            "_model_module": "@jupyter-widgets/controls",
            "_model_module_version": "1.5.0",
            "_model_name": "DescriptionStyleModel",
            "_view_count": null,
            "_view_module": "@jupyter-widgets/base",
            "_view_module_version": "1.2.0",
            "_view_name": "StyleView",
            "description_width": ""
          }
        },
        "133ff1cf44e943faab19a4a4dce9abd3": {
          "model_module": "@jupyter-widgets/base",
          "model_name": "LayoutModel",
          "model_module_version": "1.2.0",
          "state": {
            "_model_module": "@jupyter-widgets/base",
            "_model_module_version": "1.2.0",
            "_model_name": "LayoutModel",
            "_view_count": null,
            "_view_module": "@jupyter-widgets/base",
            "_view_module_version": "1.2.0",
            "_view_name": "LayoutView",
            "align_content": null,
            "align_items": null,
            "align_self": null,
            "border": null,
            "bottom": null,
            "display": null,
            "flex": null,
            "flex_flow": null,
            "grid_area": null,
            "grid_auto_columns": null,
            "grid_auto_flow": null,
            "grid_auto_rows": null,
            "grid_column": null,
            "grid_gap": null,
            "grid_row": null,
            "grid_template_areas": null,
            "grid_template_columns": null,
            "grid_template_rows": null,
            "height": null,
            "justify_content": null,
            "justify_items": null,
            "left": null,
            "margin": null,
            "max_height": null,
            "max_width": null,
            "min_height": null,
            "min_width": null,
            "object_fit": null,
            "object_position": null,
            "order": null,
            "overflow": null,
            "overflow_x": null,
            "overflow_y": null,
            "padding": null,
            "right": null,
            "top": null,
            "visibility": null,
            "width": null
          }
        },
        "b80be57d94794eafb5b47cc57ca250a0": {
          "model_module": "@jupyter-widgets/controls",
          "model_name": "ProgressStyleModel",
          "model_module_version": "1.5.0",
          "state": {
            "_model_module": "@jupyter-widgets/controls",
            "_model_module_version": "1.5.0",
            "_model_name": "ProgressStyleModel",
            "_view_count": null,
            "_view_module": "@jupyter-widgets/base",
            "_view_module_version": "1.2.0",
            "_view_name": "StyleView",
            "bar_color": null,
            "description_width": ""
          }
        },
        "ac52331146e5498db6649170391bc7d6": {
          "model_module": "@jupyter-widgets/base",
          "model_name": "LayoutModel",
          "model_module_version": "1.2.0",
          "state": {
            "_model_module": "@jupyter-widgets/base",
            "_model_module_version": "1.2.0",
            "_model_name": "LayoutModel",
            "_view_count": null,
            "_view_module": "@jupyter-widgets/base",
            "_view_module_version": "1.2.0",
            "_view_name": "LayoutView",
            "align_content": null,
            "align_items": null,
            "align_self": null,
            "border": null,
            "bottom": null,
            "display": null,
            "flex": null,
            "flex_flow": null,
            "grid_area": null,
            "grid_auto_columns": null,
            "grid_auto_flow": null,
            "grid_auto_rows": null,
            "grid_column": null,
            "grid_gap": null,
            "grid_row": null,
            "grid_template_areas": null,
            "grid_template_columns": null,
            "grid_template_rows": null,
            "height": null,
            "justify_content": null,
            "justify_items": null,
            "left": null,
            "margin": null,
            "max_height": null,
            "max_width": null,
            "min_height": null,
            "min_width": null,
            "object_fit": null,
            "object_position": null,
            "order": null,
            "overflow": null,
            "overflow_x": null,
            "overflow_y": null,
            "padding": null,
            "right": null,
            "top": null,
            "visibility": null,
            "width": null
          }
        },
        "c72c4481f115485aa8c76f297b86deb3": {
          "model_module": "@jupyter-widgets/controls",
          "model_name": "DescriptionStyleModel",
          "model_module_version": "1.5.0",
          "state": {
            "_model_module": "@jupyter-widgets/controls",
            "_model_module_version": "1.5.0",
            "_model_name": "DescriptionStyleModel",
            "_view_count": null,
            "_view_module": "@jupyter-widgets/base",
            "_view_module_version": "1.2.0",
            "_view_name": "StyleView",
            "description_width": ""
          }
        },
        "9b19920935c3425397fd2d12d93a5f88": {
          "model_module": "@jupyter-widgets/controls",
          "model_name": "HBoxModel",
          "model_module_version": "1.5.0",
          "state": {
            "_dom_classes": [],
            "_model_module": "@jupyter-widgets/controls",
            "_model_module_version": "1.5.0",
            "_model_name": "HBoxModel",
            "_view_count": null,
            "_view_module": "@jupyter-widgets/controls",
            "_view_module_version": "1.5.0",
            "_view_name": "HBoxView",
            "box_style": "",
            "children": [
              "IPY_MODEL_a8c0ebbaafdd4b5d98d639910408a30b",
              "IPY_MODEL_90bff0b8a43b4c6faf3daa8e1846ed51",
              "IPY_MODEL_a23967433a6248d1bf27648cb547ca89"
            ],
            "layout": "IPY_MODEL_8203eaad90de46ddac08113cf24066ed"
          }
        },
        "a8c0ebbaafdd4b5d98d639910408a30b": {
          "model_module": "@jupyter-widgets/controls",
          "model_name": "HTMLModel",
          "model_module_version": "1.5.0",
          "state": {
            "_dom_classes": [],
            "_model_module": "@jupyter-widgets/controls",
            "_model_module_version": "1.5.0",
            "_model_name": "HTMLModel",
            "_view_count": null,
            "_view_module": "@jupyter-widgets/controls",
            "_view_module_version": "1.5.0",
            "_view_name": "HTMLView",
            "description": "",
            "description_tooltip": null,
            "layout": "IPY_MODEL_c52505e25ebb4a059d467cc233e0a51a",
            "placeholder": "​",
            "style": "IPY_MODEL_435a0028f3b346bd9d562e47adf05a9c",
            "value": "Downloading: 100%"
          }
        },
        "90bff0b8a43b4c6faf3daa8e1846ed51": {
          "model_module": "@jupyter-widgets/controls",
          "model_name": "FloatProgressModel",
          "model_module_version": "1.5.0",
          "state": {
            "_dom_classes": [],
            "_model_module": "@jupyter-widgets/controls",
            "_model_module_version": "1.5.0",
            "_model_name": "FloatProgressModel",
            "_view_count": null,
            "_view_module": "@jupyter-widgets/controls",
            "_view_module_version": "1.5.0",
            "_view_name": "ProgressView",
            "bar_style": "success",
            "description": "",
            "description_tooltip": null,
            "layout": "IPY_MODEL_b45aa3356c454d73b423dfd22bf251cd",
            "max": 376,
            "min": 0,
            "orientation": "horizontal",
            "style": "IPY_MODEL_f45b3087d339421b8cb4be8354336297",
            "value": 376
          }
        },
        "a23967433a6248d1bf27648cb547ca89": {
          "model_module": "@jupyter-widgets/controls",
          "model_name": "HTMLModel",
          "model_module_version": "1.5.0",
          "state": {
            "_dom_classes": [],
            "_model_module": "@jupyter-widgets/controls",
            "_model_module_version": "1.5.0",
            "_model_name": "HTMLModel",
            "_view_count": null,
            "_view_module": "@jupyter-widgets/controls",
            "_view_module_version": "1.5.0",
            "_view_name": "HTMLView",
            "description": "",
            "description_tooltip": null,
            "layout": "IPY_MODEL_576ad60eea004d7fb4caad1c570a2d46",
            "placeholder": "​",
            "style": "IPY_MODEL_836aa24a0b3043dd8c7b07917bd66428",
            "value": " 376/376 [00:00&lt;00:00, 16.3kB/s]"
          }
        },
        "8203eaad90de46ddac08113cf24066ed": {
          "model_module": "@jupyter-widgets/base",
          "model_name": "LayoutModel",
          "model_module_version": "1.2.0",
          "state": {
            "_model_module": "@jupyter-widgets/base",
            "_model_module_version": "1.2.0",
            "_model_name": "LayoutModel",
            "_view_count": null,
            "_view_module": "@jupyter-widgets/base",
            "_view_module_version": "1.2.0",
            "_view_name": "LayoutView",
            "align_content": null,
            "align_items": null,
            "align_self": null,
            "border": null,
            "bottom": null,
            "display": null,
            "flex": null,
            "flex_flow": null,
            "grid_area": null,
            "grid_auto_columns": null,
            "grid_auto_flow": null,
            "grid_auto_rows": null,
            "grid_column": null,
            "grid_gap": null,
            "grid_row": null,
            "grid_template_areas": null,
            "grid_template_columns": null,
            "grid_template_rows": null,
            "height": null,
            "justify_content": null,
            "justify_items": null,
            "left": null,
            "margin": null,
            "max_height": null,
            "max_width": null,
            "min_height": null,
            "min_width": null,
            "object_fit": null,
            "object_position": null,
            "order": null,
            "overflow": null,
            "overflow_x": null,
            "overflow_y": null,
            "padding": null,
            "right": null,
            "top": null,
            "visibility": null,
            "width": null
          }
        },
        "c52505e25ebb4a059d467cc233e0a51a": {
          "model_module": "@jupyter-widgets/base",
          "model_name": "LayoutModel",
          "model_module_version": "1.2.0",
          "state": {
            "_model_module": "@jupyter-widgets/base",
            "_model_module_version": "1.2.0",
            "_model_name": "LayoutModel",
            "_view_count": null,
            "_view_module": "@jupyter-widgets/base",
            "_view_module_version": "1.2.0",
            "_view_name": "LayoutView",
            "align_content": null,
            "align_items": null,
            "align_self": null,
            "border": null,
            "bottom": null,
            "display": null,
            "flex": null,
            "flex_flow": null,
            "grid_area": null,
            "grid_auto_columns": null,
            "grid_auto_flow": null,
            "grid_auto_rows": null,
            "grid_column": null,
            "grid_gap": null,
            "grid_row": null,
            "grid_template_areas": null,
            "grid_template_columns": null,
            "grid_template_rows": null,
            "height": null,
            "justify_content": null,
            "justify_items": null,
            "left": null,
            "margin": null,
            "max_height": null,
            "max_width": null,
            "min_height": null,
            "min_width": null,
            "object_fit": null,
            "object_position": null,
            "order": null,
            "overflow": null,
            "overflow_x": null,
            "overflow_y": null,
            "padding": null,
            "right": null,
            "top": null,
            "visibility": null,
            "width": null
          }
        },
        "435a0028f3b346bd9d562e47adf05a9c": {
          "model_module": "@jupyter-widgets/controls",
          "model_name": "DescriptionStyleModel",
          "model_module_version": "1.5.0",
          "state": {
            "_model_module": "@jupyter-widgets/controls",
            "_model_module_version": "1.5.0",
            "_model_name": "DescriptionStyleModel",
            "_view_count": null,
            "_view_module": "@jupyter-widgets/base",
            "_view_module_version": "1.2.0",
            "_view_name": "StyleView",
            "description_width": ""
          }
        },
        "b45aa3356c454d73b423dfd22bf251cd": {
          "model_module": "@jupyter-widgets/base",
          "model_name": "LayoutModel",
          "model_module_version": "1.2.0",
          "state": {
            "_model_module": "@jupyter-widgets/base",
            "_model_module_version": "1.2.0",
            "_model_name": "LayoutModel",
            "_view_count": null,
            "_view_module": "@jupyter-widgets/base",
            "_view_module_version": "1.2.0",
            "_view_name": "LayoutView",
            "align_content": null,
            "align_items": null,
            "align_self": null,
            "border": null,
            "bottom": null,
            "display": null,
            "flex": null,
            "flex_flow": null,
            "grid_area": null,
            "grid_auto_columns": null,
            "grid_auto_flow": null,
            "grid_auto_rows": null,
            "grid_column": null,
            "grid_gap": null,
            "grid_row": null,
            "grid_template_areas": null,
            "grid_template_columns": null,
            "grid_template_rows": null,
            "height": null,
            "justify_content": null,
            "justify_items": null,
            "left": null,
            "margin": null,
            "max_height": null,
            "max_width": null,
            "min_height": null,
            "min_width": null,
            "object_fit": null,
            "object_position": null,
            "order": null,
            "overflow": null,
            "overflow_x": null,
            "overflow_y": null,
            "padding": null,
            "right": null,
            "top": null,
            "visibility": null,
            "width": null
          }
        },
        "f45b3087d339421b8cb4be8354336297": {
          "model_module": "@jupyter-widgets/controls",
          "model_name": "ProgressStyleModel",
          "model_module_version": "1.5.0",
          "state": {
            "_model_module": "@jupyter-widgets/controls",
            "_model_module_version": "1.5.0",
            "_model_name": "ProgressStyleModel",
            "_view_count": null,
            "_view_module": "@jupyter-widgets/base",
            "_view_module_version": "1.2.0",
            "_view_name": "StyleView",
            "bar_color": null,
            "description_width": ""
          }
        },
        "576ad60eea004d7fb4caad1c570a2d46": {
          "model_module": "@jupyter-widgets/base",
          "model_name": "LayoutModel",
          "model_module_version": "1.2.0",
          "state": {
            "_model_module": "@jupyter-widgets/base",
            "_model_module_version": "1.2.0",
            "_model_name": "LayoutModel",
            "_view_count": null,
            "_view_module": "@jupyter-widgets/base",
            "_view_module_version": "1.2.0",
            "_view_name": "LayoutView",
            "align_content": null,
            "align_items": null,
            "align_self": null,
            "border": null,
            "bottom": null,
            "display": null,
            "flex": null,
            "flex_flow": null,
            "grid_area": null,
            "grid_auto_columns": null,
            "grid_auto_flow": null,
            "grid_auto_rows": null,
            "grid_column": null,
            "grid_gap": null,
            "grid_row": null,
            "grid_template_areas": null,
            "grid_template_columns": null,
            "grid_template_rows": null,
            "height": null,
            "justify_content": null,
            "justify_items": null,
            "left": null,
            "margin": null,
            "max_height": null,
            "max_width": null,
            "min_height": null,
            "min_width": null,
            "object_fit": null,
            "object_position": null,
            "order": null,
            "overflow": null,
            "overflow_x": null,
            "overflow_y": null,
            "padding": null,
            "right": null,
            "top": null,
            "visibility": null,
            "width": null
          }
        },
        "836aa24a0b3043dd8c7b07917bd66428": {
          "model_module": "@jupyter-widgets/controls",
          "model_name": "DescriptionStyleModel",
          "model_module_version": "1.5.0",
          "state": {
            "_model_module": "@jupyter-widgets/controls",
            "_model_module_version": "1.5.0",
            "_model_name": "DescriptionStyleModel",
            "_view_count": null,
            "_view_module": "@jupyter-widgets/base",
            "_view_module_version": "1.2.0",
            "_view_name": "StyleView",
            "description_width": ""
          }
        },
        "e47e752bb30c411480940acad4e56f30": {
          "model_module": "@jupyter-widgets/controls",
          "model_name": "HBoxModel",
          "model_module_version": "1.5.0",
          "state": {
            "_dom_classes": [],
            "_model_module": "@jupyter-widgets/controls",
            "_model_module_version": "1.5.0",
            "_model_name": "HBoxModel",
            "_view_count": null,
            "_view_module": "@jupyter-widgets/controls",
            "_view_module_version": "1.5.0",
            "_view_name": "HBoxView",
            "box_style": "",
            "children": [
              "IPY_MODEL_bb28861d615b44899c99ce82c17e5bc8",
              "IPY_MODEL_760b1272ed144f6f97098973df039295",
              "IPY_MODEL_dc53579ec1444375ad7d2d4aca97becd"
            ],
            "layout": "IPY_MODEL_72009bd6242f4e9a8c22058fb7a1a34e"
          }
        },
        "bb28861d615b44899c99ce82c17e5bc8": {
          "model_module": "@jupyter-widgets/controls",
          "model_name": "HTMLModel",
          "model_module_version": "1.5.0",
          "state": {
            "_dom_classes": [],
            "_model_module": "@jupyter-widgets/controls",
            "_model_module_version": "1.5.0",
            "_model_name": "HTMLModel",
            "_view_count": null,
            "_view_module": "@jupyter-widgets/controls",
            "_view_module_version": "1.5.0",
            "_view_name": "HTMLView",
            "description": "",
            "description_tooltip": null,
            "layout": "IPY_MODEL_58d63c3180e545f28cb7ebd2aeb97ed8",
            "placeholder": "​",
            "style": "IPY_MODEL_7afda02987724834b69d48382c5d060e",
            "value": "Downloading: 100%"
          }
        },
        "760b1272ed144f6f97098973df039295": {
          "model_module": "@jupyter-widgets/controls",
          "model_name": "FloatProgressModel",
          "model_module_version": "1.5.0",
          "state": {
            "_dom_classes": [],
            "_model_module": "@jupyter-widgets/controls",
            "_model_module_version": "1.5.0",
            "_model_name": "FloatProgressModel",
            "_view_count": null,
            "_view_module": "@jupyter-widgets/controls",
            "_view_module_version": "1.5.0",
            "_view_name": "ProgressView",
            "bar_style": "success",
            "description": "",
            "description_tooltip": null,
            "layout": "IPY_MODEL_5c2ca4e0cda34d2796ab6ae57a8ad198",
            "max": 231508,
            "min": 0,
            "orientation": "horizontal",
            "style": "IPY_MODEL_252b9f8ee4d645c6bb2dbf12e498d2b9",
            "value": 231508
          }
        },
        "dc53579ec1444375ad7d2d4aca97becd": {
          "model_module": "@jupyter-widgets/controls",
          "model_name": "HTMLModel",
          "model_module_version": "1.5.0",
          "state": {
            "_dom_classes": [],
            "_model_module": "@jupyter-widgets/controls",
            "_model_module_version": "1.5.0",
            "_model_name": "HTMLModel",
            "_view_count": null,
            "_view_module": "@jupyter-widgets/controls",
            "_view_module_version": "1.5.0",
            "_view_name": "HTMLView",
            "description": "",
            "description_tooltip": null,
            "layout": "IPY_MODEL_d5fceb5617b546f6b2736e32806aa596",
            "placeholder": "​",
            "style": "IPY_MODEL_4b41fc3e8f0c49d0b228b2ef16a41ff2",
            "value": " 232k/232k [00:00&lt;00:00, 847kB/s]"
          }
        },
        "72009bd6242f4e9a8c22058fb7a1a34e": {
          "model_module": "@jupyter-widgets/base",
          "model_name": "LayoutModel",
          "model_module_version": "1.2.0",
          "state": {
            "_model_module": "@jupyter-widgets/base",
            "_model_module_version": "1.2.0",
            "_model_name": "LayoutModel",
            "_view_count": null,
            "_view_module": "@jupyter-widgets/base",
            "_view_module_version": "1.2.0",
            "_view_name": "LayoutView",
            "align_content": null,
            "align_items": null,
            "align_self": null,
            "border": null,
            "bottom": null,
            "display": null,
            "flex": null,
            "flex_flow": null,
            "grid_area": null,
            "grid_auto_columns": null,
            "grid_auto_flow": null,
            "grid_auto_rows": null,
            "grid_column": null,
            "grid_gap": null,
            "grid_row": null,
            "grid_template_areas": null,
            "grid_template_columns": null,
            "grid_template_rows": null,
            "height": null,
            "justify_content": null,
            "justify_items": null,
            "left": null,
            "margin": null,
            "max_height": null,
            "max_width": null,
            "min_height": null,
            "min_width": null,
            "object_fit": null,
            "object_position": null,
            "order": null,
            "overflow": null,
            "overflow_x": null,
            "overflow_y": null,
            "padding": null,
            "right": null,
            "top": null,
            "visibility": null,
            "width": null
          }
        },
        "58d63c3180e545f28cb7ebd2aeb97ed8": {
          "model_module": "@jupyter-widgets/base",
          "model_name": "LayoutModel",
          "model_module_version": "1.2.0",
          "state": {
            "_model_module": "@jupyter-widgets/base",
            "_model_module_version": "1.2.0",
            "_model_name": "LayoutModel",
            "_view_count": null,
            "_view_module": "@jupyter-widgets/base",
            "_view_module_version": "1.2.0",
            "_view_name": "LayoutView",
            "align_content": null,
            "align_items": null,
            "align_self": null,
            "border": null,
            "bottom": null,
            "display": null,
            "flex": null,
            "flex_flow": null,
            "grid_area": null,
            "grid_auto_columns": null,
            "grid_auto_flow": null,
            "grid_auto_rows": null,
            "grid_column": null,
            "grid_gap": null,
            "grid_row": null,
            "grid_template_areas": null,
            "grid_template_columns": null,
            "grid_template_rows": null,
            "height": null,
            "justify_content": null,
            "justify_items": null,
            "left": null,
            "margin": null,
            "max_height": null,
            "max_width": null,
            "min_height": null,
            "min_width": null,
            "object_fit": null,
            "object_position": null,
            "order": null,
            "overflow": null,
            "overflow_x": null,
            "overflow_y": null,
            "padding": null,
            "right": null,
            "top": null,
            "visibility": null,
            "width": null
          }
        },
        "7afda02987724834b69d48382c5d060e": {
          "model_module": "@jupyter-widgets/controls",
          "model_name": "DescriptionStyleModel",
          "model_module_version": "1.5.0",
          "state": {
            "_model_module": "@jupyter-widgets/controls",
            "_model_module_version": "1.5.0",
            "_model_name": "DescriptionStyleModel",
            "_view_count": null,
            "_view_module": "@jupyter-widgets/base",
            "_view_module_version": "1.2.0",
            "_view_name": "StyleView",
            "description_width": ""
          }
        },
        "5c2ca4e0cda34d2796ab6ae57a8ad198": {
          "model_module": "@jupyter-widgets/base",
          "model_name": "LayoutModel",
          "model_module_version": "1.2.0",
          "state": {
            "_model_module": "@jupyter-widgets/base",
            "_model_module_version": "1.2.0",
            "_model_name": "LayoutModel",
            "_view_count": null,
            "_view_module": "@jupyter-widgets/base",
            "_view_module_version": "1.2.0",
            "_view_name": "LayoutView",
            "align_content": null,
            "align_items": null,
            "align_self": null,
            "border": null,
            "bottom": null,
            "display": null,
            "flex": null,
            "flex_flow": null,
            "grid_area": null,
            "grid_auto_columns": null,
            "grid_auto_flow": null,
            "grid_auto_rows": null,
            "grid_column": null,
            "grid_gap": null,
            "grid_row": null,
            "grid_template_areas": null,
            "grid_template_columns": null,
            "grid_template_rows": null,
            "height": null,
            "justify_content": null,
            "justify_items": null,
            "left": null,
            "margin": null,
            "max_height": null,
            "max_width": null,
            "min_height": null,
            "min_width": null,
            "object_fit": null,
            "object_position": null,
            "order": null,
            "overflow": null,
            "overflow_x": null,
            "overflow_y": null,
            "padding": null,
            "right": null,
            "top": null,
            "visibility": null,
            "width": null
          }
        },
        "252b9f8ee4d645c6bb2dbf12e498d2b9": {
          "model_module": "@jupyter-widgets/controls",
          "model_name": "ProgressStyleModel",
          "model_module_version": "1.5.0",
          "state": {
            "_model_module": "@jupyter-widgets/controls",
            "_model_module_version": "1.5.0",
            "_model_name": "ProgressStyleModel",
            "_view_count": null,
            "_view_module": "@jupyter-widgets/base",
            "_view_module_version": "1.2.0",
            "_view_name": "StyleView",
            "bar_color": null,
            "description_width": ""
          }
        },
        "d5fceb5617b546f6b2736e32806aa596": {
          "model_module": "@jupyter-widgets/base",
          "model_name": "LayoutModel",
          "model_module_version": "1.2.0",
          "state": {
            "_model_module": "@jupyter-widgets/base",
            "_model_module_version": "1.2.0",
            "_model_name": "LayoutModel",
            "_view_count": null,
            "_view_module": "@jupyter-widgets/base",
            "_view_module_version": "1.2.0",
            "_view_name": "LayoutView",
            "align_content": null,
            "align_items": null,
            "align_self": null,
            "border": null,
            "bottom": null,
            "display": null,
            "flex": null,
            "flex_flow": null,
            "grid_area": null,
            "grid_auto_columns": null,
            "grid_auto_flow": null,
            "grid_auto_rows": null,
            "grid_column": null,
            "grid_gap": null,
            "grid_row": null,
            "grid_template_areas": null,
            "grid_template_columns": null,
            "grid_template_rows": null,
            "height": null,
            "justify_content": null,
            "justify_items": null,
            "left": null,
            "margin": null,
            "max_height": null,
            "max_width": null,
            "min_height": null,
            "min_width": null,
            "object_fit": null,
            "object_position": null,
            "order": null,
            "overflow": null,
            "overflow_x": null,
            "overflow_y": null,
            "padding": null,
            "right": null,
            "top": null,
            "visibility": null,
            "width": null
          }
        },
        "4b41fc3e8f0c49d0b228b2ef16a41ff2": {
          "model_module": "@jupyter-widgets/controls",
          "model_name": "DescriptionStyleModel",
          "model_module_version": "1.5.0",
          "state": {
            "_model_module": "@jupyter-widgets/controls",
            "_model_module_version": "1.5.0",
            "_model_name": "DescriptionStyleModel",
            "_view_count": null,
            "_view_module": "@jupyter-widgets/base",
            "_view_module_version": "1.2.0",
            "_view_name": "StyleView",
            "description_width": ""
          }
        },
        "118324b2c86e4bf6bd6ec1a01bbaf772": {
          "model_module": "@jupyter-widgets/controls",
          "model_name": "HBoxModel",
          "model_module_version": "1.5.0",
          "state": {
            "_dom_classes": [],
            "_model_module": "@jupyter-widgets/controls",
            "_model_module_version": "1.5.0",
            "_model_name": "HBoxModel",
            "_view_count": null,
            "_view_module": "@jupyter-widgets/controls",
            "_view_module_version": "1.5.0",
            "_view_name": "HBoxView",
            "box_style": "",
            "children": [
              "IPY_MODEL_cd76c58dfc0e4c79a557af9ad72753ae",
              "IPY_MODEL_953f63f5e5d6466695ff77f73ba9f4d8",
              "IPY_MODEL_8a382a8f0cf441eda96381bce3ea2d48"
            ],
            "layout": "IPY_MODEL_e03e39f3f01a48759ce461d5ff0e1e6b"
          }
        },
        "cd76c58dfc0e4c79a557af9ad72753ae": {
          "model_module": "@jupyter-widgets/controls",
          "model_name": "HTMLModel",
          "model_module_version": "1.5.0",
          "state": {
            "_dom_classes": [],
            "_model_module": "@jupyter-widgets/controls",
            "_model_module_version": "1.5.0",
            "_model_name": "HTMLModel",
            "_view_count": null,
            "_view_module": "@jupyter-widgets/controls",
            "_view_module_version": "1.5.0",
            "_view_name": "HTMLView",
            "description": "",
            "description_tooltip": null,
            "layout": "IPY_MODEL_b34831b245ca48339c60a89d3f860439",
            "placeholder": "​",
            "style": "IPY_MODEL_8cc0b9b7d9b348c4bc27f9c21e6c70da",
            "value": "Downloading: 100%"
          }
        },
        "953f63f5e5d6466695ff77f73ba9f4d8": {
          "model_module": "@jupyter-widgets/controls",
          "model_name": "FloatProgressModel",
          "model_module_version": "1.5.0",
          "state": {
            "_dom_classes": [],
            "_model_module": "@jupyter-widgets/controls",
            "_model_module_version": "1.5.0",
            "_model_name": "FloatProgressModel",
            "_view_count": null,
            "_view_module": "@jupyter-widgets/controls",
            "_view_module_version": "1.5.0",
            "_view_name": "ProgressView",
            "bar_style": "success",
            "description": "",
            "description_tooltip": null,
            "layout": "IPY_MODEL_bd0cc1ee528f4ebe9e9cbf960be6b1b7",
            "max": 341,
            "min": 0,
            "orientation": "horizontal",
            "style": "IPY_MODEL_8600adecb36741338d8d7b229bea15e9",
            "value": 341
          }
        },
        "8a382a8f0cf441eda96381bce3ea2d48": {
          "model_module": "@jupyter-widgets/controls",
          "model_name": "HTMLModel",
          "model_module_version": "1.5.0",
          "state": {
            "_dom_classes": [],
            "_model_module": "@jupyter-widgets/controls",
            "_model_module_version": "1.5.0",
            "_model_name": "HTMLModel",
            "_view_count": null,
            "_view_module": "@jupyter-widgets/controls",
            "_view_module_version": "1.5.0",
            "_view_name": "HTMLView",
            "description": "",
            "description_tooltip": null,
            "layout": "IPY_MODEL_4aa07aee7dc048deb25929a8e65df128",
            "placeholder": "​",
            "style": "IPY_MODEL_cd406ed381d349f4b21f423d0e25cf74",
            "value": " 341/341 [00:00&lt;00:00, 14.0kB/s]"
          }
        },
        "e03e39f3f01a48759ce461d5ff0e1e6b": {
          "model_module": "@jupyter-widgets/base",
          "model_name": "LayoutModel",
          "model_module_version": "1.2.0",
          "state": {
            "_model_module": "@jupyter-widgets/base",
            "_model_module_version": "1.2.0",
            "_model_name": "LayoutModel",
            "_view_count": null,
            "_view_module": "@jupyter-widgets/base",
            "_view_module_version": "1.2.0",
            "_view_name": "LayoutView",
            "align_content": null,
            "align_items": null,
            "align_self": null,
            "border": null,
            "bottom": null,
            "display": null,
            "flex": null,
            "flex_flow": null,
            "grid_area": null,
            "grid_auto_columns": null,
            "grid_auto_flow": null,
            "grid_auto_rows": null,
            "grid_column": null,
            "grid_gap": null,
            "grid_row": null,
            "grid_template_areas": null,
            "grid_template_columns": null,
            "grid_template_rows": null,
            "height": null,
            "justify_content": null,
            "justify_items": null,
            "left": null,
            "margin": null,
            "max_height": null,
            "max_width": null,
            "min_height": null,
            "min_width": null,
            "object_fit": null,
            "object_position": null,
            "order": null,
            "overflow": null,
            "overflow_x": null,
            "overflow_y": null,
            "padding": null,
            "right": null,
            "top": null,
            "visibility": null,
            "width": null
          }
        },
        "b34831b245ca48339c60a89d3f860439": {
          "model_module": "@jupyter-widgets/base",
          "model_name": "LayoutModel",
          "model_module_version": "1.2.0",
          "state": {
            "_model_module": "@jupyter-widgets/base",
            "_model_module_version": "1.2.0",
            "_model_name": "LayoutModel",
            "_view_count": null,
            "_view_module": "@jupyter-widgets/base",
            "_view_module_version": "1.2.0",
            "_view_name": "LayoutView",
            "align_content": null,
            "align_items": null,
            "align_self": null,
            "border": null,
            "bottom": null,
            "display": null,
            "flex": null,
            "flex_flow": null,
            "grid_area": null,
            "grid_auto_columns": null,
            "grid_auto_flow": null,
            "grid_auto_rows": null,
            "grid_column": null,
            "grid_gap": null,
            "grid_row": null,
            "grid_template_areas": null,
            "grid_template_columns": null,
            "grid_template_rows": null,
            "height": null,
            "justify_content": null,
            "justify_items": null,
            "left": null,
            "margin": null,
            "max_height": null,
            "max_width": null,
            "min_height": null,
            "min_width": null,
            "object_fit": null,
            "object_position": null,
            "order": null,
            "overflow": null,
            "overflow_x": null,
            "overflow_y": null,
            "padding": null,
            "right": null,
            "top": null,
            "visibility": null,
            "width": null
          }
        },
        "8cc0b9b7d9b348c4bc27f9c21e6c70da": {
          "model_module": "@jupyter-widgets/controls",
          "model_name": "DescriptionStyleModel",
          "model_module_version": "1.5.0",
          "state": {
            "_model_module": "@jupyter-widgets/controls",
            "_model_module_version": "1.5.0",
            "_model_name": "DescriptionStyleModel",
            "_view_count": null,
            "_view_module": "@jupyter-widgets/base",
            "_view_module_version": "1.2.0",
            "_view_name": "StyleView",
            "description_width": ""
          }
        },
        "bd0cc1ee528f4ebe9e9cbf960be6b1b7": {
          "model_module": "@jupyter-widgets/base",
          "model_name": "LayoutModel",
          "model_module_version": "1.2.0",
          "state": {
            "_model_module": "@jupyter-widgets/base",
            "_model_module_version": "1.2.0",
            "_model_name": "LayoutModel",
            "_view_count": null,
            "_view_module": "@jupyter-widgets/base",
            "_view_module_version": "1.2.0",
            "_view_name": "LayoutView",
            "align_content": null,
            "align_items": null,
            "align_self": null,
            "border": null,
            "bottom": null,
            "display": null,
            "flex": null,
            "flex_flow": null,
            "grid_area": null,
            "grid_auto_columns": null,
            "grid_auto_flow": null,
            "grid_auto_rows": null,
            "grid_column": null,
            "grid_gap": null,
            "grid_row": null,
            "grid_template_areas": null,
            "grid_template_columns": null,
            "grid_template_rows": null,
            "height": null,
            "justify_content": null,
            "justify_items": null,
            "left": null,
            "margin": null,
            "max_height": null,
            "max_width": null,
            "min_height": null,
            "min_width": null,
            "object_fit": null,
            "object_position": null,
            "order": null,
            "overflow": null,
            "overflow_x": null,
            "overflow_y": null,
            "padding": null,
            "right": null,
            "top": null,
            "visibility": null,
            "width": null
          }
        },
        "8600adecb36741338d8d7b229bea15e9": {
          "model_module": "@jupyter-widgets/controls",
          "model_name": "ProgressStyleModel",
          "model_module_version": "1.5.0",
          "state": {
            "_model_module": "@jupyter-widgets/controls",
            "_model_module_version": "1.5.0",
            "_model_name": "ProgressStyleModel",
            "_view_count": null,
            "_view_module": "@jupyter-widgets/base",
            "_view_module_version": "1.2.0",
            "_view_name": "StyleView",
            "bar_color": null,
            "description_width": ""
          }
        },
        "4aa07aee7dc048deb25929a8e65df128": {
          "model_module": "@jupyter-widgets/base",
          "model_name": "LayoutModel",
          "model_module_version": "1.2.0",
          "state": {
            "_model_module": "@jupyter-widgets/base",
            "_model_module_version": "1.2.0",
            "_model_name": "LayoutModel",
            "_view_count": null,
            "_view_module": "@jupyter-widgets/base",
            "_view_module_version": "1.2.0",
            "_view_name": "LayoutView",
            "align_content": null,
            "align_items": null,
            "align_self": null,
            "border": null,
            "bottom": null,
            "display": null,
            "flex": null,
            "flex_flow": null,
            "grid_area": null,
            "grid_auto_columns": null,
            "grid_auto_flow": null,
            "grid_auto_rows": null,
            "grid_column": null,
            "grid_gap": null,
            "grid_row": null,
            "grid_template_areas": null,
            "grid_template_columns": null,
            "grid_template_rows": null,
            "height": null,
            "justify_content": null,
            "justify_items": null,
            "left": null,
            "margin": null,
            "max_height": null,
            "max_width": null,
            "min_height": null,
            "min_width": null,
            "object_fit": null,
            "object_position": null,
            "order": null,
            "overflow": null,
            "overflow_x": null,
            "overflow_y": null,
            "padding": null,
            "right": null,
            "top": null,
            "visibility": null,
            "width": null
          }
        },
        "cd406ed381d349f4b21f423d0e25cf74": {
          "model_module": "@jupyter-widgets/controls",
          "model_name": "DescriptionStyleModel",
          "model_module_version": "1.5.0",
          "state": {
            "_model_module": "@jupyter-widgets/controls",
            "_model_module_version": "1.5.0",
            "_model_name": "DescriptionStyleModel",
            "_view_count": null,
            "_view_module": "@jupyter-widgets/base",
            "_view_module_version": "1.2.0",
            "_view_name": "StyleView",
            "description_width": ""
          }
        }
      }
    }
  },
  "cells": [
    {
      "cell_type": "code",
      "execution_count": null,
      "metadata": {
        "id": "HsM5NnVczKpu"
      },
      "outputs": [],
      "source": [
        "# !pip install faiss-gpu\n",
        "# # !pip install faiss-cpu\n",
        "# !pip install -U sentence-transformers\n"
      ]
    },
    {
      "cell_type": "code",
      "source": [
        "import warnings\n",
        "warnings.filterwarnings(\"ignore\")\n",
        "import pickle"
      ],
      "metadata": {
        "id": "YI_uQLvGnjCJ"
      },
      "execution_count": 1,
      "outputs": []
    },
    {
      "cell_type": "code",
      "source": [
        "# Mount into drive \n",
        "from google.colab import drive \n",
        "drive.mount(\"/content/drive\")"
      ],
      "metadata": {
        "colab": {
          "base_uri": "https://localhost:8080/"
        },
        "id": "67RYm3ZH8kj2",
        "outputId": "412f0548-ec6d-455b-b29f-ba3e9d65ec4e"
      },
      "execution_count": 2,
      "outputs": [
        {
          "output_type": "stream",
          "name": "stdout",
          "text": [
            "Mounted at /content/drive\n"
          ]
        }
      ]
    },
    {
      "cell_type": "code",
      "source": [
        "%cd '/content/drive/MyDrive'"
      ],
      "metadata": {
        "colab": {
          "base_uri": "https://localhost:8080/"
        },
        "id": "Pm0M79Xt8nGw",
        "outputId": "9640e9d6-0d4b-48c6-8b5a-fee372b8275b"
      },
      "execution_count": 3,
      "outputs": [
        {
          "output_type": "stream",
          "name": "stdout",
          "text": [
            "/content/drive/MyDrive\n"
          ]
        }
      ]
    },
    {
      "cell_type": "code",
      "source": [
        "ls"
      ],
      "metadata": {
        "colab": {
          "base_uri": "https://localhost:8080/"
        },
        "id": "DqmAPyCU8sOC",
        "outputId": "62e23dd1-ac44-44ce-e4de-09f04b29bbee"
      },
      "execution_count": 4,
      "outputs": [
        {
          "output_type": "stream",
          "name": "stdout",
          "text": [
            " \u001b[0m\u001b[01;34massignment4\u001b[0m/\n",
            " BertSemanticSearchEngine.pickle\n",
            "\u001b[01;34m'Colab Notebooks'\u001b[0m/\n",
            " count_based_plot_similarity.pickle\n",
            " generated_queries_all.tsv\n",
            " model_based_plot_similarity_keywords.pickle\n",
            " model_based_plot_similarity_paraphrased_plots.pickle\n",
            " model_based_plot_similarity.pickle\n",
            " movie_plot.index\n",
            " movie_titles\n",
            " paraphrased_beginning_plots.pickle\n",
            " paraphrased_plots.pickle\n",
            " \u001b[01;34msearch\u001b[0m/\n",
            " TopologicalSearchEngine_2.pickle\n",
            " TopologicalSearchEngine.pickle\n",
            " TopologicalSemanticSearchEngine.pickle\n",
            " TopologicalSemanticSearchEngine_version_2.pickle\n",
            " TunedBertSemanticSearchEngine.pickle\n",
            " \u001b[01;34mtuned_msmarco-distilbert-base-dot-prod-v3\u001b[0m/\n",
            "'Untitled document.gdoc'\n",
            " vecs.feather\n",
            " vocab.csv\n",
            " wiki_movie_plots_deduped.csv\n"
          ]
        }
      ]
    },
    {
      "cell_type": "code",
      "source": [
        "import numpy as np\n",
        "import torch\n",
        "import os\n",
        "import pandas as pd\n",
        "import time\n",
        "import seaborn as sns\n",
        "import matplotlib.pyplot as plt\n",
        "import faiss\n",
        "from sentence_transformers import SentenceTransformer"
      ],
      "metadata": {
        "id": "pAPmmFx_0LFI"
      },
      "execution_count": 10,
      "outputs": []
    },
    {
      "cell_type": "code",
      "source": [
        "df = pd.read_csv(\"wiki_movie_plots_deduped.csv\")\n",
        "df.head(1)"
      ],
      "metadata": {
        "colab": {
          "base_uri": "https://localhost:8080/",
          "height": 125
        },
        "id": "xpg1QBuQ1sGD",
        "outputId": "056dece7-0a6b-4001-8d27-1f8e9b360f62"
      },
      "execution_count": 6,
      "outputs": [
        {
          "output_type": "execute_result",
          "data": {
            "text/plain": [
              "   Release Year                   Title Origin/Ethnicity Director Cast  \\\n",
              "0          1901  Kansas Saloon Smashers         American  Unknown  NaN   \n",
              "\n",
              "     Genre                                          Wiki Page  \\\n",
              "0  unknown  https://en.wikipedia.org/wiki/Kansas_Saloon_Sm...   \n",
              "\n",
              "                                                Plot  \n",
              "0  A bartender is working at a saloon, serving dr...  "
            ],
            "text/html": [
              "\n",
              "  <div id=\"df-bd565990-063a-4f11-aee9-20dbca3d28b4\">\n",
              "    <div class=\"colab-df-container\">\n",
              "      <div>\n",
              "<style scoped>\n",
              "    .dataframe tbody tr th:only-of-type {\n",
              "        vertical-align: middle;\n",
              "    }\n",
              "\n",
              "    .dataframe tbody tr th {\n",
              "        vertical-align: top;\n",
              "    }\n",
              "\n",
              "    .dataframe thead th {\n",
              "        text-align: right;\n",
              "    }\n",
              "</style>\n",
              "<table border=\"1\" class=\"dataframe\">\n",
              "  <thead>\n",
              "    <tr style=\"text-align: right;\">\n",
              "      <th></th>\n",
              "      <th>Release Year</th>\n",
              "      <th>Title</th>\n",
              "      <th>Origin/Ethnicity</th>\n",
              "      <th>Director</th>\n",
              "      <th>Cast</th>\n",
              "      <th>Genre</th>\n",
              "      <th>Wiki Page</th>\n",
              "      <th>Plot</th>\n",
              "    </tr>\n",
              "  </thead>\n",
              "  <tbody>\n",
              "    <tr>\n",
              "      <th>0</th>\n",
              "      <td>1901</td>\n",
              "      <td>Kansas Saloon Smashers</td>\n",
              "      <td>American</td>\n",
              "      <td>Unknown</td>\n",
              "      <td>NaN</td>\n",
              "      <td>unknown</td>\n",
              "      <td>https://en.wikipedia.org/wiki/Kansas_Saloon_Sm...</td>\n",
              "      <td>A bartender is working at a saloon, serving dr...</td>\n",
              "    </tr>\n",
              "  </tbody>\n",
              "</table>\n",
              "</div>\n",
              "      <button class=\"colab-df-convert\" onclick=\"convertToInteractive('df-bd565990-063a-4f11-aee9-20dbca3d28b4')\"\n",
              "              title=\"Convert this dataframe to an interactive table.\"\n",
              "              style=\"display:none;\">\n",
              "        \n",
              "  <svg xmlns=\"http://www.w3.org/2000/svg\" height=\"24px\"viewBox=\"0 0 24 24\"\n",
              "       width=\"24px\">\n",
              "    <path d=\"M0 0h24v24H0V0z\" fill=\"none\"/>\n",
              "    <path d=\"M18.56 5.44l.94 2.06.94-2.06 2.06-.94-2.06-.94-.94-2.06-.94 2.06-2.06.94zm-11 1L8.5 8.5l.94-2.06 2.06-.94-2.06-.94L8.5 2.5l-.94 2.06-2.06.94zm10 10l.94 2.06.94-2.06 2.06-.94-2.06-.94-.94-2.06-.94 2.06-2.06.94z\"/><path d=\"M17.41 7.96l-1.37-1.37c-.4-.4-.92-.59-1.43-.59-.52 0-1.04.2-1.43.59L10.3 9.45l-7.72 7.72c-.78.78-.78 2.05 0 2.83L4 21.41c.39.39.9.59 1.41.59.51 0 1.02-.2 1.41-.59l7.78-7.78 2.81-2.81c.8-.78.8-2.07 0-2.86zM5.41 20L4 18.59l7.72-7.72 1.47 1.35L5.41 20z\"/>\n",
              "  </svg>\n",
              "      </button>\n",
              "      \n",
              "  <style>\n",
              "    .colab-df-container {\n",
              "      display:flex;\n",
              "      flex-wrap:wrap;\n",
              "      gap: 12px;\n",
              "    }\n",
              "\n",
              "    .colab-df-convert {\n",
              "      background-color: #E8F0FE;\n",
              "      border: none;\n",
              "      border-radius: 50%;\n",
              "      cursor: pointer;\n",
              "      display: none;\n",
              "      fill: #1967D2;\n",
              "      height: 32px;\n",
              "      padding: 0 0 0 0;\n",
              "      width: 32px;\n",
              "    }\n",
              "\n",
              "    .colab-df-convert:hover {\n",
              "      background-color: #E2EBFA;\n",
              "      box-shadow: 0px 1px 2px rgba(60, 64, 67, 0.3), 0px 1px 3px 1px rgba(60, 64, 67, 0.15);\n",
              "      fill: #174EA6;\n",
              "    }\n",
              "\n",
              "    [theme=dark] .colab-df-convert {\n",
              "      background-color: #3B4455;\n",
              "      fill: #D2E3FC;\n",
              "    }\n",
              "\n",
              "    [theme=dark] .colab-df-convert:hover {\n",
              "      background-color: #434B5C;\n",
              "      box-shadow: 0px 1px 3px 1px rgba(0, 0, 0, 0.15);\n",
              "      filter: drop-shadow(0px 1px 2px rgba(0, 0, 0, 0.3));\n",
              "      fill: #FFFFFF;\n",
              "    }\n",
              "  </style>\n",
              "\n",
              "      <script>\n",
              "        const buttonEl =\n",
              "          document.querySelector('#df-bd565990-063a-4f11-aee9-20dbca3d28b4 button.colab-df-convert');\n",
              "        buttonEl.style.display =\n",
              "          google.colab.kernel.accessAllowed ? 'block' : 'none';\n",
              "\n",
              "        async function convertToInteractive(key) {\n",
              "          const element = document.querySelector('#df-bd565990-063a-4f11-aee9-20dbca3d28b4');\n",
              "          const dataTable =\n",
              "            await google.colab.kernel.invokeFunction('convertToInteractive',\n",
              "                                                     [key], {});\n",
              "          if (!dataTable) return;\n",
              "\n",
              "          const docLinkHtml = 'Like what you see? Visit the ' +\n",
              "            '<a target=\"_blank\" href=https://colab.research.google.com/notebooks/data_table.ipynb>data table notebook</a>'\n",
              "            + ' to learn more about interactive tables.';\n",
              "          element.innerHTML = '';\n",
              "          dataTable['output_type'] = 'display_data';\n",
              "          await google.colab.output.renderOutput(dataTable, element);\n",
              "          const docLink = document.createElement('div');\n",
              "          docLink.innerHTML = docLinkHtml;\n",
              "          element.appendChild(docLink);\n",
              "        }\n",
              "      </script>\n",
              "    </div>\n",
              "  </div>\n",
              "  "
            ]
          },
          "metadata": {},
          "execution_count": 6
        }
      ]
    },
    {
      "cell_type": "code",
      "source": [
        "df['doc_len'] = df['Plot'].apply(lambda words: len(words.split()))\n",
        "max_seq_len = np.round(df['doc_len'].mean() + df['doc_len'].std()).astype(int)\n",
        "sns.distplot(df['doc_len'], hist=True, kde=True, color='b', label='doc len')\n",
        "plt.axvline(x=max_seq_len, color='k', linestyle='--', label='max len')\n",
        "plt.title('plot length'); plt.legend()\n",
        "plt.show()"
      ],
      "metadata": {
        "colab": {
          "base_uri": "https://localhost:8080/",
          "height": 296
        },
        "id": "JlK8DkZ2BXQP",
        "outputId": "c9ed7c83-087a-40c0-d8f8-a87978221d0f"
      },
      "execution_count": 11,
      "outputs": [
        {
          "output_type": "display_data",
          "data": {
            "text/plain": [
              "<Figure size 432x288 with 1 Axes>"
            ],
            "image/png": "[encoded data removed]"
          },
          "metadata": {
            "needs_background": "light"
          }
        }
      ]
    },
    {
      "cell_type": "code",
      "source": [
        "df['doc_len'].describe(), np.median(df['doc_len'])"
      ],
      "metadata": {
        "colab": {
          "base_uri": "https://localhost:8080/"
        },
        "id": "wqgrtoXPMwam",
        "outputId": "76a9a42e-5058-40e0-eeec-40b50881ba23"
      },
      "execution_count": 14,
      "outputs": [
        {
          "output_type": "execute_result",
          "data": {
            "text/plain": [
              "(count    34886.000000\n",
              " mean       372.493206\n",
              " std        315.753223\n",
              " min          2.000000\n",
              " 25%        122.000000\n",
              " 50%        284.000000\n",
              " 75%        581.000000\n",
              " max       6752.000000\n",
              " Name: doc_len, dtype: float64, 284.0)"
            ]
          },
          "metadata": {},
          "execution_count": 14
        }
      ]
    },
    {
      "cell_type": "code",
      "source": [
        "max_seq_len"
      ],
      "metadata": {
        "colab": {
          "base_uri": "https://localhost:8080/"
        },
        "id": "F19h1kLjmNqU",
        "outputId": "78b3e9cc-38f6-4dd8-ebbb-637bde0f531c"
      },
      "execution_count": null,
      "outputs": [
        {
          "output_type": "execute_result",
          "data": {
            "text/plain": [
              "688"
            ]
          },
          "metadata": {},
          "execution_count": 10
        }
      ]
    },
    {
      "cell_type": "markdown",
      "source": [
        "And for this experiment, i am choosing “sentence-transformers/msmarco-distilbert-base-dot-prod-v3” model which performs great in Semantic Textual Similarity (Asymmetric ) tasks and it’s quite faster than BERT as it is considerably smaller. This model was optimized to be used with dot-product as a similarity function between queries and documents.\n",
        "For short descriptions, “distilbert-base-nli-stsb-mean-tokens”, works a lot better and faster.\n"
      ],
      "metadata": {
        "id": "psHEbbZGDyjF"
      }
    },
    {
      "cell_type": "code",
      "source": [
        "class BertSemanticSearchEngine:\n",
        "    def __init__(self, model_type, data, target_feature, fine_tune=False):\n",
        "      self.model_type = model_type\n",
        "      self.model = SentenceTransformer(self.model_type)\n",
        "      self.data = data\n",
        "      self.target_feature = target_feature\n",
        "      self.target_data = self.data[target_feature]\n",
        "      self.encoded_data = None\n",
        "      self.faissIndex = None\n",
        "      if fine_tune:\n",
        "        from transformers import AutoTokenizer, AutoModelForSeq2SeqLM\n",
        "        self.synthetic_generator_tokenizer = AutoTokenizer.from_pretrained(\"Helsinki-NLP/opus-mt-en-nl\")\n",
        "        self.synthetic_generator_model = AutoModelForSeq2SeqLM.from_pretrained(\"Helsinki-NLP/opus-mt-en-nl\")\n",
        "        self.synthetic_queries = []\n",
        "        self.orig_texts = []\n",
        "        self.training_data = []\n",
        "\n",
        "    def construct_embeddings(self):\n",
        "      self.encoded_data = np.asarray(self.model.encode(self.target_data).astype('float32'))\n",
        "      self.faissIndex = faiss.IndexIDMap(faiss.IndexFlatIP(768))\n",
        "      self.faissIndex.add_with_ids(self.encoded_data, np.array(range(0, len(self.target_data))))\n",
        "\n",
        "    def get_synthetic_queries(self, batch_size=32, num_queries_for_each=3, max_length=None, query_max_len=20, \n",
        "                              doc_len=None, output_filename='synthetic_query.tsv'):\n",
        "      import tqdm\n",
        "      def filter_out_non_ascii(s): \n",
        "        return \"\".join(i for i in s if ord(i) < 128)\n",
        "      if doc_len is None:\n",
        "        doc_len = len(self.target_data)\n",
        "\n",
        "      if max_length is None:\n",
        "        doc_len = self.target_data.apply(lambda words: len(words.split()))\n",
        "        max_length = np.round(doc_len.mean()+doc_len.std()).astype(int)\n",
        "      for i in tqdm(range(0, doc_len, batch_size)):\n",
        "        text = list(self.target_data[i : i + batch_size])\n",
        "        tokens = self.synthetic_generator_tokenizer(text, max_length=max_length, truncation=True, padding=True, return_tensors='pt')\n",
        "        generated_text = self.synthetic_generator_model.generate(tokens.input_ids, max_length=query_max_len, do_sample=True, \n",
        "                                                                 top_p=0.97, num_return_sequences=num_queries_for_each)\n",
        "      for i, txt in enumerate(generated_text):\n",
        "        synthetic_query = filter_out_non_ascii(self.synthetic_generator_tokenizer.decode(txt, skip_special_tokens=True))\n",
        "        orig_text = filter_out_non_ascii(text[int(i/num_queries_for_each)])\n",
        "        self.synthetic_queries.append(synthetic_query.replace(\"\\t\", \" \").strip())\n",
        "        self.orig_texts.append(orig_text.replace(\"\\t\", \" \").strip())\n",
        "      if output_filename is not None:\n",
        "        with open(output_filename, 'w') as fOut:\n",
        "          for q, t in zip(self.synthetic_queries, self.orig_texts):\n",
        "           fOut.write(\"{}\\t{}\\n\".format(q, t))\n",
        "\n",
        "    def fine_tune(self, output_filename=None, batch_size=16, epochs=10, show_progress_bar=False, save=True):\n",
        "      from sentence_transformers import SentenceTransformer, InputExample, losses, models, datasets\n",
        "      from torch import nn\n",
        "      import os\n",
        "      word_embedding_layer = models.Transformer('sentence-transformers/{}'.format(self.model_type))\n",
        "      pooling_layer = models.Pooling(word_embedding_layer.get_word_embedding_dimension())\n",
        "      dense_layer = models.Dense(in_features=768, out_features=768, bias=False)\n",
        "      model_to_tune = SentenceTransformer(modules=[word_embedding_layer, pooling_layer, dense_layer])\n",
        "      if output_filename is None:\n",
        "        for q, t in zip(self.synthetic_queries, self.orig_texts):\n",
        "          self.training_data.append(InputExample(texts=[q, t]))\n",
        "      else:\n",
        "        with open(output_filename) as fIn:\n",
        "          for content in fIn:\n",
        "            try:\n",
        "              q, t = content.strip().split('\\t', maxsplit=1)\n",
        "              self.training_data.append(InputExample(texts=[q, t]))\n",
        "            except:\n",
        "              pass\n",
        "      # no duplicates for MultipleNegativesRankingLoss\n",
        "      dataloader = datasets.NoDuplicatesDataLoader(self.training_data, batch_size=batch_size)\n",
        "      loss_func = losses.MultipleNegativesRankingLoss(model_to_tune)\n",
        "      model_to_tune.fit(train_objectives=[(dataloader, loss_func)], epochs=epochs, show_progress_bar=show_progress_bar)\n",
        "      self.model = model_to_tune\n",
        "      if save:\n",
        "        self.model.save('tuned_{}'.format(self.model_type))\n",
        "\n",
        "    def retrieve_data(self, idx):\n",
        "      return dict((feat, self.data.iloc[idx][feat]) for feat in self.data.iloc[idx].index)\n",
        "    \n",
        "    def search(self, query, show_n):\n",
        "      encoded_query = self.model.encode([query])\n",
        "      res = self.faissIndex.search(encoded_query, show_n)\n",
        "      res_ids = list(np.unique(res[1].tolist()[0]))\n",
        "      results = [self.retrieve_data(i) for i in res_ids]\n",
        "      return results\n",
        "    \n",
        "    def display_results(self, query, show_n):\n",
        "      res = self.search(query, show_n)\n",
        "      print('Showing {} searched results based on your query!'.format(show_n))\n",
        "      for idx, r in enumerate(res):\n",
        "        print('Found result #{} - {}'.format(idx, r))"
      ],
      "metadata": {
        "id": "CSsnshFaqNuz"
      },
      "execution_count": null,
      "outputs": []
    },
    {
      "cell_type": "markdown",
      "source": [
        "Since we are using FAISS, storing embeddings is easy, once we have settled with Index Factory and Mappings."
      ],
      "metadata": {
        "id": "UJqLi6oCDs3i"
      }
    },
    {
      "cell_type": "markdown",
      "source": [
        "We have encoded our Movie Plot, where each plot has been encoded with a 768-dimensional vector and stored to disk with movie_plot.index name.\n",
        "Note here we have used index.add_with_ids and this encodes data in the order of data-frame and stores their index ids too."
      ],
      "metadata": {
        "id": "yoyr7KdpDqIt"
      }
    },
    {
      "cell_type": "code",
      "source": [
        "untuned_bert_semantic_search = BertSemanticSearchEngine('msmarco-distilbert-base-dot-prod-v3', df, 'Plot')\n",
        "untuned_bert_semantic_search.construct_embeddings()"
      ],
      "metadata": {
        "colab": {
          "base_uri": "https://localhost:8080/",
          "height": 465,
          "referenced_widgets": [
            "953c45bc7e4b4939a69d6ceb23c514f0",
            "e4716c0568b844b6a901216a7f35a1e7",
            "05374c8a38cc4b4a827a868199ffd957",
            "3c041cac01334075a086b1cc2b278abe",
            "7691c70feb4248c1b1d3907329a283ac",
            "7f4ca2c1c8c54c4ab700018a1cf5a036",
            "3592682d84c44557b697acc83c322add",
            "059c48396d1f4d519850dd7b9a93aeca",
            "aee44ca80f384ed59f7a12e6b258474e",
            "502c1bc07d044adbb2e04842a1ece2b6",
            "9c55641424324ac18db1e81642c96258",
            "1abadb84426a471fbeacd6adb5c6f678",
            "fd76272c31a0466a88ba20f1c0750228",
            "c96043714d1c4b3593f4f9511e2416d7",
            "6bbad9b522474f6b9d7e967d0641fc6f",
            "e21707d65e3a4f63865d74ab66ef3821",
            "ba9ae3cd4a2d4b66ae846614a8e2d8ac",
            "df1065ef0905449680103e9c633e2b7c",
            "42bea398d75c49ae8ca1adb9dd5b7217",
            "6e872c9ab90b4f03824b5ab79997e54a",
            "f9eeca296cab4186a43c5e544e525bd6",
            "6a6af6920794419d9da64eaa04309b46",
            "9f664bb5db954cee9395981a58aa871b",
            "be3c41f3f2fd4ec3b70ef1bd9bbdc527",
            "82199dd9f8424f9fbaff590a18747c25",
            "b734f08d4f3f40a59b27b067c719ea50",
            "6d654fcd712747518764b30e0c356995",
            "1eb68be77e0745e18401d79ca8f9946a",
            "919e52d0661b491e9851c530a64a6ebe",
            "e3855476d4f24e68a5e8504e8f405663",
            "ab11141a0b774e57a8060672afc2ba6a",
            "eeae10a0e227421d837b5a75655e4112",
            "3336e3ebc6c8424bb209caf20bdc161c",
            "d306ba72962d4b6aa04a9bec00155f5a",
            "e17162c319e84496bfce704321cabf96",
            "c68864ffdb7d4e96bf4b73090b53238a",
            "8e7a5bb70df143b9b88c63372cd95ef6",
            "a8f214aa71164148ab377055a63582e6",
            "97f54426e2ea4a54903d3f3c389186c0",
            "cd049adb968a41a88f8e92856018a654",
            "a6a8c932bb8e433696004c9360fb67c0",
            "3e20fe3c7d0d4748954d2a06e0ee4d27",
            "6322329a84cb4338bfd54aa7d6f9bb30",
            "e981aa519b274b379f2c025905f2edc4",
            "023540fd15e049e692f9ffe4fd113b15",
            "873310576dcd42bf9d7ae4ffe1f457a7",
            "a8c62558754f4b3d83e777e3c09004ef",
            "e4440d3243af4e4f98e3e0c03dce38ae",
            "e3e30d3adb3e43cc8bd990f89506cbc9",
            "403df10f85e04f2ea55cc691dc193a6f",
            "01c8a1e468264be3b344240d223fb004",
            "943f473ee99c4ea6b067604c3dc04559",
            "bb5fae4826ca485e9a91366251959390",
            "10cd02c4f6b64298a911a191d16d3dab",
            "4821360cf1ad4382a49df59954c6786a",
            "b0adf5f62e6c471383495c7ca92d1ea0",
            "a00eba658e5442d0b03a4f9ad74f097a",
            "51111b65b17943d3a003d47db488c421",
            "774f230ea8554ecd92163a4266d802f0",
            "b977436487ba42eb9a31d484ef9ce3bf",
            "bf44df2274b1427e8370bf40673f94d2",
            "6cf83ea3b76d4d91b8a33a8b625a3032",
            "e31f376e1d084530823decf53ffd2f5f",
            "2bad4bcc58c14107bc6920d1bede7102",
            "a220864128d34b25928dfcc7155c547c",
            "e8b572ccc4cd44e68107baabec1bc3b0",
            "f206dce520354808ad0bc2c9dc9e3a16",
            "d1907f81d71c4ed2ac04459dedc1306d",
            "1932bead453c4ec99c7281306350e726",
            "74d16732eb244b8d815013e149957718",
            "3b6c6286d41545a18447bb77d34c9851",
            "a086b1316db143b08abfe49785bcd520",
            "dc90d78bb2274ade858514e73f25f131",
            "cf76873b450d499b848170cd0972cb55",
            "94b99aec1fd14eba9207108dcabe7cc8",
            "8fdfcc983be44b6a88a260a9ca9869aa",
            "f0bb46c4c4804cd8b4c6a1a351771b67",
            "8d81a1e9b5664bca8881ff98ce05a46d",
            "2b8fb414798a407dbc73a5cb88f38851",
            "12d1c2cbdfda4b4786d0573f2c6d6156",
            "620697e71cda4b30b4a443d183af3461",
            "bf961461058b4a2cb5e36a7a89b7d320",
            "b8f460a234ba4e9095f62a1585520b6f",
            "7f1fe95fed18467f9b5654cc20d601a7",
            "465825c8dfc1471ba1806142375741ee",
            "655914d5b9134510a6645e72b7be15c2",
            "68814cd16654447592ba657856ceb249",
            "4e3fedf352e142c7bd1288f267e7d642",
            "225d7d78ae6942a8b6216a2fcace9a8d",
            "2348546640834c3e9ff968ef59654c44",
            "571761e7deb0407084313cc7dd66391c",
            "3ae8d105ea004aae81bef3b2cae06d37",
            "2a2f144ad25840d881d70b3b20e7bd9f",
            "7cb53b66a9454588bdf59dee891e4996",
            "e1364cb31f9d4b1684bc2a8e004d5c1d",
            "802a6aabca074df68ee3256b3f412648",
            "c765a7f2eb8c4287a1dd241bd25895b4",
            "1e200a8bad744f77874ee805d24f3f9f",
            "5d02b234a8484b5b9d3f315452eedf9e",
            "e1329164d81a44c5b88a9e3e22c50c69",
            "23451d2405d04685b2f8ee9094768c8f",
            "f760d17bc50f4aa78dce6c30aec8cd6f",
            "fe182dbb35c948d8a6884df541805349",
            "42a1fd46a69e48438c44a2d478599c08",
            "3c07da9a8bea44a5b43a85e16c6b67a2",
            "097804a8fefb4fd8a1068b1e94f755ee",
            "891cfc9c98444686bb31d6a07c52029e",
            "02772e4060254f979b3f5b5375466f30",
            "032f4313e37d475184f7ab3aa4d04d3b",
            "4e0f8d0a5719428fb9b2293d409f1e8f",
            "9b472e7d778842e18591028b5ea5317e",
            "d505c4eb11fb4e04ab971c4a35d36d7b",
            "edc13242d49a4c13a87b0c88558442ed",
            "8d50e98b81c7479eaea95e6218f18bc9",
            "7f3be6149f7c47ac9fac86930cee420b",
            "cf76df0c635f4c6fac6a81002601e509",
            "0476d9377e3a42a0bc949c2887824b56",
            "133ff1cf44e943faab19a4a4dce9abd3",
            "b80be57d94794eafb5b47cc57ca250a0",
            "ac52331146e5498db6649170391bc7d6",
            "c72c4481f115485aa8c76f297b86deb3",
            "9b19920935c3425397fd2d12d93a5f88",
            "a8c0ebbaafdd4b5d98d639910408a30b",
            "90bff0b8a43b4c6faf3daa8e1846ed51",
            "a23967433a6248d1bf27648cb547ca89",
            "8203eaad90de46ddac08113cf24066ed",
            "c52505e25ebb4a059d467cc233e0a51a",
            "435a0028f3b346bd9d562e47adf05a9c",
            "b45aa3356c454d73b423dfd22bf251cd",
            "f45b3087d339421b8cb4be8354336297",
            "576ad60eea004d7fb4caad1c570a2d46",
            "836aa24a0b3043dd8c7b07917bd66428",
            "e47e752bb30c411480940acad4e56f30",
            "bb28861d615b44899c99ce82c17e5bc8",
            "760b1272ed144f6f97098973df039295",
            "dc53579ec1444375ad7d2d4aca97becd",
            "72009bd6242f4e9a8c22058fb7a1a34e",
            "58d63c3180e545f28cb7ebd2aeb97ed8",
            "7afda02987724834b69d48382c5d060e",
            "5c2ca4e0cda34d2796ab6ae57a8ad198",
            "252b9f8ee4d645c6bb2dbf12e498d2b9",
            "d5fceb5617b546f6b2736e32806aa596",
            "4b41fc3e8f0c49d0b228b2ef16a41ff2",
            "118324b2c86e4bf6bd6ec1a01bbaf772",
            "cd76c58dfc0e4c79a557af9ad72753ae",
            "953f63f5e5d6466695ff77f73ba9f4d8",
            "8a382a8f0cf441eda96381bce3ea2d48",
            "e03e39f3f01a48759ce461d5ff0e1e6b",
            "b34831b245ca48339c60a89d3f860439",
            "8cc0b9b7d9b348c4bc27f9c21e6c70da",
            "bd0cc1ee528f4ebe9e9cbf960be6b1b7",
            "8600adecb36741338d8d7b229bea15e9",
            "4aa07aee7dc048deb25929a8e65df128",
            "cd406ed381d349f4b21f423d0e25cf74"
          ]
        },
        "id": "Q1Id2wdSuL8k",
        "outputId": "c3ab3b62-fd52-48e9-9d5b-a5a249faf7c2"
      },
      "execution_count": null,
      "outputs": [
        {
          "output_type": "display_data",
          "data": {
            "text/plain": [
              "Downloading:   0%|          | 0.00/690 [00:00<?, ?B/s]"
            ],
            "application/vnd.jupyter.widget-view+json": {
              "version_major": 2,
              "version_minor": 0,
              "model_id": "953c45bc7e4b4939a69d6ceb23c514f0"
            }
          },
          "metadata": {}
        },
        {
          "output_type": "display_data",
          "data": {
            "text/plain": [
              "Downloading:   0%|          | 0.00/190 [00:00<?, ?B/s]"
            ],
            "application/vnd.jupyter.widget-view+json": {
              "version_major": 2,
              "version_minor": 0,
              "model_id": "1abadb84426a471fbeacd6adb5c6f678"
            }
          },
          "metadata": {}
        },
        {
          "output_type": "display_data",
          "data": {
            "text/plain": [
              "Downloading:   0%|          | 0.00/115 [00:00<?, ?B/s]"
            ],
            "application/vnd.jupyter.widget-view+json": {
              "version_major": 2,
              "version_minor": 0,
              "model_id": "9f664bb5db954cee9395981a58aa871b"
            }
          },
          "metadata": {}
        },
        {
          "output_type": "display_data",
          "data": {
            "text/plain": [
              "Downloading:   0%|          | 0.00/2.36M [00:00<?, ?B/s]"
            ],
            "application/vnd.jupyter.widget-view+json": {
              "version_major": 2,
              "version_minor": 0,
              "model_id": "d306ba72962d4b6aa04a9bec00155f5a"
            }
          },
          "metadata": {}
        },
        {
          "output_type": "display_data",
          "data": {
            "text/plain": [
              "Downloading:   0%|          | 0.00/2.35k [00:00<?, ?B/s]"
            ],
            "application/vnd.jupyter.widget-view+json": {
              "version_major": 2,
              "version_minor": 0,
              "model_id": "023540fd15e049e692f9ffe4fd113b15"
            }
          },
          "metadata": {}
        },
        {
          "output_type": "display_data",
          "data": {
            "text/plain": [
              "Downloading:   0%|          | 0.00/554 [00:00<?, ?B/s]"
            ],
            "application/vnd.jupyter.widget-view+json": {
              "version_major": 2,
              "version_minor": 0,
              "model_id": "b0adf5f62e6c471383495c7ca92d1ea0"
            }
          },
          "metadata": {}
        },
        {
          "output_type": "display_data",
          "data": {
            "text/plain": [
              "Downloading:   0%|          | 0.00/122 [00:00<?, ?B/s]"
            ],
            "application/vnd.jupyter.widget-view+json": {
              "version_major": 2,
              "version_minor": 0,
              "model_id": "f206dce520354808ad0bc2c9dc9e3a16"
            }
          },
          "metadata": {}
        },
        {
          "output_type": "display_data",
          "data": {
            "text/plain": [
              "Downloading:   0%|          | 0.00/265M [00:00<?, ?B/s]"
            ],
            "application/vnd.jupyter.widget-view+json": {
              "version_major": 2,
              "version_minor": 0,
              "model_id": "8d81a1e9b5664bca8881ff98ce05a46d"
            }
          },
          "metadata": {}
        },
        {
          "output_type": "display_data",
          "data": {
            "text/plain": [
              "Downloading:   0%|          | 0.00/53.0 [00:00<?, ?B/s]"
            ],
            "application/vnd.jupyter.widget-view+json": {
              "version_major": 2,
              "version_minor": 0,
              "model_id": "225d7d78ae6942a8b6216a2fcace9a8d"
            }
          },
          "metadata": {}
        },
        {
          "output_type": "display_data",
          "data": {
            "text/plain": [
              "Downloading:   0%|          | 0.00/112 [00:00<?, ?B/s]"
            ],
            "application/vnd.jupyter.widget-view+json": {
              "version_major": 2,
              "version_minor": 0,
              "model_id": "e1329164d81a44c5b88a9e3e22c50c69"
            }
          },
          "metadata": {}
        },
        {
          "output_type": "display_data",
          "data": {
            "text/plain": [
              "Downloading:   0%|          | 0.00/466k [00:00<?, ?B/s]"
            ],
            "application/vnd.jupyter.widget-view+json": {
              "version_major": 2,
              "version_minor": 0,
              "model_id": "9b472e7d778842e18591028b5ea5317e"
            }
          },
          "metadata": {}
        },
        {
          "output_type": "display_data",
          "data": {
            "text/plain": [
              "Downloading:   0%|          | 0.00/376 [00:00<?, ?B/s]"
            ],
            "application/vnd.jupyter.widget-view+json": {
              "version_major": 2,
              "version_minor": 0,
              "model_id": "9b19920935c3425397fd2d12d93a5f88"
            }
          },
          "metadata": {}
        },
        {
          "output_type": "display_data",
          "data": {
            "text/plain": [
              "Downloading:   0%|          | 0.00/232k [00:00<?, ?B/s]"
            ],
            "application/vnd.jupyter.widget-view+json": {
              "version_major": 2,
              "version_minor": 0,
              "model_id": "e47e752bb30c411480940acad4e56f30"
            }
          },
          "metadata": {}
        },
        {
          "output_type": "display_data",
          "data": {
            "text/plain": [
              "Downloading:   0%|          | 0.00/341 [00:00<?, ?B/s]"
            ],
            "application/vnd.jupyter.widget-view+json": {
              "version_major": 2,
              "version_minor": 0,
              "model_id": "118324b2c86e4bf6bd6ec1a01bbaf772"
            }
          },
          "metadata": {}
        }
      ]
    },
    {
      "cell_type": "code",
      "source": [
        "untuned_bert_semantic_search.search('Thriller', 1)"
      ],
      "metadata": {
        "colab": {
          "base_uri": "https://localhost:8080/"
        },
        "id": "E4KyhLILuL_V",
        "outputId": "5870b4da-883e-4981-a862-f6315a176ce2"
      },
      "execution_count": null,
      "outputs": [
        {
          "output_type": "execute_result",
          "data": {
            "text/plain": [
              "[{'Release Year': 2015,\n",
              "  'Title': 'Eadweard',\n",
              "  'Origin/Ethnicity': 'Canadian',\n",
              "  'Director': 'Kyle Rideout',\n",
              "  'Cast': 'Michael Eklund, Sara Canning, Christopher Heyerdahl, Torrance Coombs, Jodi Balfour',\n",
              "  'Genre': 'biopic of pioneering american photographer eadweard muybridge',\n",
              "  'Wiki Page': 'https://en.wikipedia.org/wiki/Eadweard_(film)',\n",
              "  'Plot': \"A psychological drama centred around world-famous turn-of-the-century photographer, Eadweard Muybridge who photographed nude and deformed subjects, became the godfather of cinema, murdered his wife's lover, and was the last American to receive the justifiable homicide verdict.\"}]"
            ]
          },
          "metadata": {},
          "execution_count": 12
        }
      ]
    },
    {
      "cell_type": "code",
      "source": [
        "untuned_bert_semantic_search.display_results('Thriller', 1)"
      ],
      "metadata": {
        "colab": {
          "base_uri": "https://localhost:8080/"
        },
        "id": "atN8yeiXY9cA",
        "outputId": "9d6ce912-2096-477a-c612-dad7bac71abf"
      },
      "execution_count": null,
      "outputs": [
        {
          "output_type": "stream",
          "name": "stdout",
          "text": [
            "Showing 1 searched results based on your query!\n",
            "Found result #0 - {'Release Year': 2015, 'Title': 'Eadweard', 'Origin/Ethnicity': 'Canadian', 'Director': 'Kyle Rideout', 'Cast': 'Michael Eklund, Sara Canning, Christopher Heyerdahl, Torrance Coombs, Jodi Balfour', 'Genre': 'biopic of pioneering american photographer eadweard muybridge', 'Wiki Page': 'https://en.wikipedia.org/wiki/Eadweard_(film)', 'Plot': \"A psychological drama centred around world-famous turn-of-the-century photographer, Eadweard Muybridge who photographed nude and deformed subjects, became the godfather of cinema, murdered his wife's lover, and was the last American to receive the justifiable homicide verdict.\"}\n"
          ]
        }
      ]
    },
    {
      "cell_type": "code",
      "source": [
        "# save\n",
        "import pickle\n",
        "pickle_out = open(f\"BertSemanticSearchEngine.pickle\", \"wb\")\n",
        "pickle.dump(untuned_bert_semantic_search, pickle_out)\n",
        "pickle_out.close()"
      ],
      "metadata": {
        "id": "icl4pbbZauzq"
      },
      "execution_count": null,
      "outputs": []
    },
    {
      "cell_type": "code",
      "source": [
        "# # load\n",
        "# import pickle\n",
        "# pickle_in = open(\"BertSemanticSearchEngine.pickle\", \"rb\")\n",
        "# untuned_bert_semantic_search = pickle.load(pickle_in)\n",
        "# pickle_in.close()"
      ],
      "metadata": {
        "id": "PeryUck8bAL_"
      },
      "execution_count": null,
      "outputs": []
    },
    {
      "cell_type": "code",
      "source": [
        "# !pip install sacremoses"
      ],
      "metadata": {
        "id": "_3HfqTqbwkql"
      },
      "execution_count": null,
      "outputs": []
    },
    {
      "cell_type": "code",
      "source": [
        "tuned_bert_semantic_search = BertSemanticSearchEngine('msmarco-distilbert-base-dot-prod-v3', df, 'Plot', fine_tune=True)\n",
        "tuned_bert_semantic_search.get_synthetic_queries()\n",
        "tuned_bert_semantic_search.fine_tune(epochs=10, show_progress_bar=True)"
      ],
      "metadata": {
        "id": "Vl34xRXLuMCR"
      },
      "execution_count": null,
      "outputs": []
    },
    {
      "cell_type": "code",
      "source": [
        "tuned_bert_semantic_search.construct_embeddings()"
      ],
      "metadata": {
        "id": "l8QgN7BTpMhS"
      },
      "execution_count": null,
      "outputs": []
    },
    {
      "cell_type": "code",
      "source": [
        "pickle_out = open(f\"TunedBertSemanticSearchEngine.pickle\", \"wb\")\n",
        "pickle.dump(tuned_bert_semantic_search, pickle_out)\n",
        "pickle_out.close()"
      ],
      "metadata": {
        "id": "MqQ2-iKpaxBB"
      },
      "execution_count": null,
      "outputs": []
    },
    {
      "cell_type": "code",
      "source": [
        "# pickle_in = open(\"TunedBertSemanticSearchEngine.pickle\", \"rb\")\n",
        "# tuned_bert_semantic_search = pickle.load(pickle_in)\n",
        "# pickle_in.close()"
      ],
      "metadata": {
        "id": "ez8WW-isa2g8"
      },
      "execution_count": null,
      "outputs": []
    },
    {
      "cell_type": "code",
      "source": [
        "untuned_bert_semantic_search.display_results('Thriller', 3)"
      ],
      "metadata": {
        "colab": {
          "base_uri": "https://localhost:8080/"
        },
        "id": "T8uben26agnA",
        "outputId": "a629ee9a-4427-457e-931d-b983530e8e0f"
      },
      "execution_count": null,
      "outputs": [
        {
          "output_type": "stream",
          "name": "stdout",
          "text": [
            "Showing 3 searched results based on your query!\n",
            "Found result #0 - {'Release Year': 1956, 'Title': 'Portrait of Alison', 'Origin/Ethnicity': 'British', 'Director': 'Guy Green', 'Cast': 'Robert Beatty, Terry Moore', 'Genre': 'crime', 'Wiki Page': 'https://en.wikipedia.org/wiki/Portrait_of_Alison', 'Plot': \"The film opens with a car plunging over a cliff in Italy. The killed driver is newspaperman Lewis Forrester. The woman with him is supposedly Alison Ford, an actress. But she wasn’t actually in the car and turns up later in England to try and solve what was in truth a murder to shut the newspaper man up, not an accident. She solicits the help of Forrester's brother, Tim, an artist. Then, as the story unfolds, a number of mysterious, unsolved questions keep emerging, along with two more murders and a suicide. And before it's over it has been learned that an international ring of diamond thieves is at the bottom of everything, that no less than four of the major characters are part of it, and that an independent blackmailer is at work as well.\"}\n",
            "Found result #1 - {'Release Year': 2015, 'Title': 'Eadweard', 'Origin/Ethnicity': 'Canadian', 'Director': 'Kyle Rideout', 'Cast': 'Michael Eklund, Sara Canning, Christopher Heyerdahl, Torrance Coombs, Jodi Balfour', 'Genre': 'biopic of pioneering american photographer eadweard muybridge', 'Wiki Page': 'https://en.wikipedia.org/wiki/Eadweard_(film)', 'Plot': \"A psychological drama centred around world-famous turn-of-the-century photographer, Eadweard Muybridge who photographed nude and deformed subjects, became the godfather of cinema, murdered his wife's lover, and was the last American to receive the justifiable homicide verdict.\"}\n",
            "Found result #2 - {'Release Year': 2012, 'Title': 'Banking Hours 10 to 4', 'Origin/Ethnicity': 'Malayalam', 'Director': 'K. Madhu', 'Cast': 'Anoop Menon, Meghna Raj, Ashokan, Kailash', 'Genre': 'crime thriller', 'Wiki Page': 'https://en.wikipedia.org/wiki/Banking_Hours_10_to_4', 'Plot': 'Banking Hours 10 to 4 is a suspense thriller happening in a bank. A person is killed inside the bank premises and the suspense is revealed within the banking hours of 10 to 4. Anoop Menon plays the role of an investigation officer.'}\n"
          ]
        }
      ]
    },
    {
      "cell_type": "code",
      "source": [
        "tuned_bert_semantic_search.display_results('Thriller', 3)"
      ],
      "metadata": {
        "colab": {
          "base_uri": "https://localhost:8080/"
        },
        "id": "65tNThbakrc0",
        "outputId": "f9fad7c0-a5dd-46b2-bb15-0228ec07c297"
      },
      "execution_count": null,
      "outputs": [
        {
          "output_type": "stream",
          "name": "stdout",
          "text": [
            "Showing 3 searched results based on your query!\n",
            "Found result #0 - {'Release Year': 1939, 'Title': 'The Nursemaid Who Disappeared', 'Origin/Ethnicity': 'British', 'Director': 'Arthur B. Woods', 'Cast': 'Arthur Margetson, Peter Coke', 'Genre': 'crime', 'Wiki Page': 'https://en.wikipedia.org/wiki/The_Nursemaid_Who_Disappeared', 'Plot': 'In this thriller, a playwright overhears a gang of men plotting a kidnapping and enlists the assistance of a detective to investigate them. They soon find the ring is fronted by a bogus employment agency that sends \"clients\" to check out potential victims. Action ensues as they endeavor to stop them.[4]'}\n",
            "Found result #1 - {'Release Year': 2003, 'Title': 'Jodi Kya Banayi Wah Wah Ramji', 'Origin/Ethnicity': 'Bollywood', 'Director': 'Unknown', 'Cast': nan, 'Genre': ' ', 'Wiki Page': 'https://en.wikipedia.org/wiki/Jodi_Kya_Banayi_Wah_Wah_Ramji', 'Plot': \"The story is a riotous comedy about a suspense thriller writer's search for a love affair.[1]\"}\n",
            "Found result #2 - {'Release Year': 2010, 'Title': 'Nalamdhana', 'Origin/Ethnicity': 'Tamil', 'Director': 'Mathuvannan', 'Cast': 'Srikumar, Sanyathara, Sri Vishnu, Jothisha', 'Genre': 'unknown', 'Wiki Page': 'https://en.wikipedia.org/wiki/Nalamdhana', 'Plot': 'An investigative thriller based on the search for a missing youngster.'}\n"
          ]
        }
      ]
    },
    {
      "cell_type": "code",
      "source": [],
      "metadata": {
        "id": "uP4-W8bmHaYL"
      },
      "execution_count": null,
      "outputs": []
    },
    {
      "cell_type": "code",
      "source": [
        "# import sys\n",
        "# !{sys.executable} -m pip install gensim nltk scikit-learn rank_bm25"
      ],
      "metadata": {
        "id": "dNJzgjRFnkm9"
      },
      "execution_count": null,
      "outputs": []
    },
    {
      "cell_type": "code",
      "source": [
        "# !python -m pip install -U giotto-tda"
      ],
      "metadata": {
        "id": "d4inSkumo1SZ"
      },
      "execution_count": null,
      "outputs": []
    },
    {
      "cell_type": "code",
      "source": [
        "# !pip install rake-nltk"
      ],
      "metadata": {
        "id": "_A_3lFUvEtc7"
      },
      "execution_count": null,
      "outputs": []
    },
    {
      "cell_type": "code",
      "source": [
        "from sklearn.cluster import DBSCAN\n",
        "from gtda.mapper import CubicalCover, make_mapper_pipeline\n",
        "from sklearn.manifold import TSNE\n",
        "from sklearn.base import BaseEstimator, TransformerMixin\n",
        "from sklearn.utils.validation import check_array, check_is_fitted\n",
        "from sklearn.decomposition import PCA\n",
        "from sklearn.manifold import TSNE\n",
        "from sklearn.base import BaseEstimator, TransformerMixin\n",
        "from itertools import chain\n",
        "import pandas as pd\n",
        "import nltk\n",
        "from nltk.corpus import reuters\n",
        "from nltk.corpus import stopwords\n",
        "import re\n",
        "import random\n",
        "import gensim.downloader as api\n",
        "import numpy as np\n",
        "from sklearn.metrics.pairwise import cosine_similarity\n",
        "from nltk.corpus import reuters\n",
        "import numpy as np\n",
        "from gtda.mapper import plot_static_mapper_graph\n",
        "\n",
        "nltk.download('stopwords', quiet=True)"
      ],
      "metadata": {
        "colab": {
          "base_uri": "https://localhost:8080/"
        },
        "id": "xQVK0bTrnkrf",
        "outputId": "d82a0887-70e1-4226-dd26-619a24b060bf"
      },
      "execution_count": null,
      "outputs": [
        {
          "output_type": "execute_result",
          "data": {
            "text/plain": [
              "True"
            ]
          },
          "metadata": {},
          "execution_count": 18
        }
      ]
    },
    {
      "cell_type": "code",
      "source": [
        "import nltk\n",
        "nltk.download('wordnet', quiet=True)"
      ],
      "metadata": {
        "colab": {
          "base_uri": "https://localhost:8080/"
        },
        "id": "SopdJQaujDt8",
        "outputId": "ccbcffef-7490-4f33-8820-a677faf781a2"
      },
      "execution_count": null,
      "outputs": [
        {
          "output_type": "execute_result",
          "data": {
            "text/plain": [
              "True"
            ]
          },
          "metadata": {},
          "execution_count": 19
        }
      ]
    },
    {
      "cell_type": "code",
      "source": [
        "class TopologicalSemanticSearchEngine:\n",
        "\n",
        "    def __init__(self, data, data_dict, model, pca_n_components=100, tsne_n_components=2, metric=\"cosine\", n_intervals=10, overlap_frac=0.3, n_jobs=2):\n",
        "        self.data = data # df['Plot']\n",
        "        self.data_dict = data_dict # {row['Plot']: {'Title': row['Title'], 'Release Year': row['Release Year'], 'Origin/Ethnicity': row['Origin/Ethnicity'], 'Genre': row['Genre'] } for i, row in df.iterrows()}\n",
        "        self.get_vector_vocab(self.data, model)\n",
        "        self.train_data = self.vocabulary.iloc[:, 2:].values\n",
        "        self.tsne_dim_reduc = self.apply_tsne_dim_reduc(pca_n_components=pca_n_components, tsne_n_components=tsne_n_components, metric=metric)\n",
        "        self.clusterer = DBSCAN(metric=\"cosine\")\n",
        "        self.cover = CubicalCover(n_intervals=n_intervals, overlap_frac=overlap_frac)\n",
        "        self.pipeline = make_mapper_pipeline(filter_func=self.tsne_dim_reduc, cover=self.cover, clusterer=self.clusterer, verbose=False, n_jobs=n_jobs)\n",
        "        self.graph = self.pipeline.fit_transform(self.train_data) \n",
        "        self.get_word_node_map()\n",
        "\n",
        "    def apply_tsne_dim_reduc(self, pca_n_components, tsne_n_components, metric):\n",
        "        self.pca_model = PCA(n_components=pca_n_components)\n",
        "        self.train_data = self.pca_model.fit_transform(self.train_data)\n",
        "        self.tsne = TSNE(n_components=tsne_n_components, metric=metric, random_state=1)\n",
        "        self.train_data_transformed = self.tsne.fit_transform(self.train_data)\n",
        "\n",
        "    def remove_stopwords_symbols(self, string_list):\n",
        "      nltk.download(\"stopwords\", quiet=True)\n",
        "      def remove_stop_words(text, stopWords):\n",
        "        text = text.split(\" \")\n",
        "        return \" \".join([y for y in text if y not in stopWords])\n",
        "      # get stop words\n",
        "      en_stopWords = set(stopwords.words(\"english\"))\n",
        "      string_series = pd.Series(string_list).str.lower()\n",
        "      if any('http' in i for i in string_series):\n",
        "        string_series = string_series.apply(lambda x: re.sub(r\"http\\S+\", \" \", str(x)))\n",
        "      # remove all that is not en. characters or numbers\n",
        "      string_series = string_series.str.replace(\"[^a-zA-Z0-9]\", \" \", regex=True)\n",
        "      # remove symbols\n",
        "      string_series = string_series.str.replace(\" +\", \" \", regex=True)\n",
        "      # remove stop words\n",
        "      string_series = string_series.apply(lambda i: remove_stop_words(i, en_stopWords))\n",
        "      return string_series\n",
        "\n",
        "    def get_data_vector(self, data, model):\n",
        "      def make_vec(text, index, vocabulary, model):\n",
        "        vectors = []\n",
        "        for word in set(text.split(\" \")):\n",
        "          #try except\n",
        "          vectors.append((index, word))\n",
        "          if word not in vocabulary:\n",
        "            vocabulary[word] = model.encode(word)\n",
        "        return vectors\n",
        "\n",
        "      vocabulary = {}\n",
        "      vectors = []\n",
        "      for idx, text in enumerate(data):\n",
        "        vectors += make_vec(text, idx, vocabulary, model)\n",
        "      return vectors, vocabulary\n",
        "\n",
        "    def get_vector_vocab(self, text, model): \n",
        "      vectors, vocabulary = self.get_data_vector(self.remove_stopwords_symbols(text), model)\n",
        "      vectors = pd.concat([pd.Series([i[0] for i in vectors]), pd.DataFrame(np.array([i[1] for i in vectors]))], axis=1)\n",
        "      vectors.columns = [x if i > 0 else 'index' for i, x in enumerate(vectors.columns)]\n",
        "      vectors.columns = [x if i != 1 else 'word' for i, x in enumerate(vectors.columns)]\n",
        "\n",
        "      vocabulary = [(i, vocabulary[i]) for i in vocabulary]\n",
        "      vocabulary = pd.concat([pd.Series([i[0] for i in vocabulary]), pd.DataFrame(np.array([i[1] for i in vocabulary]))], axis=1)\n",
        "      vocabulary.columns = [x if i > 0 else 'word' for i, x in enumerate(vocabulary.columns)]\n",
        "      vocabulary.reset_index(inplace=True)\n",
        "      vocabulary.rename({\"index\": \"word_idx\"}, axis=1, inplace=True)\n",
        "      self.vectors, self.vocabulary, self.model = vectors, vocabulary, model\n",
        "\n",
        "    def get_word_node_map(self):\n",
        "      self.word_node_map = {}\n",
        "      for node_idx, word_indices in enumerate(self.graph.vs[\"node_elements\"]):\n",
        "        for word_idx in word_indices:\n",
        "          if word_idx not in self.word_node_map:\n",
        "            self.word_node_map[word_idx] = []\n",
        "          if node_idx not in self.word_node_map[word_idx]:\n",
        "            self.word_node_map[word_idx].append(node_idx)\n",
        "        \n",
        "      self.vectors = self.vectors.merge(self.vocabulary[[\"word_idx\", \"word\"]], how='inner', on=\"word\")\n",
        "      self.node_count = np.zeros((len(self.data), len(self.graph.vs[\"node_elements\"])))\n",
        "      for i, row in self.vectors.iterrows():\n",
        "        for node_idx in list(self.word_node_map[row[\"word_idx\"]]):\n",
        "          self.node_count[row[\"index\"], node_idx] += 1\n",
        "      self.node_count = self.node_count / self.node_count.sum(axis=1)[:, None]   \n",
        "\n",
        "    def get_similar_words(self, word, select_nearest_k=100):\n",
        "      def get_closet_word(word):\n",
        "        return self.vocabulary.loc[np.argmax(cosine_similarity(self.model.encode(word).reshape(1,-1), self.vocabulary.iloc[:, 2:].values)), \"word\"]\n",
        "      # get_closet_word\n",
        "      closest_word = get_closet_word(word)\n",
        "      if select_nearest_k == 1:\n",
        "        return closest_word\n",
        "      closet_word_idx = self.vocabulary.loc[self.vocabulary[\"word\"] == closest_word, \"word_idx\"].iloc[0]\n",
        "      closet_word_vector = self.vocabulary.loc[self.vocabulary[\"word\"] == closest_word].iloc[0, 2:].values\n",
        "      other_close_word_nodes = list(self.word_node_map[closet_word_idx])\n",
        "      other_close_word_idices = np.concatenate([self.graph.vs[\"node_elements\"][node_idx] for node_idx in other_close_word_nodes], axis=0)\n",
        "      other_close_word_idices = [x for x in other_close_word_idices if x != closet_word_idx]\n",
        "      similar_words = list(self.vocabulary.iloc[np.array(other_close_word_idices)[np.argsort(cosine_similarity(closet_word_vector.reshape(1, -1), \n",
        "                                                                                                                 self.vocabulary.iloc[other_close_word_idices, 2:])[0, :])[::-1]],1].values)\n",
        "      return similar_words[:select_nearest_k]\n",
        "\n",
        "    def search(self, query, show_n, select_nearest_k=10):\n",
        "      query = self.remove_stopwords_symbols(query).loc[0].split(\" \")\n",
        "      all_possible_query = [self.get_similar_words(q, select_nearest_k=select_nearest_k) if q not in self.vocabulary[\"word\"].values else [q] for q in query]\n",
        "      print(all_possible_query)\n",
        "      word_indices = [self.vocabulary.loc[self.vocabulary[\"word\"] == x, \"word_idx\"].iloc[0] for x in list(chain.from_iterable(all_possible_query))]\n",
        "      return [self.data_dict[self.data[x]] for x in np.argsort(self.node_count[:, list(chain.from_iterable([self.word_node_map[x] for x in word_indices]))].sum(axis=1))[::-1][:show_n]]\n",
        "\n",
        "    def display_results(self, query, show_n, select_nearest_k):\n",
        "      res = self.search(query, show_n, select_nearest_k)\n",
        "      print('Showing {} searched results based on your query!'.format(show_n))\n",
        "      for idx, r in enumerate(res):\n",
        "        print('Found result #{} - {}'.format(idx, r))"
      ],
      "metadata": {
        "id": "5sXH9EynpJj3"
      },
      "execution_count": null,
      "outputs": []
    },
    {
      "cell_type": "code",
      "source": [
        "model = SentenceTransformer('msmarco-distilbert-base-dot-prod-v3')\n",
        "# define data\n",
        "data = df['Plot']\n",
        "data_dict = {row['Plot']: {'Title': row['Title'], 'Plot': row['Plot'], 'Release Year': row['Release Year'], 'Origin/Ethnicity': row['Origin/Ethnicity'], 'Genre': row['Genre'] } for i, row in df.iterrows()}"
      ],
      "metadata": {
        "id": "wO7vdCKyYX6k"
      },
      "execution_count": null,
      "outputs": []
    },
    {
      "cell_type": "code",
      "source": [
        "topo_search = TopologicalSemanticSearchEngine(data.iloc, data_dict, model, pca_n_components=100, tsne_n_components=2, metric=\"cosine\", n_intervals=10, overlap_frac=0.3, n_jobs=2)"
      ],
      "metadata": {
        "id": "R8hiIAxGHabl"
      },
      "execution_count": null,
      "outputs": []
    },
    {
      "cell_type": "code",
      "source": [],
      "metadata": {
        "id": "40qeLaR2cdMz"
      },
      "execution_count": null,
      "outputs": []
    },
    {
      "cell_type": "code",
      "source": [
        "topo_search.search(\"China\", show_n=3, select_nearest_k=10)"
      ],
      "metadata": {
        "colab": {
          "base_uri": "https://localhost:8080/"
        },
        "id": "tX1GNn5tb1kU",
        "outputId": "b24da2e2-1b35-4e53-b7dd-ded140793ab6"
      },
      "execution_count": null,
      "outputs": [
        {
          "output_type": "execute_result",
          "data": {
            "text/plain": [
              "[{'Title': 'The Martyred Presidents',\n",
              "  'Plot': 'The film, just over a minute long, is composed of two shots. In the first, a girl sits at the base of an altar or tomb, her face hidden from the camera. At the center of the altar, a viewing portal displays the portraits of three U.S. Presidents—Abraham Lincoln, James A. Garfield, and William McKinley—each victims of assassination.\\r\\nIn the second shot, which runs just over eight seconds long, an assassin kneels feet of Lady Justice.',\n",
              "  'Release Year': 1901,\n",
              "  'Origin/Ethnicity': 'American',\n",
              "  'Genre': 'unknown'},\n",
              " {'Title': 'Love by the Light of the Moon',\n",
              "  'Plot': \"The moon, painted with a smiling face hangs over a park at night. A young couple walking past a fence learn on a railing and look up. The moon smiles. They embrace, and the moon's smile gets bigger. They then sit down on a bench by a tree. The moon's view is blocked, causing him to frown. In the last scene, the man fans the woman with his hat because the moon has left the sky and is perched over her shoulder to see everything better.\",\n",
              "  'Release Year': 1901,\n",
              "  'Origin/Ethnicity': 'American',\n",
              "  'Genre': 'unknown'},\n",
              " {'Title': 'The Little Train Robbery',\n",
              "  'Plot': 'The opening scene shows the interior of the robbers\\' den. The walls are decorated with the portraits of notorious criminals and pictures illustrating the exploits of famous bandits. Some of the gang are lounging about, while others are reading novels and illustrated papers. Although of youthful appearance, each is dressed like a typical Western desperado. The \"Bandit Queen,\" leading a blindfolded new recruit, now enters the room. He is led to the center of the room, raises his right hand and is solemnly sworn in. When the bandage is removed from his eyes he finds himself looking into the muzzles of a dozen or more 45\\'s. The gang then congratulates the new member and heartily shake his hand. The \"Bandit Queen\" who is evidently the leader of the gang, now calls for volunteers to hold up a train. All respond, but she picks out seven for the job who immediately leave the cabin.\\r\\nThe next scene shows the gang breaking into a barn. They steal ponies and ride away. Upon reaching the place agreed upon they picket their ponies and leaving them in charge of a trusted member proceed to a wild mountain spot in a bend of the railroad, where the road runs over a steep embankment. The spot is an ideal one for holding up a train. Cross ties are now placed on the railroad track and the gang hide in some bushes close by and wait for the train. The train soon approaches and is brought to a stop. The engineer leaves his engine and proceeds to remove the obstruction on the track. While he is bending over one of the gang sneaks up behind them and hits him on the head with an axe, and knocks him senseless down the embankment, while the gang surround the train and hold up the passengers. After securing all the \"valuables,\" consisting principally of candy and dolls, the robbers uncouple the engine and one car and make their escape just in time to avoid a posse of police who appear on the scene. Further up the road they abandon the engine and car, take to the woods and soon reach their ponies.\\r\\nIn the meantime the police have learned the particulars of the hold-up from the frightened passengers and have started up the railroad tracks after the fleeing robbers. The robbers are next seen riding up the bed of a shallow stream and finally reach their den, where the remainder of the gang have been waiting for them. Believing they have successfully eluded their pursuers, they proceed to divide the \"plunder.\" The police, however, have struck the right trail and are in close pursuit. While the \"plunder\" is being divided a sentry gives the alarm and the entire gang, abandoning everything, rush from the cabin barely in time to escape capture. The police make a hurried search and again start in pursuit. The robbers are so hard pressed that they are unable to reach their ponies, and are obliged to take chances on foot. The police now get in sight of the fleeing robbers and a lively chase follows through tall weeds, over a bridge and up a steep hill. Reaching a pond the police are close on their heels. The foremost robbers jump in clothes and all and strike out for the opposite bank. Two hesitate and are captured. Boats are secured and after an exciting tussle the entire gang is rounded up. In the mix up one of the police is dragged overboard. The final scene shows the entire gang of bedraggled and crestfallen robbers tied together with a rope and being led away by the police. Two of the police are loaded down with revolvers, knives and cartridge belts, and resemble walking aresenals. As a fitting climax a confederate steals out of the woods, cuts the rope and gallantly rescues the \"Bandit Queen.\"',\n",
              "  'Release Year': 1905,\n",
              "  'Origin/Ethnicity': 'American',\n",
              "  'Genre': 'unknown'}]"
            ]
          },
          "metadata": {},
          "execution_count": 30
        }
      ]
    },
    {
      "cell_type": "code",
      "source": [
        "# pickle_out = open(f\"TopologicalSemanticSearchEngine.pickle\", \"wb\")\n",
        "# pickle.dump(topo_search, pickle_out)\n",
        "# pickle_out.close()"
      ],
      "metadata": {
        "id": "-LdwubB6wPYm"
      },
      "execution_count": null,
      "outputs": []
    },
    {
      "cell_type": "code",
      "source": [
        "# pickle_in = open(\"TopologicalSemanticSearchEngine.pickle\", \"rb\")\n",
        "# topo_search = pickle.load(pickle_in)\n",
        "# pickle_in.close()"
      ],
      "metadata": {
        "id": "KIjYMGAjwzV-"
      },
      "execution_count": null,
      "outputs": []
    },
    {
      "cell_type": "code",
      "source": [
        "topo_search.display_results(\"action\", show_n=1, select_nearest_k=10)\n"
      ],
      "metadata": {
        "colab": {
          "base_uri": "https://localhost:8080/"
        },
        "id": "XcJgiAslBBCO",
        "outputId": "bcb902e9-6dc3-4db1-912b-a1365d731c21"
      },
      "execution_count": null,
      "outputs": [
        {
          "output_type": "stream",
          "name": "stdout",
          "text": [
            "RESULT 0 for the query 'action': \n",
            " \n",
            "{'Title': 'Sudharshan', 'Plot': 'Refer this for details.', 'Release Year': 1951, 'Origin/Ethnicity': 'Tamil', 'Genre': 'unknown'}\n"
          ]
        }
      ]
    },
    {
      "cell_type": "code",
      "source": [
        "topo_search.search('comedy',  show_n=2, select_nearest_k=10)"
      ],
      "metadata": {
        "colab": {
          "base_uri": "https://localhost:8080/"
        },
        "id": "ITGISuNCiLA_",
        "outputId": "9355c3dd-2455-427c-edd7-fd13ca051115"
      },
      "execution_count": null,
      "outputs": [
        {
          "output_type": "execute_result",
          "data": {
            "text/plain": [
              "[{'Title': 'Mr. Love',\n",
              "  'Plot': 'An elderly mild-mannered gardener becomes a lovable legend in his town for his talent to romantically please every woman that fancies him.',\n",
              "  'Release Year': 1985,\n",
              "  'Origin/Ethnicity': 'British',\n",
              "  'Genre': 'comedy'},\n",
              " {'Title': 'A Bill of Divorcement',\n",
              "  'Plot': 'Hilary Fairchild returns home after a long spell in a lunatic asylum.',\n",
              "  'Release Year': 1940,\n",
              "  'Origin/Ethnicity': 'American',\n",
              "  'Genre': 'drama'}]"
            ]
          },
          "metadata": {},
          "execution_count": 35
        }
      ]
    },
    {
      "cell_type": "code",
      "source": [
        "def genre_search_quality(models, genre_to_search_list, show_n):\n",
        "  hit_rate = {}\n",
        "  for model_name, model in models.items():\n",
        "    if model_name not in hit_rate:\n",
        "        hit_rate[model_name] = {}\n",
        "    for genre_query in genre_to_search_list:\n",
        "      results = model.search(genre_query, show_n=show_n)\n",
        "      if genre_query not in hit_rate[model_name]:\n",
        "        hit_rate[model_name][genre_query] = 0\n",
        "      for res in results:\n",
        "        if genre_query in res['Genre'].lower():\n",
        "          hit_rate[model_name][genre_query] += 1 \n",
        "  return {model_name: {genre: round(rate/show_n, 3) for genre, rate in model_details.items()} for model_name, model_details in hit_rate.items()}\n"
      ],
      "metadata": {
        "id": "zcGCXDZ0Wr9V"
      },
      "execution_count": null,
      "outputs": []
    },
    {
      "cell_type": "code",
      "source": [
        "models = {'untuned_bert_semantic_search + FAISS': untuned_bert_semantic_search, 'tuned_bert_semantic_search + FAISS': tuned_bert_semantic_search, 'topological_bert_semantic_search': topo_search}\n",
        "\n",
        "genre_hit_rate = genre_search_quality(models, genre_to_search_list=['comedy', 'western', 'music', 'adventure', 'thriller', \\\n",
        "                                                                    'action', 'war', 'mystery', 'crime', 'fantasy', 'sci-fi', 'romance'], \n",
        "                                      show_n=1000)"
      ],
      "metadata": {
        "id": "5c6PnjRW2Op_"
      },
      "execution_count": null,
      "outputs": []
    },
    {
      "cell_type": "code",
      "source": [
        "genre_hit_rate"
      ],
      "metadata": {
        "colab": {
          "base_uri": "https://localhost:8080/"
        },
        "id": "bR8DNnWOVNPb",
        "outputId": "ccbea48d-48b8-4485-b436-3ce53b067a66"
      },
      "execution_count": 22,
      "outputs": [
        {
          "output_type": "execute_result",
          "data": {
            "text/plain": [
              "{'topological_bert_semantic_search': {'comedy': 0.172,\n",
              "  'western': 0.078,\n",
              "  'music': 0.044,\n",
              "  'adventure': 0.008,\n",
              "  'thriller': 0.048,\n",
              "  'action': 0.058,\n",
              "  'war': 0.013,\n",
              "  'mystery': 0.028,\n",
              "  'crime': 0.051,\n",
              "  'fantasy': 0.005,\n",
              "  'sci-fi': 0.001,\n",
              "  'romance': 0.082},\n",
              " 'untuned_bert_semantic_search + FAISS': {'comedy': 0.385,\n",
              "  'western': 0.133,\n",
              "  'music': 0.07,\n",
              "  'adventure': 0.059,\n",
              "  'thriller': 0.083,\n",
              "  'action': 0.066,\n",
              "  'war': 0.085,\n",
              "  'mystery': 0.074,\n",
              "  'crime': 0.166,\n",
              "  'fantasy': 0.054,\n",
              "  'sci-fi': 0.044,\n",
              "  'romance': 0.081},\n",
              " 'tuned_bert_semantic_search + FAISS': {'comedy': 0.468,\n",
              "  'western': 0.192,\n",
              "  'music': 0.094,\n",
              "  'adventure': 0.071,\n",
              "  'thriller': 0.127,\n",
              "  'action': 0.136,\n",
              "  'war': 0.136,\n",
              "  'mystery': 0.066,\n",
              "  'crime': 0.238,\n",
              "  'fantasy': 0.07,\n",
              "  'sci-fi': 0.092,\n",
              "  'romance': 0.104}}"
            ]
          },
          "metadata": {},
          "execution_count": 22
        }
      ]
    },
    {
      "cell_type": "code",
      "source": [
        "labels, data = [*zip(*genre_hit_rate.items())]  # 'transpose' items to parallel key, value lists\n",
        "data = [list(data_dict.values()) for data_dict in data]\n",
        "plt.boxplot(data)\n",
        "plt.ylabel('Genre search accuracy')\n",
        "plt.xticks(range(1, len(labels) + 1), labels, rotation=10)\n",
        "plt.show()"
      ],
      "metadata": {
        "colab": {
          "base_uri": "https://localhost:8080/",
          "height": 300
        },
        "id": "U2JqtUJsVZO-",
        "outputId": "3cdd0f9f-cbb3-47e2-ee0b-c457443c4e99"
      },
      "execution_count": 38,
      "outputs": [
        {
          "output_type": "display_data",
          "data": {
            "text/plain": [
              "<Figure size 432x288 with 1 Axes>"
            ],
            "image/png": "[encoded data removed]"
          },
          "metadata": {
            "needs_background": "light"
          }
        }
      ]
    },
    {
      "cell_type": "code",
      "source": [
        "from scipy import stats\n",
        "\n",
        "for model, d in zip(labels, data):\n",
        "  print(model, stats.describe(d), np.mean(d), np.median(d))"
      ],
      "metadata": {
        "colab": {
          "base_uri": "https://localhost:8080/"
        },
        "id": "9iSJpEgYXOCx",
        "outputId": "2d53675c-4ce9-428e-ff23-7eafa8752a81"
      },
      "execution_count": 39,
      "outputs": [
        {
          "output_type": "stream",
          "name": "stdout",
          "text": [
            "topological_bert_semantic_search DescribeResult(nobs=12, minmax=(0.001, 0.172), mean=0.048999999999999995, variance=0.0022570909090909095, skewness=1.4178193104540018, kurtosis=1.7605129088028963) 0.048999999999999995 0.046\n",
            "untuned_bert_semantic_search + FAISS DescribeResult(nobs=12, minmax=(0.044, 0.385), mean=0.10833333333333334, variance=0.008761515151515152, skewness=2.3868348175358336, kurtosis=4.635635015561342) 0.10833333333333334 0.0775\n",
            "tuned_bert_semantic_search + FAISS DescribeResult(nobs=12, minmax=(0.066, 0.468), mean=0.14950000000000002, variance=0.012714818181818183, skewness=2.055647508158211, kurtosis=3.4452790595040756) 0.14950000000000002 0.11549999999999999\n"
          ]
        }
      ]
    },
    {
      "cell_type": "code",
      "source": [
        "plt.figure()\n",
        "for m, d in genre_hit_rate.items():\n",
        "  plt.bar(height=np.mean(list(d.values())), x=m)\n",
        "  print(m, np.mean(list(d.values())))\n",
        "plt.xticks(rotation=10)\n",
        "plt.title('Average genre prediction accuracy by models')\n",
        "plt.show()"
      ],
      "metadata": {
        "colab": {
          "base_uri": "https://localhost:8080/",
          "height": 370
        },
        "id": "mE3Ya4xLXcUB",
        "outputId": "ce9d60d7-e355-46ce-c5e5-f74983e5c914"
      },
      "execution_count": 27,
      "outputs": [
        {
          "output_type": "stream",
          "name": "stdout",
          "text": [
            "topological_bert_semantic_search 0.048999999999999995\n",
            "untuned_bert_semantic_search + FAISS 0.10833333333333334\n",
            "tuned_bert_semantic_search + FAISS 0.14950000000000002\n"
          ]
        },
        {
          "output_type": "display_data",
          "data": {
            "text/plain": [
              "<Figure size 432x288 with 1 Axes>"
            ],
            "image/png": "[encoded data removed]"
          },
          "metadata": {
            "needs_background": "light"
          }
        }
      ]
    },
    {
      "cell_type": "markdown",
      "source": [],
      "metadata": {
        "id": "jWSp_Nz_oU6H"
      }
    },
    {
      "cell_type": "code",
      "source": [
        "import nltk\n",
        "nltk.download('punkt', quiet=True)\n",
        "nltk.download('stopwords', quiet=True) \n",
        "\n",
        "from rake_nltk import Rake\n",
        "r = Rake()\n",
        "rake_keywords = {}\n",
        "\n",
        "for i, row in df.iterrows():\n",
        "  r.extract_keywords_from_text(row['Plot'])\n",
        "  rake_keywords[row['Plot']] = r.get_ranked_phrases_with_scores()"
      ],
      "metadata": {
        "id": "Zv62eA11wF3y"
      },
      "execution_count": null,
      "outputs": []
    },
    {
      "cell_type": "code",
      "source": [
        "similarity_model = SentenceTransformer('all-MiniLM-L6-v2')\n",
        "def get_model_based_cos_similarity(text_a, text_b, similarity_model):\n",
        "  from sentence_transformers import util\n",
        "  #Compute cosine-similarities for each sentence with each other sentence\n",
        "  return util.cos_sim(similarity_model.encode(text_a, convert_to_tensor=True), similarity_model.encode(text_b, convert_to_tensor=True)).item()"
      ],
      "metadata": {
        "id": "0Nf-azrkz_Bm"
      },
      "execution_count": null,
      "outputs": []
    },
    {
      "cell_type": "code",
      "source": [
        "def get_countvector_based_cos_similarity(s1, s2):\n",
        "    # sentences to list\n",
        "    allsentences = [s1 , s2]\n",
        "    \n",
        "    # packages\n",
        "    from sklearn.feature_extraction.text import CountVectorizer\n",
        "    from scipy.spatial import distance\n",
        "    \n",
        "    # text to vector\n",
        "    vectorizer = CountVectorizer()\n",
        "    all_sentences_to_vector = vectorizer.fit_transform(allsentences)\n",
        "    text_to_vector_v1 = all_sentences_to_vector.toarray()[0].tolist()\n",
        "    text_to_vector_v2 = all_sentences_to_vector.toarray()[1].tolist()\n",
        "    \n",
        "    # distance of similarity\n",
        "    cosine = distance.cosine(text_to_vector_v1, text_to_vector_v2)\n",
        "    # print('Similarity of two sentences are equal to ',round((1-cosine)*100,2),'%')\n",
        "    return round(1-cosine, 4)\n"
      ],
      "metadata": {
        "id": "db2imEd_GGr7"
      },
      "execution_count": null,
      "outputs": []
    },
    {
      "cell_type": "code",
      "source": [
        "def plot_search_quality(models, plot_to_search_dict, show_n, similarity_method='model', n_samples=1000):\n",
        "  plot_similarity = {}\n",
        "  i = 0\n",
        "  for orig_plot, key_words in plot_to_search_dict.items():\n",
        "    if i > n_samples:\n",
        "      break\n",
        "    if i % 100 == 0:\n",
        "      print(i)\n",
        "    plot_query = \" \".join([key_word[1] for idx, key_word in enumerate(key_words) if idx < 5])\n",
        "    for model_name, model in models.items():\n",
        "      if model_name not in plot_similarity:\n",
        "        plot_similarity[model_name] = []\n",
        "      results = model.search(plot_query, show_n=show_n)\n",
        "      for res in results:\n",
        "        if 'model' in similarity_method:\n",
        "           similarity = get_model_based_cos_similarity(orig_plot, res['Plot'], similarity_model)\n",
        "        elif 'count' in similarity_method:\n",
        "          similarity = get_countvector_based_cos_similarity(orig_plot, res['Plot'])\n",
        "        plot_similarity[model_name].append(similarity)\n",
        "    i += 1\n",
        "  return plot_similarity\n",
        "# {model_name: {'mean': np.mean(scores), 'max':np.max(scores), 'min':np.min(scores), 'std':np.std(scores)} for model_name, scores in plot_similarity.items()}"
      ],
      "metadata": {
        "id": "SmQsJoum7qhP"
      },
      "execution_count": null,
      "outputs": []
    },
    {
      "cell_type": "code",
      "source": [
        "model_based_plot_similarity_keywords = plot_search_quality(models, rake_keywords, show_n=100, similarity_method='model')"
      ],
      "metadata": {
        "id": "cem0BVVgz_FP"
      },
      "execution_count": null,
      "outputs": []
    },
    {
      "cell_type": "code",
      "source": [
        "pickle_out = open(f\"model_based_plot_similarity_keywords.pickle\", \"wb\")\n",
        "pickle.dump(model_based_plot_similarity_keywords, pickle_out)\n",
        "pickle_out.close()"
      ],
      "metadata": {
        "id": "DPAZqoWvNIDo"
      },
      "execution_count": null,
      "outputs": []
    },
    {
      "cell_type": "code",
      "source": [
        "# pickle_in = open(\"model_based_plot_similarity_keywords.pickle\", \"rb\")\n",
        "# model_based_plot_similarity_keywords = pickle.load(pickle_in)\n",
        "# pickle_in.close()"
      ],
      "metadata": {
        "id": "LOLEW5g7VysQ"
      },
      "execution_count": 28,
      "outputs": []
    },
    {
      "cell_type": "code",
      "source": [
        "labels, data = [*zip(*model_based_plot_similarity_keywords.items())]  # 'transpose' items to parallel key, value lists\n",
        "plt.boxplot(data)\n",
        "plt.ylabel('Cosine similarity')\n",
        "plt.xticks(range(1, len(labels) + 1), labels, rotation=10)\n",
        "plt.show()"
      ],
      "metadata": {
        "colab": {
          "base_uri": "https://localhost:8080/",
          "height": 300
        },
        "id": "3V4mut6VVvjG",
        "outputId": "7c0a69ee-ae67-46e7-9c28-be93fea0b15e"
      },
      "execution_count": 40,
      "outputs": [
        {
          "output_type": "display_data",
          "data": {
            "text/plain": [
              "<Figure size 432x288 with 1 Axes>"
            ],
            "image/png": "[encoded data removed]"
          },
          "metadata": {
            "needs_background": "light"
          }
        }
      ]
    },
    {
      "cell_type": "code",
      "source": [
        "for model, d in zip(labels, data):\n",
        "  print(model, stats.describe(d), np.mean(d), np.median(d))"
      ],
      "metadata": {
        "colab": {
          "base_uri": "https://localhost:8080/"
        },
        "id": "oHKS8SmVVlnc",
        "outputId": "808cec01-08e9-42ac-f4e5-904c93370787"
      },
      "execution_count": 41,
      "outputs": [
        {
          "output_type": "stream",
          "name": "stdout",
          "text": [
            "topological_bert_semantic_search DescribeResult(nobs=100100, minmax=(-0.18389883637428284, 1.000000238418579), mean=0.172118670598073, variance=0.010363643504025325, skewness=0.7560753502329283, kurtosis=4.44282708594327) 0.172118670598073 0.16795359551906586\n",
            "untuned_bert_semantic_search + FAISS DescribeResult(nobs=100100, minmax=(-0.09608175605535507, 1.000000238418579), mean=0.30516737300621627, variance=0.014679617300981636, skewness=1.5835650306746782, kurtosis=7.812127553747505) 0.30516737300621627 0.2981119006872177\n",
            "tuned_bert_semantic_search + FAISS DescribeResult(nobs=100100, minmax=(-0.1431911736726761, 1.000000238418579), mean=0.31246796531332927, variance=0.013447488100862916, skewness=1.7830393466304144, kurtosis=9.511786932095642) 0.31246796531332927 0.30729520320892334\n"
          ]
        }
      ]
    },
    {
      "cell_type": "code",
      "source": [
        "count_based_plot_similarity = plot_search_quality(models, rake_keywords, show_n=100, similarity_method='count')"
      ],
      "metadata": {
        "id": "tkQlAg3nBVe7"
      },
      "execution_count": null,
      "outputs": []
    },
    {
      "cell_type": "code",
      "source": [
        "pickle_out = open(f\"count_based_plot_similarity.pickle\", \"wb\")\n",
        "pickle.dump(count_based_plot_similarity, pickle_out)\n",
        "pickle_out.close()"
      ],
      "metadata": {
        "id": "cuzVsuqomqqj"
      },
      "execution_count": null,
      "outputs": []
    },
    {
      "cell_type": "code",
      "source": [
        "# pickle_in = open(\"count_based_plot_similarity.pickle\", \"rb\")\n",
        "# count_based_plot_similarity = pickle.load(pickle_in)\n",
        "# pickle_in.close()"
      ],
      "metadata": {
        "id": "nwUgdLg3WHOL"
      },
      "execution_count": 33,
      "outputs": []
    },
    {
      "cell_type": "code",
      "source": [
        "labels, data = [*zip(*count_based_plot_similarity.items())]  \n",
        "plt.boxplot(data)\n",
        "plt.ylabel('Cosine similarity')\n",
        "plt.xticks(range(1, len(labels) + 1), labels, rotation=10)\n",
        "plt.show();"
      ],
      "metadata": {
        "colab": {
          "base_uri": "https://localhost:8080/",
          "height": 300
        },
        "id": "ft0XwthXIJP0",
        "outputId": "96ec9c01-ba3a-4a58-bce7-e17958f64e64"
      },
      "execution_count": 42,
      "outputs": [
        {
          "output_type": "display_data",
          "data": {
            "text/plain": [
              "<Figure size 432x288 with 1 Axes>"
            ],
            "image/png": "[encoded data removed]"
          },
          "metadata": {
            "needs_background": "light"
          }
        }
      ]
    },
    {
      "cell_type": "code",
      "source": [
        "for model, d in zip(labels, data):\n",
        "  print(model, stats.describe(d), np.mean(d), np.median(d))"
      ],
      "metadata": {
        "colab": {
          "base_uri": "https://localhost:8080/"
        },
        "id": "A7kYUplLWtYa",
        "outputId": "97d98ea0-c69a-4d63-d973-0b7544e601a2"
      },
      "execution_count": 43,
      "outputs": [
        {
          "output_type": "stream",
          "name": "stdout",
          "text": [
            "topological_bert_semantic_search DescribeResult(nobs=100100, minmax=(0.0, 1.0), mean=0.24787901298701298, variance=0.01881528020849842, skewness=0.4380357891236164, kurtosis=0.4798231294434947) 0.24787901298701298 0.2413\n",
            "untuned_bert_semantic_search + FAISS DescribeResult(nobs=100100, minmax=(0.0, 1.0), mean=0.44949583716283714, variance=0.03056164056559352, skewness=-0.05511066870442141, kurtosis=-0.09268761383826218) 0.44949583716283714 0.4613\n",
            "tuned_bert_semantic_search + FAISS DescribeResult(nobs=100100, minmax=(0.0, 1.0), mean=0.5368360419580421, variance=0.02200890595658122, skewness=-0.35390353592350476, kurtosis=0.47417039931641236) 0.5368360419580421 0.5549\n"
          ]
        }
      ]
    },
    {
      "cell_type": "code",
      "source": [
        "def paraphraser(text, num_return_sequences=3, num_beams=3, model_name=\"tuner007/pegasus_paraphrase\"):\n",
        "  from transformers import PegasusForConditionalGeneration, PegasusTokenizerFast\n",
        "  model = PegasusForConditionalGeneration.from_pretrained(model_name)\n",
        "  tokenizer = PegasusTokenizerFast.from_pretrained(model_name)\n",
        "  tokens = tokenizer([text], truncation=True, padding=\"longest\", return_tensors=\"pt\")\n",
        "  outputs = model.generate(tokens.input_ids, num_beams=num_beams, num_return_sequences=num_return_sequences)\n",
        "  return tokenizer.batch_decode(outputs, skip_special_tokens=True)"
      ],
      "metadata": {
        "id": "f_3tvhKWHHW4"
      },
      "execution_count": null,
      "outputs": []
    },
    {
      "cell_type": "code",
      "source": [
        "paraphraser('Learning is the process of acquiring new understanding, knowledge, and behaviors.')"
      ],
      "metadata": {
        "id": "5lTecf8TBJ8e",
        "colab": {
          "base_uri": "https://localhost:8080/"
        },
        "outputId": "8d21a32a-3959-4000-c5a8-e27d5aa03e24"
      },
      "execution_count": null,
      "outputs": [
        {
          "output_type": "execute_result",
          "data": {
            "text/plain": [
              "['Learning is the process of acquiring new knowledge.',\n",
              " 'Learning is the process of gaining new knowledge.',\n",
              " 'Learning is the acquisition of new knowledge.']"
            ]
          },
          "metadata": {},
          "execution_count": 110
        }
      ]
    },
    {
      "cell_type": "markdown",
      "source": [
        "Get paraphrased plots to be used as queries."
      ],
      "metadata": {
        "id": "IqDEC9aHX_C_"
      }
    },
    {
      "cell_type": "code",
      "source": [
        "from random import sample\n",
        "random_idx = sample(list(range(df.shape[0])), 1000)\n",
        "\n",
        "paraphrased_plots = {}\n",
        "k = 0\n",
        "for i, row in df.iterrows():\n",
        "  if i not in random_idx:\n",
        "    continue\n",
        "  if k % 100 == 0:\n",
        "    print(k)\n",
        "  k += 1\n",
        "  paraphrased_plots[row['Plot']] = paraphraser(row['Plot'], num_return_sequences=1, num_beams=5)"
      ],
      "metadata": {
        "id": "BArsWGLY2H7c"
      },
      "execution_count": null,
      "outputs": []
    },
    {
      "cell_type": "code",
      "source": [
        "# pickle_out = open(f\"paraphrased_plots.pickle\", \"wb\")\n",
        "# pickle.dump(paraphrased_plots, pickle_out)\n",
        "# pickle_out.close()"
      ],
      "metadata": {
        "id": "YZoPNyMJ3cKk"
      },
      "execution_count": null,
      "outputs": []
    },
    {
      "cell_type": "code",
      "source": [
        "pickle_in = open(\"paraphrased_plots.pickle\", \"rb\")\n",
        "paraphrased_plots = pickle.load(pickle_in)\n",
        "pickle_in.close()"
      ],
      "metadata": {
        "id": "WauZmraWTpDl"
      },
      "execution_count": null,
      "outputs": []
    },
    {
      "cell_type": "code",
      "source": [
        "len(paraphrased_plots)"
      ],
      "metadata": {
        "colab": {
          "base_uri": "https://localhost:8080/"
        },
        "id": "upDNOTpaT6c6",
        "outputId": "d16d4525-606d-4134-90b8-7a99767c4773"
      },
      "execution_count": null,
      "outputs": [
        {
          "output_type": "execute_result",
          "data": {
            "text/plain": [
              "1000"
            ]
          },
          "metadata": {},
          "execution_count": 56
        }
      ]
    },
    {
      "cell_type": "code",
      "source": [
        "model_based_plot_similarity_paraphrased_plots = plot_search_quality(models, paraphrased_plots, show_n=100, similarity_method='model')"
      ],
      "metadata": {
        "id": "HYhVaJSzT6i4"
      },
      "execution_count": null,
      "outputs": []
    },
    {
      "cell_type": "code",
      "source": [
        "# pickle_out = open(f\"model_based_plot_similarity_paraphrased_plots.pickle\", \"wb\")\n",
        "# pickle.dump(model_based_plot_similarity_paraphrased_plots, pickle_out)\n",
        "# pickle_out.close()"
      ],
      "metadata": {
        "id": "YI1QuMX-mipH"
      },
      "execution_count": null,
      "outputs": []
    },
    {
      "cell_type": "code",
      "source": [
        "# pickle_in = open(\"model_based_plot_similarity_paraphrased_plots.pickle\", \"rb\")\n",
        "# model_based_plot_similarity_paraphrased_plots = pickle.load(pickle_in)\n",
        "# pickle_in.close()"
      ],
      "metadata": {
        "id": "gO8BNKfIWNsE"
      },
      "execution_count": 36,
      "outputs": []
    },
    {
      "cell_type": "code",
      "source": [
        "labels, data = [*zip(*model_based_plot_similarity_paraphrased_plots.items())]  \n",
        "plt.boxplot(data)\n",
        "plt.ylabel('Cosine similarity')\n",
        "plt.xticks(range(1, len(labels) + 1), labels, rotation=10)\n",
        "plt.show()"
      ],
      "metadata": {
        "colab": {
          "base_uri": "https://localhost:8080/",
          "height": 300
        },
        "id": "8pvTPXzhUXoY",
        "outputId": "90560e81-e6da-4900-c11d-7db2694b855c"
      },
      "execution_count": 44,
      "outputs": [
        {
          "output_type": "display_data",
          "data": {
            "text/plain": [
              "<Figure size 432x288 with 1 Axes>"
            ],
            "image/png": "[encoded data removed]"
          },
          "metadata": {
            "needs_background": "light"
          }
        }
      ]
    },
    {
      "cell_type": "code",
      "source": [
        "for model, d in zip(labels, data):\n",
        "  print(model, stats.describe(d), np.mean(d), np.median(d))"
      ],
      "metadata": {
        "colab": {
          "base_uri": "https://localhost:8080/"
        },
        "id": "bm3U4vG1Wx_v",
        "outputId": "ad200be7-6386-4dd9-debf-5a46f6bc6e5d"
      },
      "execution_count": 46,
      "outputs": [
        {
          "output_type": "stream",
          "name": "stdout",
          "text": [
            "topological_bert_semantic_search DescribeResult(nobs=100000, minmax=(-0.18929317593574524, 1.0000001192092896), mean=0.16060589828961297, variance=0.010705188944630746, skewness=0.30570019221300937, kurtosis=0.24653426423238622) 0.16060589828961297 0.155197411775589\n",
            "untuned_bert_semantic_search + FAISS DescribeResult(nobs=100000, minmax=(-0.17567408084869385, 1.0000001192092896), mean=0.17639754170141184, variance=0.010278989566942072, skewness=0.21020151647532745, kurtosis=0.20267938684169629) 0.17639754170141184 0.17329883575439453\n",
            "tuned_bert_semantic_search + FAISS DescribeResult(nobs=100000, minmax=(-0.1848665475845337, 1.0), mean=0.1878942391341133, variance=0.010056420850920119, skewness=0.15282381859324254, kurtosis=0.12378649139447662) 0.1878942391341133 0.18565576523542404\n"
          ]
        }
      ]
    },
    {
      "cell_type": "code",
      "source": [
        "paraphrased_plots[list(paraphrased_plots.keys())[0]]"
      ],
      "metadata": {
        "colab": {
          "base_uri": "https://localhost:8080/"
        },
        "id": "_cY6e5MU89u1",
        "outputId": "045998c2-5762-452c-e888-e19546fd0f17"
      },
      "execution_count": null,
      "outputs": [
        {
          "output_type": "execute_result",
          "data": {
            "text/plain": [
              "['A pair of boys play a trick on a detective who thinks he is a better sleuth than a famous detective.']"
            ]
          },
          "metadata": {},
          "execution_count": 59
        }
      ]
    },
    {
      "cell_type": "code",
      "source": [
        "list(paraphrased_plots.keys())[0]"
      ],
      "metadata": {
        "colab": {
          "base_uri": "https://localhost:8080/",
          "height": 107
        },
        "id": "iYnq2QXP9JH_",
        "outputId": "d490d54c-efb1-4532-fbfd-20251e69c90c"
      },
      "execution_count": null,
      "outputs": [
        {
          "output_type": "execute_result",
          "data": {
            "text/plain": [
              "\"Hemlock Hoax is a detective who has little respect in the small tropical town where he lives, despite the fact that he thinks he is a better sleuth than Sherlock Holmes. A pair of boys decide to play a trick on Hoax and tell him about a murder. Hoax rushes to scene of the crime where he discovers a shred of cloth, later finding that a tramp is wearing the same type of clothes that he found. The tramp runs away and Hoax gives chase, with other people helping the pursuit. Eventually, Hoax captures the tramp with the aid of a police officer, and returns to the victim's body with the man. Hoax then comes to a realization that the body was just a dummy that had been stuffed with the leaves. The crowd has a laugh at Hoax's expense while the two boys are punished.[1]\""
            ],
            "application/vnd.google.colaboratory.intrinsic+json": {
              "type": "string"
            }
          },
          "metadata": {},
          "execution_count": 60
        }
      ]
    },
    {
      "cell_type": "code",
      "source": [
        "df.Plot[0]"
      ],
      "metadata": {
        "colab": {
          "base_uri": "https://localhost:8080/",
          "height": 89
        },
        "id": "8bdyO0HQZ3s9",
        "outputId": "c51f6561-7952-471e-a5d4-46c165a26102"
      },
      "execution_count": null,
      "outputs": [
        {
          "output_type": "execute_result",
          "data": {
            "text/plain": [
              "\"A bartender is working at a saloon, serving drinks to customers. After he fills a stereotypically Irish man's bucket with beer, Carrie Nation and her followers burst inside. They assault the Irish man, pulling his hat over his eyes and then dumping the beer over his head. The group then begin wrecking the bar, smashing the fixtures, mirrors, and breaking the cash register. The bartender then sprays seltzer water in Nation's face before a group of policemen appear and order everybody to leave.[1]\""
            ],
            "application/vnd.google.colaboratory.intrinsic+json": {
              "type": "string"
            }
          },
          "metadata": {},
          "execution_count": 146
        }
      ]
    },
    {
      "cell_type": "code",
      "source": [],
      "metadata": {
        "id": "Pjv4xkngdT1R"
      },
      "execution_count": null,
      "outputs": []
    }
  ]
}